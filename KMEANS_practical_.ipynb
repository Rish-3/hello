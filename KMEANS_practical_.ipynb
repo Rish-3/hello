{
  "cells": [
    {
      "cell_type": "markdown",
      "metadata": {
        "id": "view-in-github",
        "colab_type": "text"
      },
      "source": [
        "<a href=\"https://colab.research.google.com/github/Rish-3/hello/blob/main/KMEANS_practical_.ipynb\" target=\"_parent\"><img src=\"https://colab.research.google.com/assets/colab-badge.svg\" alt=\"Open In Colab\"/></a>"
      ]
    },
    {
      "cell_type": "code",
      "execution_count": null,
      "id": "e7320e70",
      "metadata": {
        "id": "e7320e70"
      },
      "outputs": [],
      "source": [
        "\n",
        "import os\n",
        "import warnings\n",
        "warnings.simplefilter(action='ignore')\n",
        "\n",
        "import numpy as np\n",
        "import pandas as pd \n",
        "import matplotlib.pyplot as plt \n",
        "import seaborn as sns \n",
        "import sklearn as sl\n",
        "\n"
      ]
    },
    {
      "cell_type": "code",
      "execution_count": null,
      "id": "83cc3b18",
      "metadata": {
        "id": "83cc3b18"
      },
      "outputs": [],
      "source": [
        "data = pd.read_csv(\"emotional data.csv\")"
      ]
    },
    {
      "cell_type": "code",
      "execution_count": null,
      "id": "50f22452",
      "metadata": {
        "id": "50f22452",
        "outputId": "2f020f10-ae99-4ec8-c749-ea4bc7993e02"
      },
      "outputs": [
        {
          "data": {
            "text/html": [
              "<div>\n",
              "<style scoped>\n",
              "    .dataframe tbody tr th:only-of-type {\n",
              "        vertical-align: middle;\n",
              "    }\n",
              "\n",
              "    .dataframe tbody tr th {\n",
              "        vertical-align: top;\n",
              "    }\n",
              "\n",
              "    .dataframe thead th {\n",
              "        text-align: right;\n",
              "    }\n",
              "</style>\n",
              "<table border=\"1\" class=\"dataframe\">\n",
              "  <thead>\n",
              "    <tr style=\"text-align: right;\">\n",
              "      <th></th>\n",
              "      <th>status_id</th>\n",
              "      <th>status_type</th>\n",
              "      <th>status_published</th>\n",
              "      <th>num_reactions</th>\n",
              "      <th>num_comments</th>\n",
              "      <th>num_shares</th>\n",
              "      <th>num_likes</th>\n",
              "      <th>num_loves</th>\n",
              "      <th>num_wows</th>\n",
              "      <th>num_hahas</th>\n",
              "      <th>num_sads</th>\n",
              "      <th>num_angrys</th>\n",
              "      <th>Column1</th>\n",
              "      <th>Column2</th>\n",
              "      <th>Column3</th>\n",
              "      <th>Column4</th>\n",
              "    </tr>\n",
              "  </thead>\n",
              "  <tbody>\n",
              "    <tr>\n",
              "      <th>0</th>\n",
              "      <td>246675545449582_1649696485147474</td>\n",
              "      <td>video</td>\n",
              "      <td>4/22/2018 6:00</td>\n",
              "      <td>529</td>\n",
              "      <td>512</td>\n",
              "      <td>262</td>\n",
              "      <td>432</td>\n",
              "      <td>92</td>\n",
              "      <td>3</td>\n",
              "      <td>1</td>\n",
              "      <td>1</td>\n",
              "      <td>0</td>\n",
              "      <td>NaN</td>\n",
              "      <td>NaN</td>\n",
              "      <td>NaN</td>\n",
              "      <td>NaN</td>\n",
              "    </tr>\n",
              "    <tr>\n",
              "      <th>1</th>\n",
              "      <td>246675545449582_1649426988507757</td>\n",
              "      <td>photo</td>\n",
              "      <td>4/21/2018 22:45</td>\n",
              "      <td>150</td>\n",
              "      <td>0</td>\n",
              "      <td>0</td>\n",
              "      <td>150</td>\n",
              "      <td>0</td>\n",
              "      <td>0</td>\n",
              "      <td>0</td>\n",
              "      <td>0</td>\n",
              "      <td>0</td>\n",
              "      <td>NaN</td>\n",
              "      <td>NaN</td>\n",
              "      <td>NaN</td>\n",
              "      <td>NaN</td>\n",
              "    </tr>\n",
              "  </tbody>\n",
              "</table>\n",
              "</div>"
            ],
            "text/plain": [
              "                          status_id status_type status_published  \\\n",
              "0  246675545449582_1649696485147474       video   4/22/2018 6:00   \n",
              "1  246675545449582_1649426988507757       photo  4/21/2018 22:45   \n",
              "\n",
              "   num_reactions  num_comments  num_shares  num_likes  num_loves  num_wows  \\\n",
              "0            529           512         262        432         92         3   \n",
              "1            150             0           0        150          0         0   \n",
              "\n",
              "   num_hahas  num_sads  num_angrys  Column1  Column2  Column3  Column4  \n",
              "0          1         1           0      NaN      NaN      NaN      NaN  \n",
              "1          0         0           0      NaN      NaN      NaN      NaN  "
            ]
          },
          "execution_count": 4,
          "metadata": {},
          "output_type": "execute_result"
        }
      ],
      "source": [
        "data.head(2)"
      ]
    },
    {
      "cell_type": "code",
      "execution_count": null,
      "id": "28a119e8",
      "metadata": {
        "id": "28a119e8"
      },
      "outputs": [],
      "source": []
    },
    {
      "cell_type": "markdown",
      "source": [
        "The columns Column1,Column2,Column3,Column4 are not part of the original data. These colums might have appeared in the data due to format conversion. \n",
        "We will exclude these columns from the analysis."
      ],
      "metadata": {
        "id": "hL16wA-4StBD"
      },
      "id": "hL16wA-4StBD"
    },
    {
      "cell_type": "code",
      "execution_count": null,
      "id": "5ad53ad1",
      "metadata": {
        "id": "5ad53ad1",
        "outputId": "ac89003a-c269-42fb-e2d9-7c12f69ce124"
      },
      "outputs": [
        {
          "data": {
            "text/html": [
              "<div>\n",
              "<style scoped>\n",
              "    .dataframe tbody tr th:only-of-type {\n",
              "        vertical-align: middle;\n",
              "    }\n",
              "\n",
              "    .dataframe tbody tr th {\n",
              "        vertical-align: top;\n",
              "    }\n",
              "\n",
              "    .dataframe thead th {\n",
              "        text-align: right;\n",
              "    }\n",
              "</style>\n",
              "<table border=\"1\" class=\"dataframe\">\n",
              "  <thead>\n",
              "    <tr style=\"text-align: right;\">\n",
              "      <th></th>\n",
              "      <th>status_id</th>\n",
              "      <th>status_type</th>\n",
              "      <th>status_published</th>\n",
              "      <th>num_reactions</th>\n",
              "      <th>num_comments</th>\n",
              "      <th>num_shares</th>\n",
              "      <th>num_likes</th>\n",
              "      <th>num_loves</th>\n",
              "      <th>num_wows</th>\n",
              "      <th>num_hahas</th>\n",
              "      <th>num_sads</th>\n",
              "      <th>num_angrys</th>\n",
              "    </tr>\n",
              "  </thead>\n",
              "  <tbody>\n",
              "    <tr>\n",
              "      <th>0</th>\n",
              "      <td>246675545449582_1649696485147474</td>\n",
              "      <td>video</td>\n",
              "      <td>4/22/2018 6:00</td>\n",
              "      <td>529</td>\n",
              "      <td>512</td>\n",
              "      <td>262</td>\n",
              "      <td>432</td>\n",
              "      <td>92</td>\n",
              "      <td>3</td>\n",
              "      <td>1</td>\n",
              "      <td>1</td>\n",
              "      <td>0</td>\n",
              "    </tr>\n",
              "    <tr>\n",
              "      <th>1</th>\n",
              "      <td>246675545449582_1649426988507757</td>\n",
              "      <td>photo</td>\n",
              "      <td>4/21/2018 22:45</td>\n",
              "      <td>150</td>\n",
              "      <td>0</td>\n",
              "      <td>0</td>\n",
              "      <td>150</td>\n",
              "      <td>0</td>\n",
              "      <td>0</td>\n",
              "      <td>0</td>\n",
              "      <td>0</td>\n",
              "      <td>0</td>\n",
              "    </tr>\n",
              "    <tr>\n",
              "      <th>2</th>\n",
              "      <td>246675545449582_1648730588577397</td>\n",
              "      <td>video</td>\n",
              "      <td>4/21/2018 6:17</td>\n",
              "      <td>227</td>\n",
              "      <td>236</td>\n",
              "      <td>57</td>\n",
              "      <td>204</td>\n",
              "      <td>21</td>\n",
              "      <td>1</td>\n",
              "      <td>1</td>\n",
              "      <td>0</td>\n",
              "      <td>0</td>\n",
              "    </tr>\n",
              "    <tr>\n",
              "      <th>3</th>\n",
              "      <td>246675545449582_1648576705259452</td>\n",
              "      <td>photo</td>\n",
              "      <td>4/21/2018 2:29</td>\n",
              "      <td>111</td>\n",
              "      <td>0</td>\n",
              "      <td>0</td>\n",
              "      <td>111</td>\n",
              "      <td>0</td>\n",
              "      <td>0</td>\n",
              "      <td>0</td>\n",
              "      <td>0</td>\n",
              "      <td>0</td>\n",
              "    </tr>\n",
              "    <tr>\n",
              "      <th>4</th>\n",
              "      <td>246675545449582_1645700502213739</td>\n",
              "      <td>photo</td>\n",
              "      <td>4/18/2018 3:22</td>\n",
              "      <td>213</td>\n",
              "      <td>0</td>\n",
              "      <td>0</td>\n",
              "      <td>204</td>\n",
              "      <td>9</td>\n",
              "      <td>0</td>\n",
              "      <td>0</td>\n",
              "      <td>0</td>\n",
              "      <td>0</td>\n",
              "    </tr>\n",
              "  </tbody>\n",
              "</table>\n",
              "</div>"
            ],
            "text/plain": [
              "                          status_id status_type status_published  \\\n",
              "0  246675545449582_1649696485147474       video   4/22/2018 6:00   \n",
              "1  246675545449582_1649426988507757       photo  4/21/2018 22:45   \n",
              "2  246675545449582_1648730588577397       video   4/21/2018 6:17   \n",
              "3  246675545449582_1648576705259452       photo   4/21/2018 2:29   \n",
              "4  246675545449582_1645700502213739       photo   4/18/2018 3:22   \n",
              "\n",
              "   num_reactions  num_comments  num_shares  num_likes  num_loves  num_wows  \\\n",
              "0            529           512         262        432         92         3   \n",
              "1            150             0           0        150          0         0   \n",
              "2            227           236          57        204         21         1   \n",
              "3            111             0           0        111          0         0   \n",
              "4            213             0           0        204          9         0   \n",
              "\n",
              "   num_hahas  num_sads  num_angrys  \n",
              "0          1         1           0  \n",
              "1          0         0           0  \n",
              "2          1         0           0  \n",
              "3          0         0           0  \n",
              "4          0         0           0  "
            ]
          },
          "execution_count": 5,
          "metadata": {},
          "output_type": "execute_result"
        }
      ],
      "source": [
        "data = data[data.columns[:-4]]\n",
        "data.head()"
      ]
    },
    {
      "cell_type": "code",
      "execution_count": null,
      "id": "fcd171af",
      "metadata": {
        "id": "fcd171af",
        "outputId": "5da39ab6-c3e7-4861-f05a-589c240bacb4"
      },
      "outputs": [
        {
          "name": "stdout",
          "output_type": "stream",
          "text": [
            "<class 'pandas.core.frame.DataFrame'>\n",
            "RangeIndex: 7050 entries, 0 to 7049\n",
            "Data columns (total 12 columns):\n",
            " #   Column            Non-Null Count  Dtype \n",
            "---  ------            --------------  ----- \n",
            " 0   status_id         7050 non-null   object\n",
            " 1   status_type       7050 non-null   object\n",
            " 2   status_published  7050 non-null   object\n",
            " 3   num_reactions     7050 non-null   int64 \n",
            " 4   num_comments      7050 non-null   int64 \n",
            " 5   num_shares        7050 non-null   int64 \n",
            " 6   num_likes         7050 non-null   int64 \n",
            " 7   num_loves         7050 non-null   int64 \n",
            " 8   num_wows          7050 non-null   int64 \n",
            " 9   num_hahas         7050 non-null   int64 \n",
            " 10  num_sads          7050 non-null   int64 \n",
            " 11  num_angrys        7050 non-null   int64 \n",
            "dtypes: int64(9), object(3)\n",
            "memory usage: 661.1+ KB\n"
          ]
        }
      ],
      "source": [
        "data.info()"
      ]
    },
    {
      "cell_type": "code",
      "execution_count": null,
      "id": "f81aa3fd",
      "metadata": {
        "id": "f81aa3fd"
      },
      "outputs": [],
      "source": []
    },
    {
      "cell_type": "markdown",
      "source": [
        "From the pandas DataFrame meta information, it is evident that the data is complete w.r.f to the description. There are 7050 entries, and no null values are reported here. \n",
        "Let's proceed to expalore the data!"
      ],
      "metadata": {
        "id": "P6zyKfk4SpXA"
      },
      "id": "P6zyKfk4SpXA"
    },
    {
      "cell_type": "code",
      "execution_count": null,
      "id": "9e8d3aa3",
      "metadata": {
        "id": "9e8d3aa3",
        "outputId": "e5710432-a392-4f8b-a70b-5574be151166"
      },
      "outputs": [
        {
          "data": {
            "text/plain": [
              "status_id           6997\n",
              "status_type            4\n",
              "status_published    6913\n",
              "num_reactions       1067\n",
              "num_comments         993\n",
              "num_shares           501\n",
              "num_likes           1044\n",
              "num_loves            229\n",
              "num_wows              65\n",
              "num_hahas             42\n",
              "num_sads              24\n",
              "num_angrys            14\n",
              "dtype: int64"
            ]
          },
          "execution_count": 7,
          "metadata": {},
          "output_type": "execute_result"
        }
      ],
      "source": [
        "data.nunique()"
      ]
    },
    {
      "cell_type": "code",
      "execution_count": null,
      "id": "e4ff56aa",
      "metadata": {
        "id": "e4ff56aa"
      },
      "outputs": [],
      "source": []
    },
    {
      "cell_type": "markdown",
      "source": [
        "From the unique value counts, it is evident that from the 7050 observations, only 6997 is unique live selling status. \n",
        "There are four types of status available in the data. \n",
        "From this, we can infer that around 53 observations may be duplicated or some other business phenomena are involved in the status_id column."
      ],
      "metadata": {
        "id": "4g2hhZBESjRJ"
      },
      "id": "4g2hhZBESjRJ"
    },
    {
      "cell_type": "code",
      "execution_count": null,
      "id": "efdc426b",
      "metadata": {
        "id": "efdc426b",
        "outputId": "1d2140e4-0a32-4fea-b8c9-7c83803f1529"
      },
      "outputs": [
        {
          "data": {
            "text/html": [
              "<div>\n",
              "<style scoped>\n",
              "    .dataframe tbody tr th:only-of-type {\n",
              "        vertical-align: middle;\n",
              "    }\n",
              "\n",
              "    .dataframe tbody tr th {\n",
              "        vertical-align: top;\n",
              "    }\n",
              "\n",
              "    .dataframe thead th {\n",
              "        text-align: right;\n",
              "    }\n",
              "</style>\n",
              "<table border=\"1\" class=\"dataframe\">\n",
              "  <thead>\n",
              "    <tr style=\"text-align: right;\">\n",
              "      <th></th>\n",
              "      <th>status_id</th>\n",
              "      <th>status_type</th>\n",
              "      <th>status_published</th>\n",
              "      <th>num_reactions</th>\n",
              "      <th>num_comments</th>\n",
              "      <th>num_shares</th>\n",
              "      <th>num_likes</th>\n",
              "      <th>num_loves</th>\n",
              "      <th>num_wows</th>\n",
              "      <th>num_hahas</th>\n",
              "      <th>num_sads</th>\n",
              "      <th>num_angrys</th>\n",
              "    </tr>\n",
              "  </thead>\n",
              "  <tbody>\n",
              "    <tr>\n",
              "      <th>1698</th>\n",
              "      <td>246675545449582_326883450762124</td>\n",
              "      <td>photo</td>\n",
              "      <td>10/11/2013 8:23</td>\n",
              "      <td>211</td>\n",
              "      <td>2</td>\n",
              "      <td>0</td>\n",
              "      <td>211</td>\n",
              "      <td>0</td>\n",
              "      <td>0</td>\n",
              "      <td>0</td>\n",
              "      <td>0</td>\n",
              "      <td>0</td>\n",
              "    </tr>\n",
              "    <tr>\n",
              "      <th>1729</th>\n",
              "      <td>246675545449582_429583263825475</td>\n",
              "      <td>photo</td>\n",
              "      <td>9/11/2013 0:12</td>\n",
              "      <td>537</td>\n",
              "      <td>16</td>\n",
              "      <td>1</td>\n",
              "      <td>537</td>\n",
              "      <td>0</td>\n",
              "      <td>0</td>\n",
              "      <td>0</td>\n",
              "      <td>0</td>\n",
              "      <td>0</td>\n",
              "    </tr>\n",
              "    <tr>\n",
              "      <th>6221</th>\n",
              "      <td>819700534875473_1002372733274918</td>\n",
              "      <td>video</td>\n",
              "      <td>6/10/2018 3:43</td>\n",
              "      <td>376</td>\n",
              "      <td>20</td>\n",
              "      <td>3</td>\n",
              "      <td>354</td>\n",
              "      <td>19</td>\n",
              "      <td>3</td>\n",
              "      <td>0</td>\n",
              "      <td>0</td>\n",
              "      <td>0</td>\n",
              "    </tr>\n",
              "    <tr>\n",
              "      <th>6222</th>\n",
              "      <td>819700534875473_1001982519980606</td>\n",
              "      <td>photo</td>\n",
              "      <td>6/9/2018 22:53</td>\n",
              "      <td>255</td>\n",
              "      <td>7</td>\n",
              "      <td>4</td>\n",
              "      <td>249</td>\n",
              "      <td>6</td>\n",
              "      <td>0</td>\n",
              "      <td>0</td>\n",
              "      <td>0</td>\n",
              "      <td>0</td>\n",
              "    </tr>\n",
              "    <tr>\n",
              "      <th>6223</th>\n",
              "      <td>819700534875473_1000607730118085</td>\n",
              "      <td>photo</td>\n",
              "      <td>6/7/2018 7:01</td>\n",
              "      <td>1704</td>\n",
              "      <td>21</td>\n",
              "      <td>3</td>\n",
              "      <td>1685</td>\n",
              "      <td>15</td>\n",
              "      <td>2</td>\n",
              "      <td>2</td>\n",
              "      <td>0</td>\n",
              "      <td>0</td>\n",
              "    </tr>\n",
              "  </tbody>\n",
              "</table>\n",
              "</div>"
            ],
            "text/plain": [
              "                             status_id status_type status_published  \\\n",
              "1698   246675545449582_326883450762124       photo  10/11/2013 8:23   \n",
              "1729   246675545449582_429583263825475       photo   9/11/2013 0:12   \n",
              "6221  819700534875473_1002372733274918       video   6/10/2018 3:43   \n",
              "6222  819700534875473_1001982519980606       photo   6/9/2018 22:53   \n",
              "6223  819700534875473_1000607730118085       photo    6/7/2018 7:01   \n",
              "\n",
              "      num_reactions  num_comments  num_shares  num_likes  num_loves  num_wows  \\\n",
              "1698            211             2           0        211          0         0   \n",
              "1729            537            16           1        537          0         0   \n",
              "6221            376            20           3        354         19         3   \n",
              "6222            255             7           4        249          6         0   \n",
              "6223           1704            21           3       1685         15         2   \n",
              "\n",
              "      num_hahas  num_sads  num_angrys  \n",
              "1698          0         0           0  \n",
              "1729          0         0           0  \n",
              "6221          0         0           0  \n",
              "6222          0         0           0  \n",
              "6223          2         0           0  "
            ]
          },
          "execution_count": 8,
          "metadata": {},
          "output_type": "execute_result"
        }
      ],
      "source": [
        "duplicated_data = data[data['status_id'].duplicated() == True]\n",
        "duplicated_data.head()"
      ]
    },
    {
      "cell_type": "code",
      "execution_count": null,
      "id": "8cf7d9c3",
      "metadata": {
        "id": "8cf7d9c3",
        "outputId": "dd843c89-c287-4947-e875-1196b9a15430"
      },
      "outputs": [
        {
          "data": {
            "text/html": [
              "<div>\n",
              "<style scoped>\n",
              "    .dataframe tbody tr th:only-of-type {\n",
              "        vertical-align: middle;\n",
              "    }\n",
              "\n",
              "    .dataframe tbody tr th {\n",
              "        vertical-align: top;\n",
              "    }\n",
              "\n",
              "    .dataframe thead th {\n",
              "        text-align: right;\n",
              "    }\n",
              "</style>\n",
              "<table border=\"1\" class=\"dataframe\">\n",
              "  <thead>\n",
              "    <tr style=\"text-align: right;\">\n",
              "      <th></th>\n",
              "      <th>status_id</th>\n",
              "      <th>status_type</th>\n",
              "      <th>status_published</th>\n",
              "      <th>num_reactions</th>\n",
              "      <th>num_comments</th>\n",
              "      <th>num_shares</th>\n",
              "      <th>num_likes</th>\n",
              "      <th>num_loves</th>\n",
              "      <th>num_wows</th>\n",
              "      <th>num_hahas</th>\n",
              "      <th>num_sads</th>\n",
              "      <th>num_angrys</th>\n",
              "    </tr>\n",
              "  </thead>\n",
              "  <tbody>\n",
              "    <tr>\n",
              "      <th>6267</th>\n",
              "      <td>819700534875473_955743124604546</td>\n",
              "      <td>photo</td>\n",
              "      <td>3/22/2018 3:48</td>\n",
              "      <td>879</td>\n",
              "      <td>165</td>\n",
              "      <td>18</td>\n",
              "      <td>867</td>\n",
              "      <td>4</td>\n",
              "      <td>8</td>\n",
              "      <td>0</td>\n",
              "      <td>0</td>\n",
              "      <td>0</td>\n",
              "    </tr>\n",
              "    <tr>\n",
              "      <th>6268</th>\n",
              "      <td>819700534875473_955149101330615</td>\n",
              "      <td>photo</td>\n",
              "      <td>3/21/2018 1:15</td>\n",
              "      <td>114</td>\n",
              "      <td>6</td>\n",
              "      <td>1</td>\n",
              "      <td>108</td>\n",
              "      <td>3</td>\n",
              "      <td>3</td>\n",
              "      <td>0</td>\n",
              "      <td>0</td>\n",
              "      <td>0</td>\n",
              "    </tr>\n",
              "    <tr>\n",
              "      <th>6269</th>\n",
              "      <td>819700534875473_954387151406810</td>\n",
              "      <td>photo</td>\n",
              "      <td>3/20/2018 1:54</td>\n",
              "      <td>186</td>\n",
              "      <td>15</td>\n",
              "      <td>1</td>\n",
              "      <td>172</td>\n",
              "      <td>3</td>\n",
              "      <td>11</td>\n",
              "      <td>0</td>\n",
              "      <td>0</td>\n",
              "      <td>0</td>\n",
              "    </tr>\n",
              "    <tr>\n",
              "      <th>6270</th>\n",
              "      <td>819700534875473_953048221540703</td>\n",
              "      <td>photo</td>\n",
              "      <td>3/18/2018 4:28</td>\n",
              "      <td>1985</td>\n",
              "      <td>39</td>\n",
              "      <td>21</td>\n",
              "      <td>1961</td>\n",
              "      <td>11</td>\n",
              "      <td>12</td>\n",
              "      <td>0</td>\n",
              "      <td>1</td>\n",
              "      <td>0</td>\n",
              "    </tr>\n",
              "    <tr>\n",
              "      <th>6271</th>\n",
              "      <td>819700534875473_951614605017398</td>\n",
              "      <td>photo</td>\n",
              "      <td>3/16/2018 1:57</td>\n",
              "      <td>985</td>\n",
              "      <td>71</td>\n",
              "      <td>42</td>\n",
              "      <td>962</td>\n",
              "      <td>5</td>\n",
              "      <td>16</td>\n",
              "      <td>2</td>\n",
              "      <td>0</td>\n",
              "      <td>0</td>\n",
              "    </tr>\n",
              "  </tbody>\n",
              "</table>\n",
              "</div>"
            ],
            "text/plain": [
              "                            status_id status_type status_published  \\\n",
              "6267  819700534875473_955743124604546       photo   3/22/2018 3:48   \n",
              "6268  819700534875473_955149101330615       photo   3/21/2018 1:15   \n",
              "6269  819700534875473_954387151406810       photo   3/20/2018 1:54   \n",
              "6270  819700534875473_953048221540703       photo   3/18/2018 4:28   \n",
              "6271  819700534875473_951614605017398       photo   3/16/2018 1:57   \n",
              "\n",
              "      num_reactions  num_comments  num_shares  num_likes  num_loves  num_wows  \\\n",
              "6267            879           165          18        867          4         8   \n",
              "6268            114             6           1        108          3         3   \n",
              "6269            186            15           1        172          3        11   \n",
              "6270           1985            39          21       1961         11        12   \n",
              "6271            985            71          42        962          5        16   \n",
              "\n",
              "      num_hahas  num_sads  num_angrys  \n",
              "6267          0         0           0  \n",
              "6268          0         0           0  \n",
              "6269          0         0           0  \n",
              "6270          0         1           0  \n",
              "6271          2         0           0  "
            ]
          },
          "execution_count": 9,
          "metadata": {},
          "output_type": "execute_result"
        }
      ],
      "source": [
        "duplicated_data.tail()"
      ]
    },
    {
      "cell_type": "code",
      "execution_count": null,
      "id": "ca19bd22",
      "metadata": {
        "id": "ca19bd22",
        "outputId": "678a0a28-43f1-4aed-b05b-5e12446a2361"
      },
      "outputs": [
        {
          "data": {
            "text/html": [
              "<div>\n",
              "<style scoped>\n",
              "    .dataframe tbody tr th:only-of-type {\n",
              "        vertical-align: middle;\n",
              "    }\n",
              "\n",
              "    .dataframe tbody tr th {\n",
              "        vertical-align: top;\n",
              "    }\n",
              "\n",
              "    .dataframe thead th {\n",
              "        text-align: right;\n",
              "    }\n",
              "</style>\n",
              "<table border=\"1\" class=\"dataframe\">\n",
              "  <thead>\n",
              "    <tr style=\"text-align: right;\">\n",
              "      <th></th>\n",
              "      <th>status_id</th>\n",
              "      <th>status_type</th>\n",
              "      <th>status_published</th>\n",
              "      <th>num_reactions</th>\n",
              "      <th>num_comments</th>\n",
              "      <th>num_shares</th>\n",
              "      <th>num_likes</th>\n",
              "      <th>num_loves</th>\n",
              "      <th>num_wows</th>\n",
              "      <th>num_hahas</th>\n",
              "      <th>num_sads</th>\n",
              "      <th>num_angrys</th>\n",
              "    </tr>\n",
              "  </thead>\n",
              "  <tbody>\n",
              "    <tr>\n",
              "      <th>1488</th>\n",
              "      <td>246675545449582_326883450762124</td>\n",
              "      <td>photo</td>\n",
              "      <td>2/14/2014 3:07</td>\n",
              "      <td>211</td>\n",
              "      <td>2</td>\n",
              "      <td>0</td>\n",
              "      <td>211</td>\n",
              "      <td>0</td>\n",
              "      <td>0</td>\n",
              "      <td>0</td>\n",
              "      <td>0</td>\n",
              "      <td>0</td>\n",
              "    </tr>\n",
              "    <tr>\n",
              "      <th>1698</th>\n",
              "      <td>246675545449582_326883450762124</td>\n",
              "      <td>photo</td>\n",
              "      <td>10/11/2013 8:23</td>\n",
              "      <td>211</td>\n",
              "      <td>2</td>\n",
              "      <td>0</td>\n",
              "      <td>211</td>\n",
              "      <td>0</td>\n",
              "      <td>0</td>\n",
              "      <td>0</td>\n",
              "      <td>0</td>\n",
              "      <td>0</td>\n",
              "    </tr>\n",
              "  </tbody>\n",
              "</table>\n",
              "</div>"
            ],
            "text/plain": [
              "                            status_id status_type status_published  \\\n",
              "1488  246675545449582_326883450762124       photo   2/14/2014 3:07   \n",
              "1698  246675545449582_326883450762124       photo  10/11/2013 8:23   \n",
              "\n",
              "      num_reactions  num_comments  num_shares  num_likes  num_loves  num_wows  \\\n",
              "1488            211             2           0        211          0         0   \n",
              "1698            211             2           0        211          0         0   \n",
              "\n",
              "      num_hahas  num_sads  num_angrys  \n",
              "1488          0         0           0  \n",
              "1698          0         0           0  "
            ]
          },
          "execution_count": 10,
          "metadata": {},
          "output_type": "execute_result"
        }
      ],
      "source": [
        "data[data.status_id == '246675545449582_326883450762124']"
      ]
    },
    {
      "cell_type": "code",
      "execution_count": null,
      "id": "54b339f4",
      "metadata": {
        "id": "54b339f4",
        "outputId": "61af5f80-7671-4681-85d6-c9801574b48c"
      },
      "outputs": [
        {
          "data": {
            "text/html": [
              "<div>\n",
              "<style scoped>\n",
              "    .dataframe tbody tr th:only-of-type {\n",
              "        vertical-align: middle;\n",
              "    }\n",
              "\n",
              "    .dataframe tbody tr th {\n",
              "        vertical-align: top;\n",
              "    }\n",
              "\n",
              "    .dataframe thead th {\n",
              "        text-align: right;\n",
              "    }\n",
              "</style>\n",
              "<table border=\"1\" class=\"dataframe\">\n",
              "  <thead>\n",
              "    <tr style=\"text-align: right;\">\n",
              "      <th></th>\n",
              "      <th>status_id</th>\n",
              "      <th>status_type</th>\n",
              "      <th>status_published</th>\n",
              "      <th>num_reactions</th>\n",
              "      <th>num_comments</th>\n",
              "      <th>num_shares</th>\n",
              "      <th>num_likes</th>\n",
              "      <th>num_loves</th>\n",
              "      <th>num_wows</th>\n",
              "      <th>num_hahas</th>\n",
              "      <th>num_sads</th>\n",
              "      <th>num_angrys</th>\n",
              "    </tr>\n",
              "  </thead>\n",
              "  <tbody>\n",
              "    <tr>\n",
              "      <th>6170</th>\n",
              "      <td>819700534875473_1002372733274918</td>\n",
              "      <td>video</td>\n",
              "      <td>6/10/2018 3:43</td>\n",
              "      <td>376</td>\n",
              "      <td>20</td>\n",
              "      <td>3</td>\n",
              "      <td>354</td>\n",
              "      <td>19</td>\n",
              "      <td>3</td>\n",
              "      <td>0</td>\n",
              "      <td>0</td>\n",
              "      <td>0</td>\n",
              "    </tr>\n",
              "    <tr>\n",
              "      <th>6221</th>\n",
              "      <td>819700534875473_1002372733274918</td>\n",
              "      <td>video</td>\n",
              "      <td>6/10/2018 3:43</td>\n",
              "      <td>376</td>\n",
              "      <td>20</td>\n",
              "      <td>3</td>\n",
              "      <td>354</td>\n",
              "      <td>19</td>\n",
              "      <td>3</td>\n",
              "      <td>0</td>\n",
              "      <td>0</td>\n",
              "      <td>0</td>\n",
              "    </tr>\n",
              "  </tbody>\n",
              "</table>\n",
              "</div>"
            ],
            "text/plain": [
              "                             status_id status_type status_published  \\\n",
              "6170  819700534875473_1002372733274918       video   6/10/2018 3:43   \n",
              "6221  819700534875473_1002372733274918       video   6/10/2018 3:43   \n",
              "\n",
              "      num_reactions  num_comments  num_shares  num_likes  num_loves  num_wows  \\\n",
              "6170            376            20           3        354         19         3   \n",
              "6221            376            20           3        354         19         3   \n",
              "\n",
              "      num_hahas  num_sads  num_angrys  \n",
              "6170          0         0           0  \n",
              "6221          0         0           0  "
            ]
          },
          "execution_count": 11,
          "metadata": {},
          "output_type": "execute_result"
        }
      ],
      "source": [
        "data[data.status_id == '819700534875473_1002372733274918']"
      ]
    },
    {
      "cell_type": "code",
      "execution_count": null,
      "id": "08ba79db",
      "metadata": {
        "id": "08ba79db",
        "outputId": "efc3eea7-270e-45cf-a3d1-a8e28c70c41a"
      },
      "outputs": [
        {
          "data": {
            "text/html": [
              "<div>\n",
              "<style scoped>\n",
              "    .dataframe tbody tr th:only-of-type {\n",
              "        vertical-align: middle;\n",
              "    }\n",
              "\n",
              "    .dataframe tbody tr th {\n",
              "        vertical-align: top;\n",
              "    }\n",
              "\n",
              "    .dataframe thead th {\n",
              "        text-align: right;\n",
              "    }\n",
              "</style>\n",
              "<table border=\"1\" class=\"dataframe\">\n",
              "  <thead>\n",
              "    <tr style=\"text-align: right;\">\n",
              "      <th></th>\n",
              "      <th>status_id</th>\n",
              "      <th>status_type</th>\n",
              "      <th>status_published</th>\n",
              "      <th>num_reactions</th>\n",
              "      <th>num_comments</th>\n",
              "      <th>num_shares</th>\n",
              "      <th>num_likes</th>\n",
              "      <th>num_loves</th>\n",
              "      <th>num_wows</th>\n",
              "      <th>num_hahas</th>\n",
              "      <th>num_sads</th>\n",
              "      <th>num_angrys</th>\n",
              "    </tr>\n",
              "  </thead>\n",
              "  <tbody>\n",
              "    <tr>\n",
              "      <th>6217</th>\n",
              "      <td>819700534875473_955149101330615</td>\n",
              "      <td>photo</td>\n",
              "      <td>3/21/2018 1:15</td>\n",
              "      <td>114</td>\n",
              "      <td>6</td>\n",
              "      <td>1</td>\n",
              "      <td>108</td>\n",
              "      <td>3</td>\n",
              "      <td>3</td>\n",
              "      <td>0</td>\n",
              "      <td>0</td>\n",
              "      <td>0</td>\n",
              "    </tr>\n",
              "    <tr>\n",
              "      <th>6268</th>\n",
              "      <td>819700534875473_955149101330615</td>\n",
              "      <td>photo</td>\n",
              "      <td>3/21/2018 1:15</td>\n",
              "      <td>114</td>\n",
              "      <td>6</td>\n",
              "      <td>1</td>\n",
              "      <td>108</td>\n",
              "      <td>3</td>\n",
              "      <td>3</td>\n",
              "      <td>0</td>\n",
              "      <td>0</td>\n",
              "      <td>0</td>\n",
              "    </tr>\n",
              "  </tbody>\n",
              "</table>\n",
              "</div>"
            ],
            "text/plain": [
              "                            status_id status_type status_published  \\\n",
              "6217  819700534875473_955149101330615       photo   3/21/2018 1:15   \n",
              "6268  819700534875473_955149101330615       photo   3/21/2018 1:15   \n",
              "\n",
              "      num_reactions  num_comments  num_shares  num_likes  num_loves  num_wows  \\\n",
              "6217            114             6           1        108          3         3   \n",
              "6268            114             6           1        108          3         3   \n",
              "\n",
              "      num_hahas  num_sads  num_angrys  \n",
              "6217          0         0           0  \n",
              "6268          0         0           0  "
            ]
          },
          "execution_count": 12,
          "metadata": {},
          "output_type": "execute_result"
        }
      ],
      "source": [
        "data[data.status_id == '819700534875473_955149101330615']"
      ]
    },
    {
      "cell_type": "code",
      "execution_count": null,
      "id": "13dab571",
      "metadata": {
        "id": "13dab571",
        "outputId": "f4c6d2b4-a9cb-4d74-9ee8-dac9a80b2cfe"
      },
      "outputs": [
        {
          "data": {
            "text/html": [
              "<div>\n",
              "<style scoped>\n",
              "    .dataframe tbody tr th:only-of-type {\n",
              "        vertical-align: middle;\n",
              "    }\n",
              "\n",
              "    .dataframe tbody tr th {\n",
              "        vertical-align: top;\n",
              "    }\n",
              "\n",
              "    .dataframe thead th {\n",
              "        text-align: right;\n",
              "    }\n",
              "</style>\n",
              "<table border=\"1\" class=\"dataframe\">\n",
              "  <thead>\n",
              "    <tr style=\"text-align: right;\">\n",
              "      <th></th>\n",
              "      <th>status_id</th>\n",
              "      <th>status_type</th>\n",
              "      <th>status_published</th>\n",
              "      <th>num_reactions</th>\n",
              "      <th>num_comments</th>\n",
              "      <th>num_shares</th>\n",
              "      <th>num_likes</th>\n",
              "      <th>num_loves</th>\n",
              "      <th>num_wows</th>\n",
              "      <th>num_hahas</th>\n",
              "      <th>num_sads</th>\n",
              "      <th>num_angrys</th>\n",
              "    </tr>\n",
              "  </thead>\n",
              "  <tbody>\n",
              "    <tr>\n",
              "      <th>6220</th>\n",
              "      <td>819700534875473_951614605017398</td>\n",
              "      <td>photo</td>\n",
              "      <td>3/16/2018 1:57</td>\n",
              "      <td>985</td>\n",
              "      <td>71</td>\n",
              "      <td>42</td>\n",
              "      <td>962</td>\n",
              "      <td>5</td>\n",
              "      <td>16</td>\n",
              "      <td>2</td>\n",
              "      <td>0</td>\n",
              "      <td>0</td>\n",
              "    </tr>\n",
              "    <tr>\n",
              "      <th>6271</th>\n",
              "      <td>819700534875473_951614605017398</td>\n",
              "      <td>photo</td>\n",
              "      <td>3/16/2018 1:57</td>\n",
              "      <td>985</td>\n",
              "      <td>71</td>\n",
              "      <td>42</td>\n",
              "      <td>962</td>\n",
              "      <td>5</td>\n",
              "      <td>16</td>\n",
              "      <td>2</td>\n",
              "      <td>0</td>\n",
              "      <td>0</td>\n",
              "    </tr>\n",
              "  </tbody>\n",
              "</table>\n",
              "</div>"
            ],
            "text/plain": [
              "                            status_id status_type status_published  \\\n",
              "6220  819700534875473_951614605017398       photo   3/16/2018 1:57   \n",
              "6271  819700534875473_951614605017398       photo   3/16/2018 1:57   \n",
              "\n",
              "      num_reactions  num_comments  num_shares  num_likes  num_loves  num_wows  \\\n",
              "6220            985            71          42        962          5        16   \n",
              "6271            985            71          42        962          5        16   \n",
              "\n",
              "      num_hahas  num_sads  num_angrys  \n",
              "6220          2         0           0  \n",
              "6271          2         0           0  "
            ]
          },
          "execution_count": 13,
          "metadata": {},
          "output_type": "execute_result"
        }
      ],
      "source": [
        "data[data.status_id == '819700534875473_951614605017398']"
      ]
    },
    {
      "cell_type": "code",
      "execution_count": null,
      "id": "2bf1888e",
      "metadata": {
        "id": "2bf1888e"
      },
      "outputs": [],
      "source": []
    },
    {
      "cell_type": "markdown",
      "source": [
        "From the samples evaluated, it is evident that the 53 observations are duplicate.\n",
        "We will proceed and remove the duplicated by the status_id column."
      ],
      "metadata": {
        "id": "_jKbyrRwSb0o"
      },
      "id": "_jKbyrRwSb0o"
    },
    {
      "cell_type": "code",
      "execution_count": null,
      "id": "15d8851b",
      "metadata": {
        "id": "15d8851b",
        "outputId": "f6b97e18-707e-4498-9541-55f1527f2a3f"
      },
      "outputs": [
        {
          "data": {
            "text/plain": [
              "(6997, 12)"
            ]
          },
          "execution_count": 14,
          "metadata": {},
          "output_type": "execute_result"
        }
      ],
      "source": [
        "data_ndp = data.drop_duplicates(subset='status_id',\n",
        "                               keep='last')\n",
        "data_ndp.shape"
      ]
    },
    {
      "cell_type": "code",
      "execution_count": null,
      "id": "8066d999",
      "metadata": {
        "id": "8066d999"
      },
      "outputs": [],
      "source": []
    },
    {
      "cell_type": "markdown",
      "source": [
        "#Now we have only 6997 observation in the dataset. \n",
        "# Let's explore the status type and other attributes in the data to gain further insights."
      ],
      "metadata": {
        "id": "TETmnwnCSO_k"
      },
      "id": "TETmnwnCSO_k"
    },
    {
      "cell_type": "code",
      "execution_count": null,
      "id": "3d0ca3fc",
      "metadata": {
        "id": "3d0ca3fc",
        "outputId": "5a649f88-baee-45af-966d-67f22816a884"
      },
      "outputs": [
        {
          "data": {
            "text/plain": [
              "[Text(0.5, 0, 'Status Type'), Text(0, 0.5, 'Count')]"
            ]
          },
          "execution_count": 15,
          "metadata": {},
          "output_type": "execute_result"
        },
        {
          "data": {
            "image/png": "[encoded data removed]",
            "text/plain": [
              "<Figure size 720x360 with 1 Axes>"
            ]
          },
          "metadata": {
            "needs_background": "light"
          },
          "output_type": "display_data"
        }
      ],
      "source": [
        "st_ax = data_ndp.status_type.value_counts().plot(kind='bar',\n",
        "                                        figsize=(10,5),\n",
        "                                        title=\"Status Type\")\n",
        "st_ax.set(xlabel=\"Status Type\", ylabel=\"Count\")"
      ]
    },
    {
      "cell_type": "code",
      "execution_count": null,
      "id": "8668e0cd",
      "metadata": {
        "id": "8668e0cd"
      },
      "outputs": [],
      "source": []
    },
    {
      "cell_type": "markdown",
      "source": [
        "Most of the sellers seem to be using a photo or video as status for the selling. \n",
        "A tiny portion of the users is depending on text status or URL/link for posting an advertisement."
      ],
      "metadata": {
        "id": "QB5ztc0bQssF"
      },
      "id": "QB5ztc0bQssF"
    },
    {
      "cell_type": "code",
      "execution_count": null,
      "id": "46fad0f3",
      "metadata": {
        "id": "46fad0f3",
        "outputId": "9c5795ac-6942-4908-ea25-9b7501461ca0"
      },
      "outputs": [
        {
          "data": {
            "text/html": [
              "<div>\n",
              "<style scoped>\n",
              "    .dataframe tbody tr th:only-of-type {\n",
              "        vertical-align: middle;\n",
              "    }\n",
              "\n",
              "    .dataframe tbody tr th {\n",
              "        vertical-align: top;\n",
              "    }\n",
              "\n",
              "    .dataframe thead th {\n",
              "        text-align: right;\n",
              "    }\n",
              "</style>\n",
              "<table border=\"1\" class=\"dataframe\">\n",
              "  <thead>\n",
              "    <tr style=\"text-align: right;\">\n",
              "      <th></th>\n",
              "      <th>status_id</th>\n",
              "      <th>status_type</th>\n",
              "      <th>status_published</th>\n",
              "      <th>num_reactions</th>\n",
              "      <th>num_comments</th>\n",
              "      <th>num_shares</th>\n",
              "      <th>num_likes</th>\n",
              "      <th>num_loves</th>\n",
              "      <th>num_wows</th>\n",
              "      <th>num_hahas</th>\n",
              "      <th>num_sads</th>\n",
              "      <th>num_angrys</th>\n",
              "    </tr>\n",
              "  </thead>\n",
              "  <tbody>\n",
              "    <tr>\n",
              "      <th>0</th>\n",
              "      <td>246675545449582_1649696485147474</td>\n",
              "      <td>video</td>\n",
              "      <td>4/22/2018 6:00</td>\n",
              "      <td>529</td>\n",
              "      <td>512</td>\n",
              "      <td>262</td>\n",
              "      <td>432</td>\n",
              "      <td>92</td>\n",
              "      <td>3</td>\n",
              "      <td>1</td>\n",
              "      <td>1</td>\n",
              "      <td>0</td>\n",
              "    </tr>\n",
              "    <tr>\n",
              "      <th>1</th>\n",
              "      <td>246675545449582_1649426988507757</td>\n",
              "      <td>photo</td>\n",
              "      <td>4/21/2018 22:45</td>\n",
              "      <td>150</td>\n",
              "      <td>0</td>\n",
              "      <td>0</td>\n",
              "      <td>150</td>\n",
              "      <td>0</td>\n",
              "      <td>0</td>\n",
              "      <td>0</td>\n",
              "      <td>0</td>\n",
              "      <td>0</td>\n",
              "    </tr>\n",
              "  </tbody>\n",
              "</table>\n",
              "</div>"
            ],
            "text/plain": [
              "                          status_id status_type status_published  \\\n",
              "0  246675545449582_1649696485147474       video   4/22/2018 6:00   \n",
              "1  246675545449582_1649426988507757       photo  4/21/2018 22:45   \n",
              "\n",
              "   num_reactions  num_comments  num_shares  num_likes  num_loves  num_wows  \\\n",
              "0            529           512         262        432         92         3   \n",
              "1            150             0           0        150          0         0   \n",
              "\n",
              "   num_hahas  num_sads  num_angrys  \n",
              "0          1         1           0  \n",
              "1          0         0           0  "
            ]
          },
          "execution_count": 16,
          "metadata": {},
          "output_type": "execute_result"
        }
      ],
      "source": [
        "data_ndp.head(2)"
      ]
    },
    {
      "cell_type": "code",
      "execution_count": null,
      "id": "2acebba2",
      "metadata": {
        "id": "2acebba2"
      },
      "outputs": [],
      "source": []
    },
    {
      "cell_type": "markdown",
      "source": [
        "'The num_reaction column seems to be a sum of following colums.\n",
        "\n",
        "'num_reaction = sum(num_likes, num_loves,num_wows,num_hahas,num_sads,num_angrys)\n",
        "\n",
        "'Lets validate the assumption."
      ],
      "metadata": {
        "id": "_UixarVsQxXU"
      },
      "id": "_UixarVsQxXU"
    },
    {
      "cell_type": "code",
      "execution_count": null,
      "id": "4cd94f0d",
      "metadata": {
        "id": "4cd94f0d",
        "outputId": "324869e1-9b45-4b2b-9f7f-e011cf36492b"
      },
      "outputs": [
        {
          "data": {
            "text/plain": [
              "(9, 14)"
            ]
          },
          "execution_count": 18,
          "metadata": {},
          "output_type": "execute_result"
        }
      ],
      "source": [
        "data_ndp['all_reaction_count'] = data_ndp.iloc[:,-6:].sum(axis=1)\n",
        "data_ndp['reactio_match'] = data_ndp.apply(lambda x: x['num_reactions'] == x['all_reaction_count'],\n",
        "                                           axis=1)\n",
        "data_react_mismatch = data_ndp[data_ndp.reactio_match == False]\n",
        "data_react_mismatch.shape"
      ]
    },
    {
      "cell_type": "code",
      "execution_count": null,
      "id": "0fdd5fa9",
      "metadata": {
        "id": "0fdd5fa9"
      },
      "outputs": [],
      "source": []
    },
    {
      "cell_type": "markdown",
      "source": [
        "There are nine observations where the assumption mentioned above is invalid. \n",
        "Let's examine the difference and reasons behind this. Since only nine observations are there, we can even remove these observations from the data due to inconsistency issues. \n",
        "But it is worthwhile to examine the reason."
      ],
      "metadata": {
        "id": "S0Z4L4LbSInu"
      },
      "id": "S0Z4L4LbSInu"
    },
    {
      "cell_type": "code",
      "execution_count": null,
      "id": "ede41811",
      "metadata": {
        "id": "ede41811",
        "outputId": "a793ae74-20ca-4af2-e68b-216d63f5cf1e"
      },
      "outputs": [
        {
          "data": {
            "text/html": [
              "<div>\n",
              "<style scoped>\n",
              "    .dataframe tbody tr th:only-of-type {\n",
              "        vertical-align: middle;\n",
              "    }\n",
              "\n",
              "    .dataframe tbody tr th {\n",
              "        vertical-align: top;\n",
              "    }\n",
              "\n",
              "    .dataframe thead th {\n",
              "        text-align: right;\n",
              "    }\n",
              "</style>\n",
              "<table border=\"1\" class=\"dataframe\">\n",
              "  <thead>\n",
              "    <tr style=\"text-align: right;\">\n",
              "      <th></th>\n",
              "      <th>status_id</th>\n",
              "      <th>status_type</th>\n",
              "      <th>status_published</th>\n",
              "      <th>num_reactions</th>\n",
              "      <th>num_comments</th>\n",
              "      <th>num_shares</th>\n",
              "      <th>num_likes</th>\n",
              "      <th>num_loves</th>\n",
              "      <th>num_wows</th>\n",
              "      <th>num_hahas</th>\n",
              "      <th>num_sads</th>\n",
              "      <th>num_angrys</th>\n",
              "      <th>all_reaction_count</th>\n",
              "      <th>reactio_match</th>\n",
              "      <th>diff_react</th>\n",
              "    </tr>\n",
              "  </thead>\n",
              "  <tbody>\n",
              "    <tr>\n",
              "      <th>238</th>\n",
              "      <td>246675545449582_1331955210254938</td>\n",
              "      <td>video</td>\n",
              "      <td>6/25/2017 7:42</td>\n",
              "      <td>885</td>\n",
              "      <td>462</td>\n",
              "      <td>26</td>\n",
              "      <td>659</td>\n",
              "      <td>220</td>\n",
              "      <td>0</td>\n",
              "      <td>2</td>\n",
              "      <td>0</td>\n",
              "      <td>0</td>\n",
              "      <td>881</td>\n",
              "      <td>False</td>\n",
              "      <td>4</td>\n",
              "    </tr>\n",
              "    <tr>\n",
              "      <th>247</th>\n",
              "      <td>246675545449582_1320853268031799</td>\n",
              "      <td>photo</td>\n",
              "      <td>6/13/2017 23:17</td>\n",
              "      <td>264</td>\n",
              "      <td>2</td>\n",
              "      <td>0</td>\n",
              "      <td>256</td>\n",
              "      <td>2</td>\n",
              "      <td>5</td>\n",
              "      <td>0</td>\n",
              "      <td>0</td>\n",
              "      <td>0</td>\n",
              "      <td>263</td>\n",
              "      <td>False</td>\n",
              "      <td>1</td>\n",
              "    </tr>\n",
              "    <tr>\n",
              "      <th>248</th>\n",
              "      <td>246675545449582_1319907678126358</td>\n",
              "      <td>photo</td>\n",
              "      <td>6/13/2017 1:31</td>\n",
              "      <td>313</td>\n",
              "      <td>3</td>\n",
              "      <td>0</td>\n",
              "      <td>297</td>\n",
              "      <td>7</td>\n",
              "      <td>6</td>\n",
              "      <td>0</td>\n",
              "      <td>0</td>\n",
              "      <td>0</td>\n",
              "      <td>310</td>\n",
              "      <td>False</td>\n",
              "      <td>3</td>\n",
              "    </tr>\n",
              "    <tr>\n",
              "      <th>251</th>\n",
              "      <td>246675545449582_1319045328212593</td>\n",
              "      <td>photo</td>\n",
              "      <td>6/12/2017 5:08</td>\n",
              "      <td>247</td>\n",
              "      <td>6</td>\n",
              "      <td>0</td>\n",
              "      <td>234</td>\n",
              "      <td>9</td>\n",
              "      <td>1</td>\n",
              "      <td>0</td>\n",
              "      <td>0</td>\n",
              "      <td>0</td>\n",
              "      <td>244</td>\n",
              "      <td>False</td>\n",
              "      <td>3</td>\n",
              "    </tr>\n",
              "    <tr>\n",
              "      <th>253</th>\n",
              "      <td>246675545449582_1318160668301059</td>\n",
              "      <td>photo</td>\n",
              "      <td>6/11/2017 7:04</td>\n",
              "      <td>387</td>\n",
              "      <td>3</td>\n",
              "      <td>0</td>\n",
              "      <td>368</td>\n",
              "      <td>16</td>\n",
              "      <td>1</td>\n",
              "      <td>0</td>\n",
              "      <td>0</td>\n",
              "      <td>0</td>\n",
              "      <td>385</td>\n",
              "      <td>False</td>\n",
              "      <td>2</td>\n",
              "    </tr>\n",
              "    <tr>\n",
              "      <th>254</th>\n",
              "      <td>246675545449582_1317164368400689</td>\n",
              "      <td>photo</td>\n",
              "      <td>6/10/2017 8:19</td>\n",
              "      <td>178</td>\n",
              "      <td>9</td>\n",
              "      <td>0</td>\n",
              "      <td>170</td>\n",
              "      <td>6</td>\n",
              "      <td>0</td>\n",
              "      <td>0</td>\n",
              "      <td>0</td>\n",
              "      <td>0</td>\n",
              "      <td>176</td>\n",
              "      <td>False</td>\n",
              "      <td>2</td>\n",
              "    </tr>\n",
              "    <tr>\n",
              "      <th>256</th>\n",
              "      <td>246675545449582_1316848781765581</td>\n",
              "      <td>photo</td>\n",
              "      <td>6/10/2017 1:08</td>\n",
              "      <td>270</td>\n",
              "      <td>3</td>\n",
              "      <td>0</td>\n",
              "      <td>256</td>\n",
              "      <td>10</td>\n",
              "      <td>3</td>\n",
              "      <td>0</td>\n",
              "      <td>0</td>\n",
              "      <td>0</td>\n",
              "      <td>269</td>\n",
              "      <td>False</td>\n",
              "      <td>1</td>\n",
              "    </tr>\n",
              "    <tr>\n",
              "      <th>257</th>\n",
              "      <td>246675545449582_1315331711917288</td>\n",
              "      <td>photo</td>\n",
              "      <td>6/8/2017 9:26</td>\n",
              "      <td>351</td>\n",
              "      <td>4</td>\n",
              "      <td>1</td>\n",
              "      <td>344</td>\n",
              "      <td>6</td>\n",
              "      <td>0</td>\n",
              "      <td>0</td>\n",
              "      <td>0</td>\n",
              "      <td>0</td>\n",
              "      <td>350</td>\n",
              "      <td>False</td>\n",
              "      <td>1</td>\n",
              "    </tr>\n",
              "    <tr>\n",
              "      <th>293</th>\n",
              "      <td>246675545449582_1262985247151935</td>\n",
              "      <td>video</td>\n",
              "      <td>4/20/2017 2:36</td>\n",
              "      <td>616</td>\n",
              "      <td>523</td>\n",
              "      <td>21</td>\n",
              "      <td>459</td>\n",
              "      <td>125</td>\n",
              "      <td>21</td>\n",
              "      <td>8</td>\n",
              "      <td>0</td>\n",
              "      <td>1</td>\n",
              "      <td>614</td>\n",
              "      <td>False</td>\n",
              "      <td>2</td>\n",
              "    </tr>\n",
              "  </tbody>\n",
              "</table>\n",
              "</div>"
            ],
            "text/plain": [
              "                            status_id status_type status_published  \\\n",
              "238  246675545449582_1331955210254938       video   6/25/2017 7:42   \n",
              "247  246675545449582_1320853268031799       photo  6/13/2017 23:17   \n",
              "248  246675545449582_1319907678126358       photo   6/13/2017 1:31   \n",
              "251  246675545449582_1319045328212593       photo   6/12/2017 5:08   \n",
              "253  246675545449582_1318160668301059       photo   6/11/2017 7:04   \n",
              "254  246675545449582_1317164368400689       photo   6/10/2017 8:19   \n",
              "256  246675545449582_1316848781765581       photo   6/10/2017 1:08   \n",
              "257  246675545449582_1315331711917288       photo    6/8/2017 9:26   \n",
              "293  246675545449582_1262985247151935       video   4/20/2017 2:36   \n",
              "\n",
              "     num_reactions  num_comments  num_shares  num_likes  num_loves  num_wows  \\\n",
              "238            885           462          26        659        220         0   \n",
              "247            264             2           0        256          2         5   \n",
              "248            313             3           0        297          7         6   \n",
              "251            247             6           0        234          9         1   \n",
              "253            387             3           0        368         16         1   \n",
              "254            178             9           0        170          6         0   \n",
              "256            270             3           0        256         10         3   \n",
              "257            351             4           1        344          6         0   \n",
              "293            616           523          21        459        125        21   \n",
              "\n",
              "     num_hahas  num_sads  num_angrys  all_reaction_count  reactio_match  \\\n",
              "238          2         0           0                 881          False   \n",
              "247          0         0           0                 263          False   \n",
              "248          0         0           0                 310          False   \n",
              "251          0         0           0                 244          False   \n",
              "253          0         0           0                 385          False   \n",
              "254          0         0           0                 176          False   \n",
              "256          0         0           0                 269          False   \n",
              "257          0         0           0                 350          False   \n",
              "293          8         0           1                 614          False   \n",
              "\n",
              "     diff_react  \n",
              "238           4  \n",
              "247           1  \n",
              "248           3  \n",
              "251           3  \n",
              "253           2  \n",
              "254           2  \n",
              "256           1  \n",
              "257           1  \n",
              "293           2  "
            ]
          },
          "execution_count": 19,
          "metadata": {},
          "output_type": "execute_result"
        }
      ],
      "source": [
        "data_react_mismatch[\"diff_react\"] = data_react_mismatch.num_reactions - data_react_mismatch.all_reaction_count\n",
        "data_react_mismatch"
      ]
    },
    {
      "cell_type": "code",
      "execution_count": null,
      "id": "d6cc543e",
      "metadata": {
        "id": "d6cc543e"
      },
      "outputs": [],
      "source": []
    },
    {
      "cell_type": "markdown",
      "source": [
        "Let's check if the duplicate records cause the mismatch. We created a subset data consists only the duplicated values. \n",
        "Let's run a quick search by the status_id!"
      ],
      "metadata": {
        "id": "rRdwkC1SSC2n"
      },
      "id": "rRdwkC1SSC2n"
    },
    {
      "cell_type": "code",
      "execution_count": null,
      "id": "1e2259f6",
      "metadata": {
        "id": "1e2259f6",
        "outputId": "53a7e1ed-e682-44a5-927d-7c16f18d6174"
      },
      "outputs": [
        {
          "data": {
            "text/html": [
              "<div>\n",
              "<style scoped>\n",
              "    .dataframe tbody tr th:only-of-type {\n",
              "        vertical-align: middle;\n",
              "    }\n",
              "\n",
              "    .dataframe tbody tr th {\n",
              "        vertical-align: top;\n",
              "    }\n",
              "\n",
              "    .dataframe thead th {\n",
              "        text-align: right;\n",
              "    }\n",
              "</style>\n",
              "<table border=\"1\" class=\"dataframe\">\n",
              "  <thead>\n",
              "    <tr style=\"text-align: right;\">\n",
              "      <th></th>\n",
              "      <th>status_id</th>\n",
              "      <th>status_type</th>\n",
              "      <th>status_published</th>\n",
              "      <th>num_reactions</th>\n",
              "      <th>num_comments</th>\n",
              "      <th>num_shares</th>\n",
              "      <th>num_likes</th>\n",
              "      <th>num_loves</th>\n",
              "      <th>num_wows</th>\n",
              "      <th>num_hahas</th>\n",
              "      <th>num_sads</th>\n",
              "      <th>num_angrys</th>\n",
              "      <th>all_reaction_count</th>\n",
              "      <th>reactio_match</th>\n",
              "      <th>diff_react</th>\n",
              "    </tr>\n",
              "  </thead>\n",
              "  <tbody>\n",
              "  </tbody>\n",
              "</table>\n",
              "</div>"
            ],
            "text/plain": [
              "Empty DataFrame\n",
              "Columns: [status_id, status_type, status_published, num_reactions, num_comments, num_shares, num_likes, num_loves, num_wows, num_hahas, num_sads, num_angrys, all_reaction_count, reactio_match, diff_react]\n",
              "Index: []"
            ]
          },
          "execution_count": 20,
          "metadata": {},
          "output_type": "execute_result"
        }
      ],
      "source": [
        "data_react_mismatch[data_react_mismatch['status_id'].isin(list(duplicated_data.status_id.values))]"
      ]
    },
    {
      "cell_type": "code",
      "execution_count": null,
      "id": "1a9b77e0",
      "metadata": {
        "id": "1a9b77e0"
      },
      "outputs": [],
      "source": []
    },
    {
      "cell_type": "markdown",
      "source": [
        "And by looking at the numbers, it is evident that comments or shares do not contribute it. Values of those attributes are higher than the difference, and some of the status_is's are not even shared.\n",
        "\n",
        "As there is no data available to verify the correctness, we can go for\n",
        "\n",
        "Correct the value based on the interactions.\n",
        "Drop the nine observations.\n",
        "I prefer to correct the values as part of this experiment before we proceed further."
      ],
      "metadata": {
        "id": "P4hHqSKSR9v5"
      },
      "id": "P4hHqSKSR9v5"
    },
    {
      "cell_type": "code",
      "execution_count": null,
      "id": "cffd9dc9",
      "metadata": {
        "id": "cffd9dc9",
        "outputId": "3820aa88-623a-4843-9055-2b42bf893870"
      },
      "outputs": [
        {
          "data": {
            "text/html": [
              "<div>\n",
              "<style scoped>\n",
              "    .dataframe tbody tr th:only-of-type {\n",
              "        vertical-align: middle;\n",
              "    }\n",
              "\n",
              "    .dataframe tbody tr th {\n",
              "        vertical-align: top;\n",
              "    }\n",
              "\n",
              "    .dataframe thead th {\n",
              "        text-align: right;\n",
              "    }\n",
              "</style>\n",
              "<table border=\"1\" class=\"dataframe\">\n",
              "  <thead>\n",
              "    <tr style=\"text-align: right;\">\n",
              "      <th></th>\n",
              "      <th>status_id</th>\n",
              "      <th>status_type</th>\n",
              "      <th>status_published</th>\n",
              "      <th>num_reactions</th>\n",
              "      <th>num_comments</th>\n",
              "      <th>num_shares</th>\n",
              "      <th>num_likes</th>\n",
              "      <th>num_loves</th>\n",
              "      <th>num_wows</th>\n",
              "      <th>num_hahas</th>\n",
              "      <th>num_sads</th>\n",
              "      <th>num_angrys</th>\n",
              "      <th>all_reaction_count</th>\n",
              "      <th>reactio_match</th>\n",
              "    </tr>\n",
              "  </thead>\n",
              "  <tbody>\n",
              "  </tbody>\n",
              "</table>\n",
              "</div>"
            ],
            "text/plain": [
              "Empty DataFrame\n",
              "Columns: [status_id, status_type, status_published, num_reactions, num_comments, num_shares, num_likes, num_loves, num_wows, num_hahas, num_sads, num_angrys, all_reaction_count, reactio_match]\n",
              "Index: []"
            ]
          },
          "execution_count": 21,
          "metadata": {},
          "output_type": "execute_result"
        }
      ],
      "source": [
        "data_ndp.num_reactions = data_ndp.all_reaction_count\n",
        "data_ndp['reactio_match'] = data_ndp.apply(lambda x: x['num_reactions'] == x['all_reaction_count'],\n",
        "                                           axis=1)\n",
        "data_ndp[data_ndp.reactio_match == False]"
      ]
    },
    {
      "cell_type": "code",
      "execution_count": null,
      "id": "43de52d3",
      "metadata": {
        "id": "43de52d3",
        "outputId": "5a7e35c7-19d9-46e0-b9a1-269c9c47c70a"
      },
      "outputs": [
        {
          "data": {
            "text/html": [
              "<div>\n",
              "<style scoped>\n",
              "    .dataframe tbody tr th:only-of-type {\n",
              "        vertical-align: middle;\n",
              "    }\n",
              "\n",
              "    .dataframe tbody tr th {\n",
              "        vertical-align: top;\n",
              "    }\n",
              "\n",
              "    .dataframe thead th {\n",
              "        text-align: right;\n",
              "    }\n",
              "</style>\n",
              "<table border=\"1\" class=\"dataframe\">\n",
              "  <thead>\n",
              "    <tr style=\"text-align: right;\">\n",
              "      <th></th>\n",
              "      <th>status_id</th>\n",
              "      <th>status_type</th>\n",
              "      <th>status_published</th>\n",
              "      <th>num_reactions</th>\n",
              "      <th>num_comments</th>\n",
              "      <th>num_shares</th>\n",
              "      <th>num_likes</th>\n",
              "      <th>num_loves</th>\n",
              "      <th>num_wows</th>\n",
              "      <th>num_hahas</th>\n",
              "      <th>num_sads</th>\n",
              "      <th>num_angrys</th>\n",
              "      <th>all_reaction_count</th>\n",
              "      <th>reactio_match</th>\n",
              "    </tr>\n",
              "  </thead>\n",
              "  <tbody>\n",
              "    <tr>\n",
              "      <th>0</th>\n",
              "      <td>246675545449582_1649696485147474</td>\n",
              "      <td>video</td>\n",
              "      <td>4/22/2018 6:00</td>\n",
              "      <td>529</td>\n",
              "      <td>512</td>\n",
              "      <td>262</td>\n",
              "      <td>432</td>\n",
              "      <td>92</td>\n",
              "      <td>3</td>\n",
              "      <td>1</td>\n",
              "      <td>1</td>\n",
              "      <td>0</td>\n",
              "      <td>529</td>\n",
              "      <td>True</td>\n",
              "    </tr>\n",
              "    <tr>\n",
              "      <th>1</th>\n",
              "      <td>246675545449582_1649426988507757</td>\n",
              "      <td>photo</td>\n",
              "      <td>4/21/2018 22:45</td>\n",
              "      <td>150</td>\n",
              "      <td>0</td>\n",
              "      <td>0</td>\n",
              "      <td>150</td>\n",
              "      <td>0</td>\n",
              "      <td>0</td>\n",
              "      <td>0</td>\n",
              "      <td>0</td>\n",
              "      <td>0</td>\n",
              "      <td>150</td>\n",
              "      <td>True</td>\n",
              "    </tr>\n",
              "  </tbody>\n",
              "</table>\n",
              "</div>"
            ],
            "text/plain": [
              "                          status_id status_type status_published  \\\n",
              "0  246675545449582_1649696485147474       video   4/22/2018 6:00   \n",
              "1  246675545449582_1649426988507757       photo  4/21/2018 22:45   \n",
              "\n",
              "   num_reactions  num_comments  num_shares  num_likes  num_loves  num_wows  \\\n",
              "0            529           512         262        432         92         3   \n",
              "1            150             0           0        150          0         0   \n",
              "\n",
              "   num_hahas  num_sads  num_angrys  all_reaction_count  reactio_match  \n",
              "0          1         1           0                 529           True  \n",
              "1          0         0           0                 150           True  "
            ]
          },
          "execution_count": 22,
          "metadata": {},
          "output_type": "execute_result"
        }
      ],
      "source": [
        "data_ndp.head(2)"
      ]
    },
    {
      "cell_type": "code",
      "execution_count": null,
      "id": "673d3bc7",
      "metadata": {
        "id": "673d3bc7"
      },
      "outputs": [],
      "source": []
    },
    {
      "cell_type": "markdown",
      "source": [
        "\n",
        "\n",
        "*   Let's create two variables to understand the reactions to comment and share ratio.\n",
        " \n",
        "\n",
        "\n",
        "*  Comments and shares show people may be interested and inquiring or maybe complaining.\n",
        "\n",
        "*   Shares activity indicates that users found it interesting, hence sharing it for other's benefits.\n",
        "\n",
        "\n",
        "\n"
      ],
      "metadata": {
        "id": "paZSulrsREba"
      },
      "id": "paZSulrsREba"
    },
    {
      "cell_type": "code",
      "execution_count": null,
      "id": "6803b07f",
      "metadata": {
        "id": "6803b07f",
        "outputId": "8ce22c05-3997-42ff-8ce9-b46e64579100"
      },
      "outputs": [
        {
          "data": {
            "text/html": [
              "<div>\n",
              "<style scoped>\n",
              "    .dataframe tbody tr th:only-of-type {\n",
              "        vertical-align: middle;\n",
              "    }\n",
              "\n",
              "    .dataframe tbody tr th {\n",
              "        vertical-align: top;\n",
              "    }\n",
              "\n",
              "    .dataframe thead th {\n",
              "        text-align: right;\n",
              "    }\n",
              "</style>\n",
              "<table border=\"1\" class=\"dataframe\">\n",
              "  <thead>\n",
              "    <tr style=\"text-align: right;\">\n",
              "      <th></th>\n",
              "      <th>status_id</th>\n",
              "      <th>status_type</th>\n",
              "      <th>status_published</th>\n",
              "      <th>num_reactions</th>\n",
              "      <th>num_comments</th>\n",
              "      <th>num_shares</th>\n",
              "      <th>num_likes</th>\n",
              "      <th>num_loves</th>\n",
              "      <th>num_wows</th>\n",
              "      <th>num_hahas</th>\n",
              "      <th>num_sads</th>\n",
              "      <th>num_angrys</th>\n",
              "      <th>all_reaction_count</th>\n",
              "      <th>reactio_match</th>\n",
              "      <th>react_comment_r</th>\n",
              "      <th>react_share_r</th>\n",
              "    </tr>\n",
              "  </thead>\n",
              "  <tbody>\n",
              "    <tr>\n",
              "      <th>0</th>\n",
              "      <td>246675545449582_1649696485147474</td>\n",
              "      <td>video</td>\n",
              "      <td>4/22/2018 6:00</td>\n",
              "      <td>529</td>\n",
              "      <td>512</td>\n",
              "      <td>262</td>\n",
              "      <td>432</td>\n",
              "      <td>92</td>\n",
              "      <td>3</td>\n",
              "      <td>1</td>\n",
              "      <td>1</td>\n",
              "      <td>0</td>\n",
              "      <td>529</td>\n",
              "      <td>True</td>\n",
              "      <td>1.033203</td>\n",
              "      <td>2.019084</td>\n",
              "    </tr>\n",
              "    <tr>\n",
              "      <th>1</th>\n",
              "      <td>246675545449582_1649426988507757</td>\n",
              "      <td>photo</td>\n",
              "      <td>4/21/2018 22:45</td>\n",
              "      <td>150</td>\n",
              "      <td>0</td>\n",
              "      <td>0</td>\n",
              "      <td>150</td>\n",
              "      <td>0</td>\n",
              "      <td>0</td>\n",
              "      <td>0</td>\n",
              "      <td>0</td>\n",
              "      <td>0</td>\n",
              "      <td>150</td>\n",
              "      <td>True</td>\n",
              "      <td>inf</td>\n",
              "      <td>inf</td>\n",
              "    </tr>\n",
              "    <tr>\n",
              "      <th>2</th>\n",
              "      <td>246675545449582_1648730588577397</td>\n",
              "      <td>video</td>\n",
              "      <td>4/21/2018 6:17</td>\n",
              "      <td>227</td>\n",
              "      <td>236</td>\n",
              "      <td>57</td>\n",
              "      <td>204</td>\n",
              "      <td>21</td>\n",
              "      <td>1</td>\n",
              "      <td>1</td>\n",
              "      <td>0</td>\n",
              "      <td>0</td>\n",
              "      <td>227</td>\n",
              "      <td>True</td>\n",
              "      <td>0.961864</td>\n",
              "      <td>3.982456</td>\n",
              "    </tr>\n",
              "    <tr>\n",
              "      <th>3</th>\n",
              "      <td>246675545449582_1648576705259452</td>\n",
              "      <td>photo</td>\n",
              "      <td>4/21/2018 2:29</td>\n",
              "      <td>111</td>\n",
              "      <td>0</td>\n",
              "      <td>0</td>\n",
              "      <td>111</td>\n",
              "      <td>0</td>\n",
              "      <td>0</td>\n",
              "      <td>0</td>\n",
              "      <td>0</td>\n",
              "      <td>0</td>\n",
              "      <td>111</td>\n",
              "      <td>True</td>\n",
              "      <td>inf</td>\n",
              "      <td>inf</td>\n",
              "    </tr>\n",
              "    <tr>\n",
              "      <th>4</th>\n",
              "      <td>246675545449582_1645700502213739</td>\n",
              "      <td>photo</td>\n",
              "      <td>4/18/2018 3:22</td>\n",
              "      <td>213</td>\n",
              "      <td>0</td>\n",
              "      <td>0</td>\n",
              "      <td>204</td>\n",
              "      <td>9</td>\n",
              "      <td>0</td>\n",
              "      <td>0</td>\n",
              "      <td>0</td>\n",
              "      <td>0</td>\n",
              "      <td>213</td>\n",
              "      <td>True</td>\n",
              "      <td>inf</td>\n",
              "      <td>inf</td>\n",
              "    </tr>\n",
              "  </tbody>\n",
              "</table>\n",
              "</div>"
            ],
            "text/plain": [
              "                          status_id status_type status_published  \\\n",
              "0  246675545449582_1649696485147474       video   4/22/2018 6:00   \n",
              "1  246675545449582_1649426988507757       photo  4/21/2018 22:45   \n",
              "2  246675545449582_1648730588577397       video   4/21/2018 6:17   \n",
              "3  246675545449582_1648576705259452       photo   4/21/2018 2:29   \n",
              "4  246675545449582_1645700502213739       photo   4/18/2018 3:22   \n",
              "\n",
              "   num_reactions  num_comments  num_shares  num_likes  num_loves  num_wows  \\\n",
              "0            529           512         262        432         92         3   \n",
              "1            150             0           0        150          0         0   \n",
              "2            227           236          57        204         21         1   \n",
              "3            111             0           0        111          0         0   \n",
              "4            213             0           0        204          9         0   \n",
              "\n",
              "   num_hahas  num_sads  num_angrys  all_reaction_count  reactio_match  \\\n",
              "0          1         1           0                 529           True   \n",
              "1          0         0           0                 150           True   \n",
              "2          1         0           0                 227           True   \n",
              "3          0         0           0                 111           True   \n",
              "4          0         0           0                 213           True   \n",
              "\n",
              "   react_comment_r  react_share_r  \n",
              "0         1.033203       2.019084  \n",
              "1              inf            inf  \n",
              "2         0.961864       3.982456  \n",
              "3              inf            inf  \n",
              "4              inf            inf  "
            ]
          },
          "execution_count": 23,
          "metadata": {},
          "output_type": "execute_result"
        }
      ],
      "source": [
        "data_ndp['react_comment_r'] = data_ndp.num_reactions/data_ndp.num_comments\n",
        "data_ndp['react_share_r'] = data_ndp.num_reactions/data_ndp.num_shares\n",
        "data_ndp.head()"
      ]
    },
    {
      "cell_type": "code",
      "execution_count": null,
      "id": "ed71d7f3",
      "metadata": {
        "id": "ed71d7f3",
        "outputId": "4cd3981e-3a52-4e44-a980-1ee5e2e5e673"
      },
      "outputs": [
        {
          "data": {
            "text/plain": [
              "<AxesSubplot:>"
            ]
          },
          "execution_count": 24,
          "metadata": {},
          "output_type": "execute_result"
        },
        {
          "data": {
            "image/png": "[encoded data removed]",
            "text/plain": [
              "<Figure size 1152x360 with 1 Axes>"
            ]
          },
          "metadata": {
            "needs_background": "light"
          },
          "output_type": "display_data"
        }
      ],
      "source": [
        "data_ndp.react_comment_r.plot(kind='line',\n",
        "                             figsize=(16,5))"
      ]
    },
    {
      "cell_type": "code",
      "execution_count": null,
      "id": "f73886a0",
      "metadata": {
        "id": "f73886a0"
      },
      "outputs": [],
      "source": []
    },
    {
      "cell_type": "markdown",
      "source": [
        "From the graph, we can see that there are many NaN or Inf values and extreme values in the reactions to comments ratio. \n",
        "The ratio becomes inf while the comments or shares are zero in the count. \n",
        "The extreme values are something exciting. \n",
        "It may be an indication of data error or a trend in the data and worth investigating."
      ],
      "metadata": {
        "id": "E8m7I75eRcq5"
      },
      "id": "E8m7I75eRcq5"
    },
    {
      "cell_type": "code",
      "execution_count": null,
      "id": "e3243261",
      "metadata": {
        "id": "e3243261",
        "outputId": "c61a6819-c251-4a74-87c2-76f32c4442c6"
      },
      "outputs": [
        {
          "data": {
            "text/html": [
              "<div>\n",
              "<style scoped>\n",
              "    .dataframe tbody tr th:only-of-type {\n",
              "        vertical-align: middle;\n",
              "    }\n",
              "\n",
              "    .dataframe tbody tr th {\n",
              "        vertical-align: top;\n",
              "    }\n",
              "\n",
              "    .dataframe thead th {\n",
              "        text-align: right;\n",
              "    }\n",
              "</style>\n",
              "<table border=\"1\" class=\"dataframe\">\n",
              "  <thead>\n",
              "    <tr style=\"text-align: right;\">\n",
              "      <th></th>\n",
              "      <th>num_reactions</th>\n",
              "      <th>num_comments</th>\n",
              "      <th>react_comment_r</th>\n",
              "    </tr>\n",
              "  </thead>\n",
              "  <tbody>\n",
              "    <tr>\n",
              "      <th>0</th>\n",
              "      <td>529</td>\n",
              "      <td>512</td>\n",
              "      <td>1.033203</td>\n",
              "    </tr>\n",
              "    <tr>\n",
              "      <th>2</th>\n",
              "      <td>227</td>\n",
              "      <td>236</td>\n",
              "      <td>0.961864</td>\n",
              "    </tr>\n",
              "    <tr>\n",
              "      <th>6</th>\n",
              "      <td>503</td>\n",
              "      <td>614</td>\n",
              "      <td>0.819218</td>\n",
              "    </tr>\n",
              "    <tr>\n",
              "      <th>7</th>\n",
              "      <td>295</td>\n",
              "      <td>453</td>\n",
              "      <td>0.651214</td>\n",
              "    </tr>\n",
              "    <tr>\n",
              "      <th>16</th>\n",
              "      <td>135</td>\n",
              "      <td>256</td>\n",
              "      <td>0.527344</td>\n",
              "    </tr>\n",
              "  </tbody>\n",
              "</table>\n",
              "</div>"
            ],
            "text/plain": [
              "    num_reactions  num_comments  react_comment_r\n",
              "0             529           512         1.033203\n",
              "2             227           236         0.961864\n",
              "6             503           614         0.819218\n",
              "7             295           453         0.651214\n",
              "16            135           256         0.527344"
            ]
          },
          "execution_count": 25,
          "metadata": {},
          "output_type": "execute_result"
        }
      ],
      "source": [
        "data_ndp.replace([np.inf, -np.inf],\n",
        "                 0.0,\n",
        "                inplace=True)\n",
        "data_with_p_reaction = data_ndp[(data_ndp.react_comment_r > 0) &\n",
        "        (data_ndp.react_comment_r <= 2)]\n",
        "data_with_p_reaction = data_with_p_reaction[[\"num_reactions\",\"num_comments\",\"react_comment_r\"]]\n",
        "data_with_p_reaction.shape\n",
        "data_with_p_reaction.head()"
      ]
    },
    {
      "cell_type": "code",
      "execution_count": null,
      "id": "8f3de568",
      "metadata": {
        "id": "8f3de568",
        "outputId": "6833f6f8-83cd-43bb-d77d-7055654ee201"
      },
      "outputs": [
        {
          "data": {
            "text/plain": [
              "(0.023773207805185926, 2.0)"
            ]
          },
          "execution_count": 26,
          "metadata": {},
          "output_type": "execute_result"
        }
      ],
      "source": [
        "data_with_p_reaction.react_comment_r.min(),data_with_p_reaction.react_comment_r.max()"
      ]
    },
    {
      "cell_type": "code",
      "execution_count": null,
      "id": "ca564d09",
      "metadata": {
        "id": "ca564d09"
      },
      "outputs": [],
      "source": []
    },
    {
      "cell_type": "markdown",
      "source": [
        "When comments are less than ten, the reaction to comment ratio becomes higher. It means it created impressions but may not be enough interest in the customer base. At the same time, we can see that the three interaction types in the data 'haha', 'angry,' and 'sad' are there. Knowing Facebook as a social platform, these reactions are expressed in extreme emotions or disappointed by the product. It is work exploring the positive reactions 'likes,' 'loves,' and 'wows.' We can create positive reactions and adverse reactions summary here.\n",
        "\n",
        "Positive Reactions = sum('likes,' 'loves,' and 'wows.' )\n",
        "\n",
        "Negative Reactions = sum('haha', 'angry,' and 'sad' )\n",
        "\n",
        "With the variables mentioned above, we can check if the reaction to comment ratio is higher for selling attempts with positive comments or negative comments."
      ],
      "metadata": {
        "id": "oYqwRW29Rmwd"
      },
      "id": "oYqwRW29Rmwd"
    },
    {
      "cell_type": "code",
      "execution_count": null,
      "id": "55d3a0ed",
      "metadata": {
        "id": "55d3a0ed",
        "outputId": "03860e88-627c-4ab7-e125-ffc45148595d"
      },
      "outputs": [
        {
          "data": {
            "text/html": [
              "<div>\n",
              "<style scoped>\n",
              "    .dataframe tbody tr th:only-of-type {\n",
              "        vertical-align: middle;\n",
              "    }\n",
              "\n",
              "    .dataframe tbody tr th {\n",
              "        vertical-align: top;\n",
              "    }\n",
              "\n",
              "    .dataframe thead th {\n",
              "        text-align: right;\n",
              "    }\n",
              "</style>\n",
              "<table border=\"1\" class=\"dataframe\">\n",
              "  <thead>\n",
              "    <tr style=\"text-align: right;\">\n",
              "      <th></th>\n",
              "      <th>status_id</th>\n",
              "      <th>status_type</th>\n",
              "      <th>status_published</th>\n",
              "      <th>num_reactions</th>\n",
              "      <th>num_comments</th>\n",
              "      <th>num_shares</th>\n",
              "      <th>num_likes</th>\n",
              "      <th>num_loves</th>\n",
              "      <th>num_wows</th>\n",
              "      <th>num_hahas</th>\n",
              "      <th>num_sads</th>\n",
              "      <th>num_angrys</th>\n",
              "      <th>all_reaction_count</th>\n",
              "      <th>reactio_match</th>\n",
              "      <th>react_comment_r</th>\n",
              "      <th>react_share_r</th>\n",
              "    </tr>\n",
              "  </thead>\n",
              "  <tbody>\n",
              "    <tr>\n",
              "      <th>0</th>\n",
              "      <td>246675545449582_1649696485147474</td>\n",
              "      <td>video</td>\n",
              "      <td>4/22/2018 6:00</td>\n",
              "      <td>529</td>\n",
              "      <td>512</td>\n",
              "      <td>262</td>\n",
              "      <td>432</td>\n",
              "      <td>92</td>\n",
              "      <td>3</td>\n",
              "      <td>1</td>\n",
              "      <td>1</td>\n",
              "      <td>0</td>\n",
              "      <td>529</td>\n",
              "      <td>True</td>\n",
              "      <td>1.033203</td>\n",
              "      <td>2.019084</td>\n",
              "    </tr>\n",
              "    <tr>\n",
              "      <th>1</th>\n",
              "      <td>246675545449582_1649426988507757</td>\n",
              "      <td>photo</td>\n",
              "      <td>4/21/2018 22:45</td>\n",
              "      <td>150</td>\n",
              "      <td>0</td>\n",
              "      <td>0</td>\n",
              "      <td>150</td>\n",
              "      <td>0</td>\n",
              "      <td>0</td>\n",
              "      <td>0</td>\n",
              "      <td>0</td>\n",
              "      <td>0</td>\n",
              "      <td>150</td>\n",
              "      <td>True</td>\n",
              "      <td>0.000000</td>\n",
              "      <td>0.000000</td>\n",
              "    </tr>\n",
              "  </tbody>\n",
              "</table>\n",
              "</div>"
            ],
            "text/plain": [
              "                          status_id status_type status_published  \\\n",
              "0  246675545449582_1649696485147474       video   4/22/2018 6:00   \n",
              "1  246675545449582_1649426988507757       photo  4/21/2018 22:45   \n",
              "\n",
              "   num_reactions  num_comments  num_shares  num_likes  num_loves  num_wows  \\\n",
              "0            529           512         262        432         92         3   \n",
              "1            150             0           0        150          0         0   \n",
              "\n",
              "   num_hahas  num_sads  num_angrys  all_reaction_count  reactio_match  \\\n",
              "0          1         1           0                 529           True   \n",
              "1          0         0           0                 150           True   \n",
              "\n",
              "   react_comment_r  react_share_r  \n",
              "0         1.033203       2.019084  \n",
              "1         0.000000       0.000000  "
            ]
          },
          "execution_count": 27,
          "metadata": {},
          "output_type": "execute_result"
        }
      ],
      "source": [
        "data_ndp.head(2)"
      ]
    },
    {
      "cell_type": "code",
      "execution_count": null,
      "id": "215e1509",
      "metadata": {
        "id": "215e1509",
        "outputId": "041c5b08-d835-4786-a230-742e278ce4e1"
      },
      "outputs": [
        {
          "data": {
            "text/html": [
              "<div>\n",
              "<style scoped>\n",
              "    .dataframe tbody tr th:only-of-type {\n",
              "        vertical-align: middle;\n",
              "    }\n",
              "\n",
              "    .dataframe tbody tr th {\n",
              "        vertical-align: top;\n",
              "    }\n",
              "\n",
              "    .dataframe thead th {\n",
              "        text-align: right;\n",
              "    }\n",
              "</style>\n",
              "<table border=\"1\" class=\"dataframe\">\n",
              "  <thead>\n",
              "    <tr style=\"text-align: right;\">\n",
              "      <th></th>\n",
              "      <th>status_id</th>\n",
              "      <th>status_type</th>\n",
              "      <th>status_published</th>\n",
              "      <th>num_reactions</th>\n",
              "      <th>num_comments</th>\n",
              "      <th>num_shares</th>\n",
              "      <th>num_likes</th>\n",
              "      <th>num_loves</th>\n",
              "      <th>num_wows</th>\n",
              "      <th>num_hahas</th>\n",
              "      <th>num_sads</th>\n",
              "      <th>num_angrys</th>\n",
              "      <th>all_reaction_count</th>\n",
              "      <th>reactio_match</th>\n",
              "      <th>react_comment_r</th>\n",
              "      <th>react_share_r</th>\n",
              "      <th>postive_reactions</th>\n",
              "    </tr>\n",
              "  </thead>\n",
              "  <tbody>\n",
              "    <tr>\n",
              "      <th>0</th>\n",
              "      <td>246675545449582_1649696485147474</td>\n",
              "      <td>video</td>\n",
              "      <td>4/22/2018 6:00</td>\n",
              "      <td>529</td>\n",
              "      <td>512</td>\n",
              "      <td>262</td>\n",
              "      <td>432</td>\n",
              "      <td>92</td>\n",
              "      <td>3</td>\n",
              "      <td>1</td>\n",
              "      <td>1</td>\n",
              "      <td>0</td>\n",
              "      <td>529</td>\n",
              "      <td>True</td>\n",
              "      <td>1.033203</td>\n",
              "      <td>2.019084</td>\n",
              "      <td>527</td>\n",
              "    </tr>\n",
              "    <tr>\n",
              "      <th>1</th>\n",
              "      <td>246675545449582_1649426988507757</td>\n",
              "      <td>photo</td>\n",
              "      <td>4/21/2018 22:45</td>\n",
              "      <td>150</td>\n",
              "      <td>0</td>\n",
              "      <td>0</td>\n",
              "      <td>150</td>\n",
              "      <td>0</td>\n",
              "      <td>0</td>\n",
              "      <td>0</td>\n",
              "      <td>0</td>\n",
              "      <td>0</td>\n",
              "      <td>150</td>\n",
              "      <td>True</td>\n",
              "      <td>0.000000</td>\n",
              "      <td>0.000000</td>\n",
              "      <td>150</td>\n",
              "    </tr>\n",
              "  </tbody>\n",
              "</table>\n",
              "</div>"
            ],
            "text/plain": [
              "                          status_id status_type status_published  \\\n",
              "0  246675545449582_1649696485147474       video   4/22/2018 6:00   \n",
              "1  246675545449582_1649426988507757       photo  4/21/2018 22:45   \n",
              "\n",
              "   num_reactions  num_comments  num_shares  num_likes  num_loves  num_wows  \\\n",
              "0            529           512         262        432         92         3   \n",
              "1            150             0           0        150          0         0   \n",
              "\n",
              "   num_hahas  num_sads  num_angrys  all_reaction_count  reactio_match  \\\n",
              "0          1         1           0                 529           True   \n",
              "1          0         0           0                 150           True   \n",
              "\n",
              "   react_comment_r  react_share_r  postive_reactions  \n",
              "0         1.033203       2.019084                527  \n",
              "1         0.000000       0.000000                150  "
            ]
          },
          "execution_count": 28,
          "metadata": {},
          "output_type": "execute_result"
        }
      ],
      "source": [
        "data_ndp['postive_reactions'] = data_ndp.iloc[:,-10:-7].sum(axis=1)\n",
        "data_ndp.head(2)"
      ]
    },
    {
      "cell_type": "code",
      "execution_count": null,
      "id": "7abd8efe",
      "metadata": {
        "id": "7abd8efe",
        "outputId": "7e7a6f35-35b4-4ee1-ebe0-cfbc58b22ccc"
      },
      "outputs": [
        {
          "data": {
            "text/html": [
              "<div>\n",
              "<style scoped>\n",
              "    .dataframe tbody tr th:only-of-type {\n",
              "        vertical-align: middle;\n",
              "    }\n",
              "\n",
              "    .dataframe tbody tr th {\n",
              "        vertical-align: top;\n",
              "    }\n",
              "\n",
              "    .dataframe thead th {\n",
              "        text-align: right;\n",
              "    }\n",
              "</style>\n",
              "<table border=\"1\" class=\"dataframe\">\n",
              "  <thead>\n",
              "    <tr style=\"text-align: right;\">\n",
              "      <th></th>\n",
              "      <th>status_id</th>\n",
              "      <th>status_type</th>\n",
              "      <th>status_published</th>\n",
              "      <th>num_reactions</th>\n",
              "      <th>num_comments</th>\n",
              "      <th>num_shares</th>\n",
              "      <th>num_likes</th>\n",
              "      <th>num_loves</th>\n",
              "      <th>num_wows</th>\n",
              "      <th>num_hahas</th>\n",
              "      <th>num_sads</th>\n",
              "      <th>num_angrys</th>\n",
              "      <th>all_reaction_count</th>\n",
              "      <th>reactio_match</th>\n",
              "      <th>react_comment_r</th>\n",
              "      <th>react_share_r</th>\n",
              "      <th>postive_reactions</th>\n",
              "      <th>negative_reactions</th>\n",
              "    </tr>\n",
              "  </thead>\n",
              "  <tbody>\n",
              "    <tr>\n",
              "      <th>0</th>\n",
              "      <td>246675545449582_1649696485147474</td>\n",
              "      <td>video</td>\n",
              "      <td>4/22/2018 6:00</td>\n",
              "      <td>529</td>\n",
              "      <td>512</td>\n",
              "      <td>262</td>\n",
              "      <td>432</td>\n",
              "      <td>92</td>\n",
              "      <td>3</td>\n",
              "      <td>1</td>\n",
              "      <td>1</td>\n",
              "      <td>0</td>\n",
              "      <td>529</td>\n",
              "      <td>True</td>\n",
              "      <td>1.033203</td>\n",
              "      <td>2.019084</td>\n",
              "      <td>527</td>\n",
              "      <td>2</td>\n",
              "    </tr>\n",
              "    <tr>\n",
              "      <th>1</th>\n",
              "      <td>246675545449582_1649426988507757</td>\n",
              "      <td>photo</td>\n",
              "      <td>4/21/2018 22:45</td>\n",
              "      <td>150</td>\n",
              "      <td>0</td>\n",
              "      <td>0</td>\n",
              "      <td>150</td>\n",
              "      <td>0</td>\n",
              "      <td>0</td>\n",
              "      <td>0</td>\n",
              "      <td>0</td>\n",
              "      <td>0</td>\n",
              "      <td>150</td>\n",
              "      <td>True</td>\n",
              "      <td>0.000000</td>\n",
              "      <td>0.000000</td>\n",
              "      <td>150</td>\n",
              "      <td>0</td>\n",
              "    </tr>\n",
              "  </tbody>\n",
              "</table>\n",
              "</div>"
            ],
            "text/plain": [
              "                          status_id status_type status_published  \\\n",
              "0  246675545449582_1649696485147474       video   4/22/2018 6:00   \n",
              "1  246675545449582_1649426988507757       photo  4/21/2018 22:45   \n",
              "\n",
              "   num_reactions  num_comments  num_shares  num_likes  num_loves  num_wows  \\\n",
              "0            529           512         262        432         92         3   \n",
              "1            150             0           0        150          0         0   \n",
              "\n",
              "   num_hahas  num_sads  num_angrys  all_reaction_count  reactio_match  \\\n",
              "0          1         1           0                 529           True   \n",
              "1          0         0           0                 150           True   \n",
              "\n",
              "   react_comment_r  react_share_r  postive_reactions  negative_reactions  \n",
              "0         1.033203       2.019084                527                   2  \n",
              "1         0.000000       0.000000                150                   0  "
            ]
          },
          "execution_count": 29,
          "metadata": {},
          "output_type": "execute_result"
        }
      ],
      "source": [
        "data_ndp['negative_reactions'] = data_ndp.iloc[:,-8:-5].sum(axis=1)\n",
        "data_ndp.head(2)"
      ]
    },
    {
      "cell_type": "code",
      "execution_count": null,
      "id": "ed9a6af8",
      "metadata": {
        "id": "ed9a6af8",
        "outputId": "ab2c9195-2b7a-487d-dda6-0c37a00e954d"
      },
      "outputs": [
        {
          "data": {
            "text/plain": [
              "<AxesSubplot:title={'center':'Number of Comments v.s Negative Reactions'}, xlabel='num_comments', ylabel='negative_reactions'>"
            ]
          },
          "execution_count": 30,
          "metadata": {},
          "output_type": "execute_result"
        },
        {
          "data": {
            "image/png": "[encoded data removed]",
            "text/plain": [
              "<Figure size 1152x360 with 1 Axes>"
            ]
          },
          "metadata": {
            "needs_background": "light"
          },
          "output_type": "display_data"
        }
      ],
      "source": [
        "data_ndp.plot.scatter(x='num_comments',\n",
        "                      y='negative_reactions',\n",
        "                     figsize=(16,5),\n",
        "                     title=\"Number of Comments v.s Negative Reactions\")"
      ]
    },
    {
      "cell_type": "code",
      "execution_count": null,
      "id": "83dbb3b0",
      "metadata": {
        "id": "83dbb3b0",
        "outputId": "8c5f1d65-ff8d-48d3-eb46-7130cead5c03"
      },
      "outputs": [
        {
          "data": {
            "text/plain": [
              "<AxesSubplot:title={'center':'Number of Comments v.s Positive Reactions'}, xlabel='num_comments', ylabel='postive_reactions'>"
            ]
          },
          "execution_count": 31,
          "metadata": {},
          "output_type": "execute_result"
        },
        {
          "data": {
            "image/png": "[encoded data removed]",
            "text/plain": [
              "<Figure size 1152x360 with 1 Axes>"
            ]
          },
          "metadata": {
            "needs_background": "light"
          },
          "output_type": "display_data"
        }
      ],
      "source": [
        "data_ndp.plot.scatter(x='num_comments',\n",
        "                      y='postive_reactions',\n",
        "                     figsize=(16,5),\n",
        "                     title=\"Number of Comments v.s Positive Reactions\")"
      ]
    },
    {
      "cell_type": "code",
      "execution_count": null,
      "id": "b7f959dc",
      "metadata": {
        "id": "b7f959dc",
        "outputId": "1cca9bff-c815-4854-c2ab-8dac8fb371ea"
      },
      "outputs": [
        {
          "data": {
            "text/plain": [
              "(0, 20990)"
            ]
          },
          "execution_count": 32,
          "metadata": {},
          "output_type": "execute_result"
        }
      ],
      "source": [
        "data_ndp.num_comments.min(),data_ndp.num_comments.max()"
      ]
    },
    {
      "cell_type": "code",
      "execution_count": null,
      "id": "35022b6a",
      "metadata": {
        "id": "35022b6a",
        "outputId": "cd5ba532-56ed-4938-ed80-2116dadf88f4"
      },
      "outputs": [
        {
          "data": {
            "text/html": [
              "<div>\n",
              "<style scoped>\n",
              "    .dataframe tbody tr th:only-of-type {\n",
              "        vertical-align: middle;\n",
              "    }\n",
              "\n",
              "    .dataframe tbody tr th {\n",
              "        vertical-align: top;\n",
              "    }\n",
              "\n",
              "    .dataframe thead th {\n",
              "        text-align: right;\n",
              "    }\n",
              "</style>\n",
              "<table border=\"1\" class=\"dataframe\">\n",
              "  <thead>\n",
              "    <tr style=\"text-align: right;\">\n",
              "      <th></th>\n",
              "      <th>status_id</th>\n",
              "      <th>status_type</th>\n",
              "      <th>status_published</th>\n",
              "      <th>num_reactions</th>\n",
              "      <th>num_comments</th>\n",
              "      <th>num_shares</th>\n",
              "      <th>num_likes</th>\n",
              "      <th>num_loves</th>\n",
              "      <th>num_wows</th>\n",
              "      <th>num_hahas</th>\n",
              "      <th>num_sads</th>\n",
              "      <th>num_angrys</th>\n",
              "      <th>react_comment_r</th>\n",
              "      <th>react_share_r</th>\n",
              "      <th>postive_reactions</th>\n",
              "      <th>negative_reactions</th>\n",
              "    </tr>\n",
              "  </thead>\n",
              "  <tbody>\n",
              "    <tr>\n",
              "      <th>0</th>\n",
              "      <td>246675545449582_1649696485147474</td>\n",
              "      <td>video</td>\n",
              "      <td>4/22/2018 6:00</td>\n",
              "      <td>529</td>\n",
              "      <td>512</td>\n",
              "      <td>262</td>\n",
              "      <td>432</td>\n",
              "      <td>92</td>\n",
              "      <td>3</td>\n",
              "      <td>1</td>\n",
              "      <td>1</td>\n",
              "      <td>0</td>\n",
              "      <td>1.033203</td>\n",
              "      <td>2.019084</td>\n",
              "      <td>527</td>\n",
              "      <td>2</td>\n",
              "    </tr>\n",
              "    <tr>\n",
              "      <th>1</th>\n",
              "      <td>246675545449582_1649426988507757</td>\n",
              "      <td>photo</td>\n",
              "      <td>4/21/2018 22:45</td>\n",
              "      <td>150</td>\n",
              "      <td>0</td>\n",
              "      <td>0</td>\n",
              "      <td>150</td>\n",
              "      <td>0</td>\n",
              "      <td>0</td>\n",
              "      <td>0</td>\n",
              "      <td>0</td>\n",
              "      <td>0</td>\n",
              "      <td>0.000000</td>\n",
              "      <td>0.000000</td>\n",
              "      <td>150</td>\n",
              "      <td>0</td>\n",
              "    </tr>\n",
              "    <tr>\n",
              "      <th>2</th>\n",
              "      <td>246675545449582_1648730588577397</td>\n",
              "      <td>video</td>\n",
              "      <td>4/21/2018 6:17</td>\n",
              "      <td>227</td>\n",
              "      <td>236</td>\n",
              "      <td>57</td>\n",
              "      <td>204</td>\n",
              "      <td>21</td>\n",
              "      <td>1</td>\n",
              "      <td>1</td>\n",
              "      <td>0</td>\n",
              "      <td>0</td>\n",
              "      <td>0.961864</td>\n",
              "      <td>3.982456</td>\n",
              "      <td>226</td>\n",
              "      <td>1</td>\n",
              "    </tr>\n",
              "    <tr>\n",
              "      <th>3</th>\n",
              "      <td>246675545449582_1648576705259452</td>\n",
              "      <td>photo</td>\n",
              "      <td>4/21/2018 2:29</td>\n",
              "      <td>111</td>\n",
              "      <td>0</td>\n",
              "      <td>0</td>\n",
              "      <td>111</td>\n",
              "      <td>0</td>\n",
              "      <td>0</td>\n",
              "      <td>0</td>\n",
              "      <td>0</td>\n",
              "      <td>0</td>\n",
              "      <td>0.000000</td>\n",
              "      <td>0.000000</td>\n",
              "      <td>111</td>\n",
              "      <td>0</td>\n",
              "    </tr>\n",
              "    <tr>\n",
              "      <th>4</th>\n",
              "      <td>246675545449582_1645700502213739</td>\n",
              "      <td>photo</td>\n",
              "      <td>4/18/2018 3:22</td>\n",
              "      <td>213</td>\n",
              "      <td>0</td>\n",
              "      <td>0</td>\n",
              "      <td>204</td>\n",
              "      <td>9</td>\n",
              "      <td>0</td>\n",
              "      <td>0</td>\n",
              "      <td>0</td>\n",
              "      <td>0</td>\n",
              "      <td>0.000000</td>\n",
              "      <td>0.000000</td>\n",
              "      <td>213</td>\n",
              "      <td>0</td>\n",
              "    </tr>\n",
              "  </tbody>\n",
              "</table>\n",
              "</div>"
            ],
            "text/plain": [
              "                          status_id status_type status_published  \\\n",
              "0  246675545449582_1649696485147474       video   4/22/2018 6:00   \n",
              "1  246675545449582_1649426988507757       photo  4/21/2018 22:45   \n",
              "2  246675545449582_1648730588577397       video   4/21/2018 6:17   \n",
              "3  246675545449582_1648576705259452       photo   4/21/2018 2:29   \n",
              "4  246675545449582_1645700502213739       photo   4/18/2018 3:22   \n",
              "\n",
              "   num_reactions  num_comments  num_shares  num_likes  num_loves  num_wows  \\\n",
              "0            529           512         262        432         92         3   \n",
              "1            150             0           0        150          0         0   \n",
              "2            227           236          57        204         21         1   \n",
              "3            111             0           0        111          0         0   \n",
              "4            213             0           0        204          9         0   \n",
              "\n",
              "   num_hahas  num_sads  num_angrys  react_comment_r  react_share_r  \\\n",
              "0          1         1           0         1.033203       2.019084   \n",
              "1          0         0           0         0.000000       0.000000   \n",
              "2          1         0           0         0.961864       3.982456   \n",
              "3          0         0           0         0.000000       0.000000   \n",
              "4          0         0           0         0.000000       0.000000   \n",
              "\n",
              "   postive_reactions  negative_reactions  \n",
              "0                527                   2  \n",
              "1                150                   0  \n",
              "2                226                   1  \n",
              "3                111                   0  \n",
              "4                213                   0  "
            ]
          },
          "execution_count": 33,
          "metadata": {},
          "output_type": "execute_result"
        }
      ],
      "source": [
        "clean_data = data_ndp.drop(['all_reaction_count','reactio_match'],\n",
        "                          axis=1)\n",
        "clean_data.head()"
      ]
    },
    {
      "cell_type": "code",
      "execution_count": null,
      "id": "6b5ed729",
      "metadata": {
        "id": "6b5ed729"
      },
      "outputs": [],
      "source": [
        "clean_data.to_csv(\"clean_data_v1.0.csv\",\n",
        "                  index=False)"
      ]
    },
    {
      "cell_type": "code",
      "execution_count": null,
      "id": "ac71592e",
      "metadata": {
        "id": "ac71592e"
      },
      "outputs": [],
      "source": []
    }
  ],
  "metadata": {
    "kernelspec": {
      "display_name": "Python 3 (ipykernel)",
      "language": "python",
      "name": "python3"
    },
    "language_info": {
      "codemirror_mode": {
        "name": "ipython",
        "version": 3
      },
      "file_extension": ".py",
      "mimetype": "text/x-python",
      "name": "python",
      "nbconvert_exporter": "python",
      "pygments_lexer": "ipython3",
      "version": "3.9.7"
    },
    "colab": {
      "provenance": [],
      "include_colab_link": true
    }
  },
  "nbformat": 4,
  "nbformat_minor": 5
}