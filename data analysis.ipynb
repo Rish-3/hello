{
 "cells": [
  {
   "cell_type": "code",
   "execution_count": 4,
   "id": "a8ab66b0",
   "metadata": {},
   "outputs": [],
   "source": [
    "import numpy as np\n",
    "import pandas as pd\n",
    "import matplotlib.pyplot as plt\n"
   ]
  },
  {
   "cell_type": "code",
   "execution_count": 11,
   "id": "80ad8f3b",
   "metadata": {},
   "outputs": [],
   "source": [
    "df=pd.read_csv('C:/Users/Renu Rawat/Data_Python/sample_Employee_data_xlsx.csv')"
   ]
  },
  {
   "cell_type": "code",
   "execution_count": 12,
   "id": "0417278a",
   "metadata": {},
   "outputs": [
    {
     "data": {
      "text/html": [
       "<div>\n",
       "<style scoped>\n",
       "    .dataframe tbody tr th:only-of-type {\n",
       "        vertical-align: middle;\n",
       "    }\n",
       "\n",
       "    .dataframe tbody tr th {\n",
       "        vertical-align: top;\n",
       "    }\n",
       "\n",
       "    .dataframe thead th {\n",
       "        text-align: right;\n",
       "    }\n",
       "</style>\n",
       "<table border=\"1\" class=\"dataframe\">\n",
       "  <thead>\n",
       "    <tr style=\"text-align: right;\">\n",
       "      <th></th>\n",
       "      <th>first_name</th>\n",
       "      <th>last_name</th>\n",
       "      <th>company_name</th>\n",
       "      <th>address</th>\n",
       "      <th>city</th>\n",
       "      <th>county</th>\n",
       "      <th>postal</th>\n",
       "      <th>phone</th>\n",
       "      <th>email</th>\n",
       "      <th>web</th>\n",
       "    </tr>\n",
       "  </thead>\n",
       "  <tbody>\n",
       "    <tr>\n",
       "      <th>0</th>\n",
       "      <td>Aleshia</td>\n",
       "      <td>Tomkiewicz</td>\n",
       "      <td>Alan D Rosenburg Cpa Pc</td>\n",
       "      <td>14 Taylor St</td>\n",
       "      <td>St. Stephens Ward</td>\n",
       "      <td>Kent</td>\n",
       "      <td>CT2 7PP</td>\n",
       "      <td>01944-369967</td>\n",
       "      <td>atomkiewicz@hotmail.com</td>\n",
       "      <td>http://www.alandrosenburgcpapc.co.uk</td>\n",
       "    </tr>\n",
       "    <tr>\n",
       "      <th>1</th>\n",
       "      <td>Evan</td>\n",
       "      <td>Zigomalas</td>\n",
       "      <td>Cap Gemini America</td>\n",
       "      <td>5 Binney St</td>\n",
       "      <td>Abbey Ward</td>\n",
       "      <td>Buckinghamshire</td>\n",
       "      <td>HP11 2AX</td>\n",
       "      <td>01714-737668</td>\n",
       "      <td>evan.zigomalas@gmail.com</td>\n",
       "      <td>http://www.capgeminiamerica.co.uk</td>\n",
       "    </tr>\n",
       "    <tr>\n",
       "      <th>2</th>\n",
       "      <td>France</td>\n",
       "      <td>Andrade</td>\n",
       "      <td>Elliott, John W Esq</td>\n",
       "      <td>8 Moor Place</td>\n",
       "      <td>East Southbourne and Tuckton W</td>\n",
       "      <td>Bournemouth</td>\n",
       "      <td>BH6 3BE</td>\n",
       "      <td>01935-821636</td>\n",
       "      <td>france.andrade@hotmail.com</td>\n",
       "      <td>http://www.elliottjohnwesq.co.uk</td>\n",
       "    </tr>\n",
       "    <tr>\n",
       "      <th>3</th>\n",
       "      <td>Ulysses</td>\n",
       "      <td>Mcwalters</td>\n",
       "      <td>Mcmahan, Ben L</td>\n",
       "      <td>505 Exeter Rd</td>\n",
       "      <td>Hawerby cum Beesby</td>\n",
       "      <td>Lincolnshire</td>\n",
       "      <td>DN36 5RP</td>\n",
       "      <td>01302-601380</td>\n",
       "      <td>ulysses@hotmail.com</td>\n",
       "      <td>http://www.mcmahanbenl.co.uk</td>\n",
       "    </tr>\n",
       "    <tr>\n",
       "      <th>4</th>\n",
       "      <td>Tyisha</td>\n",
       "      <td>Veness</td>\n",
       "      <td>Champagne Room</td>\n",
       "      <td>5396 Forth Street</td>\n",
       "      <td>Greets Green and Lyng Ward</td>\n",
       "      <td>West Midlands</td>\n",
       "      <td>B70 9DT</td>\n",
       "      <td>01290-367248</td>\n",
       "      <td>tyisha.veness@hotmail.com</td>\n",
       "      <td>http://www.champagneroom.co.uk</td>\n",
       "    </tr>\n",
       "    <tr>\n",
       "      <th>...</th>\n",
       "      <td>...</td>\n",
       "      <td>...</td>\n",
       "      <td>...</td>\n",
       "      <td>...</td>\n",
       "      <td>...</td>\n",
       "      <td>...</td>\n",
       "      <td>...</td>\n",
       "      <td>...</td>\n",
       "      <td>...</td>\n",
       "      <td>...</td>\n",
       "    </tr>\n",
       "    <tr>\n",
       "      <th>1995</th>\n",
       "      <td>Avery</td>\n",
       "      <td>Veit</td>\n",
       "      <td>Plaza Gourmet Delicatessen</td>\n",
       "      <td>9166 Devon St #905</td>\n",
       "      <td>Knightsbridge and Belgravia Wa</td>\n",
       "      <td>Greater London</td>\n",
       "      <td>SW1W 8JY</td>\n",
       "      <td>01369-185737</td>\n",
       "      <td>avery@veit.co.uk</td>\n",
       "      <td>http://www.plazagourmetdelicatessen.co.uk</td>\n",
       "    </tr>\n",
       "    <tr>\n",
       "      <th>1996</th>\n",
       "      <td>Reid</td>\n",
       "      <td>Euresti</td>\n",
       "      <td>Fitzgerald, Edward J</td>\n",
       "      <td>70 Foster St</td>\n",
       "      <td>Inverness Ness-Side Ward</td>\n",
       "      <td>Highland</td>\n",
       "      <td>IV2 6WT</td>\n",
       "      <td>01370-319414</td>\n",
       "      <td>reuresti@euresti.co.uk</td>\n",
       "      <td>http://www.fitzgeraldedwardj.co.uk</td>\n",
       "    </tr>\n",
       "    <tr>\n",
       "      <th>1997</th>\n",
       "      <td>Charlette</td>\n",
       "      <td>Brenning</td>\n",
       "      <td>Furey &amp; Associates</td>\n",
       "      <td>714 Fonthill Rd</td>\n",
       "      <td>Darton West Ward</td>\n",
       "      <td>South Yorkshire</td>\n",
       "      <td>S75 5EJ</td>\n",
       "      <td>01301-312487</td>\n",
       "      <td>cbrenning@brenning.co.uk</td>\n",
       "      <td>http://www.fureyassociates.co.uk</td>\n",
       "    </tr>\n",
       "    <tr>\n",
       "      <th>1998</th>\n",
       "      <td>Celestina</td>\n",
       "      <td>Keeny</td>\n",
       "      <td>Bfg Federal Credit Union</td>\n",
       "      <td>9 Milton St</td>\n",
       "      <td>Consett North ED</td>\n",
       "      <td>County Durham</td>\n",
       "      <td>DH8 5LP</td>\n",
       "      <td>01600-463475</td>\n",
       "      <td>celestina_keeny@gmail.com</td>\n",
       "      <td>http://www.bfgfederalcreditunion.co.uk</td>\n",
       "    </tr>\n",
       "    <tr>\n",
       "      <th>1999</th>\n",
       "      <td>Mi</td>\n",
       "      <td>Richan</td>\n",
       "      <td>Nelson Wright Haworth Golf Crs</td>\n",
       "      <td>6 Norwood Grove</td>\n",
       "      <td>Tanworth-in-Arden</td>\n",
       "      <td>Warwickshire</td>\n",
       "      <td>B94 5RZ</td>\n",
       "      <td>01202-738406</td>\n",
       "      <td>mi@hotmail.com</td>\n",
       "      <td>http://www.nelsonwrighthaworthgolfcrs.co.uk</td>\n",
       "    </tr>\n",
       "  </tbody>\n",
       "</table>\n",
       "<p>2000 rows × 10 columns</p>\n",
       "</div>"
      ],
      "text/plain": [
       "     first_name   last_name                    company_name  \\\n",
       "0       Aleshia  Tomkiewicz         Alan D Rosenburg Cpa Pc   \n",
       "1          Evan   Zigomalas              Cap Gemini America   \n",
       "2        France     Andrade             Elliott, John W Esq   \n",
       "3       Ulysses   Mcwalters                  Mcmahan, Ben L   \n",
       "4        Tyisha      Veness                  Champagne Room   \n",
       "...         ...         ...                             ...   \n",
       "1995      Avery        Veit      Plaza Gourmet Delicatessen   \n",
       "1996       Reid     Euresti            Fitzgerald, Edward J   \n",
       "1997  Charlette    Brenning              Furey & Associates   \n",
       "1998  Celestina       Keeny        Bfg Federal Credit Union   \n",
       "1999         Mi      Richan  Nelson Wright Haworth Golf Crs   \n",
       "\n",
       "                 address                            city           county  \\\n",
       "0           14 Taylor St               St. Stephens Ward             Kent   \n",
       "1            5 Binney St                      Abbey Ward  Buckinghamshire   \n",
       "2           8 Moor Place  East Southbourne and Tuckton W      Bournemouth   \n",
       "3          505 Exeter Rd              Hawerby cum Beesby     Lincolnshire   \n",
       "4      5396 Forth Street      Greets Green and Lyng Ward    West Midlands   \n",
       "...                  ...                             ...              ...   \n",
       "1995  9166 Devon St #905  Knightsbridge and Belgravia Wa   Greater London   \n",
       "1996        70 Foster St        Inverness Ness-Side Ward         Highland   \n",
       "1997     714 Fonthill Rd                Darton West Ward  South Yorkshire   \n",
       "1998         9 Milton St                Consett North ED    County Durham   \n",
       "1999     6 Norwood Grove               Tanworth-in-Arden     Warwickshire   \n",
       "\n",
       "        postal         phone                       email  \\\n",
       "0      CT2 7PP  01944-369967     atomkiewicz@hotmail.com   \n",
       "1     HP11 2AX  01714-737668    evan.zigomalas@gmail.com   \n",
       "2      BH6 3BE  01935-821636  france.andrade@hotmail.com   \n",
       "3     DN36 5RP  01302-601380         ulysses@hotmail.com   \n",
       "4      B70 9DT  01290-367248   tyisha.veness@hotmail.com   \n",
       "...        ...           ...                         ...   \n",
       "1995  SW1W 8JY  01369-185737            avery@veit.co.uk   \n",
       "1996   IV2 6WT  01370-319414      reuresti@euresti.co.uk   \n",
       "1997   S75 5EJ  01301-312487    cbrenning@brenning.co.uk   \n",
       "1998   DH8 5LP  01600-463475   celestina_keeny@gmail.com   \n",
       "1999   B94 5RZ  01202-738406              mi@hotmail.com   \n",
       "\n",
       "                                              web  \n",
       "0            http://www.alandrosenburgcpapc.co.uk  \n",
       "1               http://www.capgeminiamerica.co.uk  \n",
       "2                http://www.elliottjohnwesq.co.uk  \n",
       "3                    http://www.mcmahanbenl.co.uk  \n",
       "4                  http://www.champagneroom.co.uk  \n",
       "...                                           ...  \n",
       "1995    http://www.plazagourmetdelicatessen.co.uk  \n",
       "1996           http://www.fitzgeraldedwardj.co.uk  \n",
       "1997             http://www.fureyassociates.co.uk  \n",
       "1998       http://www.bfgfederalcreditunion.co.uk  \n",
       "1999  http://www.nelsonwrighthaworthgolfcrs.co.uk  \n",
       "\n",
       "[2000 rows x 10 columns]"
      ]
     },
     "execution_count": 12,
     "metadata": {},
     "output_type": "execute_result"
    }
   ],
   "source": [
    "df"
   ]
  },
  {
   "cell_type": "code",
   "execution_count": 13,
   "id": "98656c18",
   "metadata": {},
   "outputs": [
    {
     "name": "stdout",
     "output_type": "stream",
     "text": [
      "  first_name   last_name             company_name            address  \\\n",
      "0    Aleshia  Tomkiewicz  Alan D Rosenburg Cpa Pc       14 Taylor St   \n",
      "1       Evan   Zigomalas       Cap Gemini America        5 Binney St   \n",
      "2     France     Andrade      Elliott, John W Esq       8 Moor Place   \n",
      "3    Ulysses   Mcwalters           Mcmahan, Ben L      505 Exeter Rd   \n",
      "4     Tyisha      Veness           Champagne Room  5396 Forth Street   \n",
      "\n",
      "                             city           county    postal         phone  \\\n",
      "0               St. Stephens Ward             Kent   CT2 7PP  01944-369967   \n",
      "1                      Abbey Ward  Buckinghamshire  HP11 2AX  01714-737668   \n",
      "2  East Southbourne and Tuckton W      Bournemouth   BH6 3BE  01935-821636   \n",
      "3              Hawerby cum Beesby     Lincolnshire  DN36 5RP  01302-601380   \n",
      "4      Greets Green and Lyng Ward    West Midlands   B70 9DT  01290-367248   \n",
      "\n",
      "                        email                                   web  \n",
      "0     atomkiewicz@hotmail.com  http://www.alandrosenburgcpapc.co.uk  \n",
      "1    evan.zigomalas@gmail.com     http://www.capgeminiamerica.co.uk  \n",
      "2  france.andrade@hotmail.com      http://www.elliottjohnwesq.co.uk  \n",
      "3         ulysses@hotmail.com          http://www.mcmahanbenl.co.uk  \n",
      "4   tyisha.veness@hotmail.com        http://www.champagneroom.co.uk  \n"
     ]
    }
   ],
   "source": [
    "print(df.head()) # head method only show the first 5 row"
   ]
  },
  {
   "cell_type": "code",
   "execution_count": 14,
   "id": "208992de",
   "metadata": {},
   "outputs": [
    {
     "name": "stdout",
     "output_type": "stream",
     "text": [
      "     first_name last_name                    company_name             address  \\\n",
      "1995      Avery      Veit      Plaza Gourmet Delicatessen  9166 Devon St #905   \n",
      "1996       Reid   Euresti            Fitzgerald, Edward J        70 Foster St   \n",
      "1997  Charlette  Brenning              Furey & Associates     714 Fonthill Rd   \n",
      "1998  Celestina     Keeny        Bfg Federal Credit Union         9 Milton St   \n",
      "1999         Mi    Richan  Nelson Wright Haworth Golf Crs     6 Norwood Grove   \n",
      "\n",
      "                                city           county    postal         phone  \\\n",
      "1995  Knightsbridge and Belgravia Wa   Greater London  SW1W 8JY  01369-185737   \n",
      "1996        Inverness Ness-Side Ward         Highland   IV2 6WT  01370-319414   \n",
      "1997                Darton West Ward  South Yorkshire   S75 5EJ  01301-312487   \n",
      "1998                Consett North ED    County Durham   DH8 5LP  01600-463475   \n",
      "1999               Tanworth-in-Arden     Warwickshire   B94 5RZ  01202-738406   \n",
      "\n",
      "                          email                                          web  \n",
      "1995           avery@veit.co.uk    http://www.plazagourmetdelicatessen.co.uk  \n",
      "1996     reuresti@euresti.co.uk           http://www.fitzgeraldedwardj.co.uk  \n",
      "1997   cbrenning@brenning.co.uk             http://www.fureyassociates.co.uk  \n",
      "1998  celestina_keeny@gmail.com       http://www.bfgfederalcreditunion.co.uk  \n",
      "1999             mi@hotmail.com  http://www.nelsonwrighthaworthgolfcrs.co.uk  \n"
     ]
    }
   ],
   "source": [
    "print(df.tail()) # tail show last 5 rows"
   ]
  },
  {
   "cell_type": "markdown",
   "id": "945edf36",
   "metadata": {},
   "source": [
    "# how many rows and columns"
   ]
  },
  {
   "cell_type": "code",
   "execution_count": 17,
   "id": "a1af1215",
   "metadata": {},
   "outputs": [
    {
     "name": "stdout",
     "output_type": "stream",
     "text": [
      "(2000, 10)\n"
     ]
    }
   ],
   "source": [
    "print(df.shape)"
   ]
  },
  {
   "cell_type": "markdown",
   "id": "7e3c5a8e",
   "metadata": {},
   "source": [
    "# columns name "
   ]
  },
  {
   "cell_type": "code",
   "execution_count": 18,
   "id": "1f7d762c",
   "metadata": {},
   "outputs": [
    {
     "name": "stdout",
     "output_type": "stream",
     "text": [
      "Index(['first_name', 'last_name', 'company_name', 'address', 'city', 'county',\n",
      "       'postal', 'phone', 'email', 'web'],\n",
      "      dtype='object')\n"
     ]
    }
   ],
   "source": [
    "print(df.columns)"
   ]
  },
  {
   "cell_type": "markdown",
   "id": "651ba520",
   "metadata": {},
   "source": [
    "# get the type of each column"
   ]
  },
  {
   "cell_type": "code",
   "execution_count": 20,
   "id": "b9060eb5",
   "metadata": {},
   "outputs": [
    {
     "name": "stdout",
     "output_type": "stream",
     "text": [
      "first_name      object\n",
      "last_name       object\n",
      "company_name    object\n",
      "address         object\n",
      "city            object\n",
      "county          object\n",
      "postal          object\n",
      "phone           object\n",
      "email           object\n",
      "web             object\n",
      "dtype: object\n"
     ]
    }
   ],
   "source": [
    "print(df.dtypes)"
   ]
  },
  {
   "cell_type": "markdown",
   "id": "45f7d5ca",
   "metadata": {},
   "source": [
    "# pandas types versus python types"
   ]
  },
  {
   "cell_type": "code",
   "execution_count": 21,
   "id": "658f981f",
   "metadata": {},
   "outputs": [],
   "source": [
    "#GET MORE IMFORMATION ABOUT DATA"
   ]
  },
  {
   "cell_type": "code",
   "execution_count": 22,
   "id": "c0631010",
   "metadata": {},
   "outputs": [
    {
     "name": "stdout",
     "output_type": "stream",
     "text": [
      "<class 'pandas.core.frame.DataFrame'>\n",
      "RangeIndex: 2000 entries, 0 to 1999\n",
      "Data columns (total 10 columns):\n",
      " #   Column        Non-Null Count  Dtype \n",
      "---  ------        --------------  ----- \n",
      " 0   first_name    2000 non-null   object\n",
      " 1   last_name     2000 non-null   object\n",
      " 2   company_name  2000 non-null   object\n",
      " 3   address       2000 non-null   object\n",
      " 4   city          2000 non-null   object\n",
      " 5   county        2000 non-null   object\n",
      " 6   postal        2000 non-null   object\n",
      " 7   phone         2000 non-null   object\n",
      " 8   email         2000 non-null   object\n",
      " 9   web           2000 non-null   object\n",
      "dtypes: object(10)\n",
      "memory usage: 156.4+ KB\n",
      "None\n"
     ]
    }
   ],
   "source": [
    "print(df.info())"
   ]
  },
  {
   "cell_type": "markdown",
   "id": "e8cbbb8d",
   "metadata": {},
   "source": [
    "# looking at columns ,row and cells"
   ]
  },
  {
   "cell_type": "code",
   "execution_count": 23,
   "id": "ebe89c1d",
   "metadata": {},
   "outputs": [],
   "source": [
    "first_name_df=df['first_name']"
   ]
  },
  {
   "cell_type": "code",
   "execution_count": 24,
   "id": "b28375fc",
   "metadata": {},
   "outputs": [
    {
     "name": "stdout",
     "output_type": "stream",
     "text": [
      "0    Aleshia\n",
      "1       Evan\n",
      "2     France\n",
      "3    Ulysses\n",
      "4     Tyisha\n",
      "Name: first_name, dtype: object\n"
     ]
    }
   ],
   "source": [
    "print(first_name_df.head())"
   ]
  },
  {
   "cell_type": "code",
   "execution_count": 25,
   "id": "c059d2a5",
   "metadata": {},
   "outputs": [
    {
     "name": "stdout",
     "output_type": "stream",
     "text": [
      "1995        Avery\n",
      "1996         Reid\n",
      "1997    Charlette\n",
      "1998    Celestina\n",
      "1999           Mi\n",
      "Name: first_name, dtype: object\n"
     ]
    }
   ],
   "source": [
    "print(first_name_df.tail())"
   ]
  },
  {
   "cell_type": "markdown",
   "id": "8171750b",
   "metadata": {},
   "source": [
    "# looking first name ,e-mail,city"
   ]
  },
  {
   "cell_type": "code",
   "execution_count": 30,
   "id": "347716d9",
   "metadata": {},
   "outputs": [
    {
     "name": "stdout",
     "output_type": "stream",
     "text": [
      "  first_name                       email                            city\n",
      "0    Aleshia     atomkiewicz@hotmail.com               St. Stephens Ward\n",
      "1       Evan    evan.zigomalas@gmail.com                      Abbey Ward\n",
      "2     France  france.andrade@hotmail.com  East Southbourne and Tuckton W\n",
      "3    Ulysses         ulysses@hotmail.com              Hawerby cum Beesby\n",
      "4     Tyisha   tyisha.veness@hotmail.com      Greets Green and Lyng Ward\n"
     ]
    }
   ],
   "source": [
    "subset = df[['first_name','email','city']] \n",
    "print(subset.head())"
   ]
  },
  {
   "cell_type": "code",
   "execution_count": 31,
   "id": "2ee26fff",
   "metadata": {},
   "outputs": [
    {
     "name": "stdout",
     "output_type": "stream",
     "text": [
      "    last_name         phone             company_name\n",
      "0  Tomkiewicz  01944-369967  Alan D Rosenburg Cpa Pc\n",
      "1   Zigomalas  01714-737668       Cap Gemini America\n",
      "2     Andrade  01935-821636      Elliott, John W Esq\n",
      "3   Mcwalters  01302-601380           Mcmahan, Ben L\n",
      "4      Veness  01290-367248           Champagne Room\n"
     ]
    }
   ],
   "source": [
    "subset = df[['last_name','phone','company_name']]\n",
    "print(subset.head())"
   ]
  },
  {
   "cell_type": "code",
   "execution_count": 32,
   "id": "57f71d44",
   "metadata": {},
   "outputs": [
    {
     "name": "stdout",
     "output_type": "stream",
     "text": [
      "     first_name                    company_name  \\\n",
      "1995      Avery      Plaza Gourmet Delicatessen   \n",
      "1996       Reid            Fitzgerald, Edward J   \n",
      "1997  Charlette              Furey & Associates   \n",
      "1998  Celestina        Bfg Federal Credit Union   \n",
      "1999         Mi  Nelson Wright Haworth Golf Crs   \n",
      "\n",
      "                                city  \n",
      "1995  Knightsbridge and Belgravia Wa  \n",
      "1996        Inverness Ness-Side Ward  \n",
      "1997                Darton West Ward  \n",
      "1998                Consett North ED  \n",
      "1999               Tanworth-in-Arden  \n"
     ]
    }
   ],
   "source": [
    "subset =df[['first_name','company_name','city']]\n",
    "print(subset.tail())"
   ]
  },
  {
   "cell_type": "markdown",
   "id": "e1cabf69",
   "metadata": {},
   "source": [
    "# looking at column ,rows and cells"
   ]
  },
  {
   "cell_type": "code",
   "execution_count": 33,
   "id": "85471ec8",
   "metadata": {},
   "outputs": [],
   "source": [
    "# subset rows by index label :loc"
   ]
  },
  {
   "cell_type": "code",
   "execution_count": 34,
   "id": "04589d19",
   "metadata": {},
   "outputs": [
    {
     "name": "stdout",
     "output_type": "stream",
     "text": [
      "  first_name   last_name             company_name            address  \\\n",
      "0    Aleshia  Tomkiewicz  Alan D Rosenburg Cpa Pc       14 Taylor St   \n",
      "1       Evan   Zigomalas       Cap Gemini America        5 Binney St   \n",
      "2     France     Andrade      Elliott, John W Esq       8 Moor Place   \n",
      "3    Ulysses   Mcwalters           Mcmahan, Ben L      505 Exeter Rd   \n",
      "4     Tyisha      Veness           Champagne Room  5396 Forth Street   \n",
      "\n",
      "                             city           county    postal         phone  \\\n",
      "0               St. Stephens Ward             Kent   CT2 7PP  01944-369967   \n",
      "1                      Abbey Ward  Buckinghamshire  HP11 2AX  01714-737668   \n",
      "2  East Southbourne and Tuckton W      Bournemouth   BH6 3BE  01935-821636   \n",
      "3              Hawerby cum Beesby     Lincolnshire  DN36 5RP  01302-601380   \n",
      "4      Greets Green and Lyng Ward    West Midlands   B70 9DT  01290-367248   \n",
      "\n",
      "                        email                                   web  \n",
      "0     atomkiewicz@hotmail.com  http://www.alandrosenburgcpapc.co.uk  \n",
      "1    evan.zigomalas@gmail.com     http://www.capgeminiamerica.co.uk  \n",
      "2  france.andrade@hotmail.com      http://www.elliottjohnwesq.co.uk  \n",
      "3         ulysses@hotmail.com          http://www.mcmahanbenl.co.uk  \n",
      "4   tyisha.veness@hotmail.com        http://www.champagneroom.co.uk  \n"
     ]
    }
   ],
   "source": [
    "print(df.head())"
   ]
  },
  {
   "cell_type": "markdown",
   "id": "d4e44593",
   "metadata": {},
   "source": [
    "# get the first row\n",
    "python count from zero"
   ]
  },
  {
   "cell_type": "code",
   "execution_count": 35,
   "id": "3dcf5d62",
   "metadata": {},
   "outputs": [
    {
     "name": "stdout",
     "output_type": "stream",
     "text": [
      "first_name                                   Aleshia\n",
      "last_name                                 Tomkiewicz\n",
      "company_name                 Alan D Rosenburg Cpa Pc\n",
      "address                                 14 Taylor St\n",
      "city                               St. Stephens Ward\n",
      "county                                          Kent\n",
      "postal                                       CT2 7PP\n",
      "phone                                   01944-369967\n",
      "email                        atomkiewicz@hotmail.com\n",
      "web             http://www.alandrosenburgcpapc.co.uk\n",
      "Name: 0, dtype: object\n"
     ]
    }
   ],
   "source": [
    "print(df.loc[0])"
   ]
  },
  {
   "cell_type": "code",
   "execution_count": 36,
   "id": "8e9ed698",
   "metadata": {},
   "outputs": [],
   "source": [
    "# get the 100 th row\n",
    "#python count from zero"
   ]
  },
  {
   "cell_type": "code",
   "execution_count": 37,
   "id": "4ce3a1c0",
   "metadata": {},
   "outputs": [
    {
     "name": "stdout",
     "output_type": "stream",
     "text": [
      "first_name                                Linwood\n",
      "last_name                                Rosenlof\n",
      "company_name                   Exhibit Crafts Inc\n",
      "address                              3 Pyramid St\n",
      "city                               Eccleston Ward\n",
      "county                                 Merseyside\n",
      "postal                                   WA10 3BW\n",
      "phone                                01244-769346\n",
      "email                  linwood.rosenlof@yahoo.com\n",
      "web             http://www.exhibitcraftsinc.co.uk\n",
      "Name: 99, dtype: object\n"
     ]
    }
   ],
   "source": [
    "print(df.loc[99])"
   ]
  },
  {
   "cell_type": "markdown",
   "id": "be48c897",
   "metadata": {},
   "source": [
    "# get the last row"
   ]
  },
  {
   "cell_type": "code",
   "execution_count": 38,
   "id": "a2b452a4",
   "metadata": {},
   "outputs": [
    {
     "name": "stdout",
     "output_type": "stream",
     "text": [
      "     first_name last_name                    company_name          address  \\\n",
      "1999         Mi    Richan  Nelson Wright Haworth Golf Crs  6 Norwood Grove   \n",
      "\n",
      "                   city        county   postal         phone           email  \\\n",
      "1999  Tanworth-in-Arden  Warwickshire  B94 5RZ  01202-738406  mi@hotmail.com   \n",
      "\n",
      "                                              web  \n",
      "1999  http://www.nelsonwrighthaworthgolfcrs.co.uk  \n"
     ]
    }
   ],
   "source": [
    "print(df.tail(n=1))"
   ]
  },
  {
   "cell_type": "code",
   "execution_count": null,
   "id": "77c58f80",
   "metadata": {},
   "outputs": [],
   "source": []
  }
 ],
 "metadata": {
  "kernelspec": {
   "display_name": "Python 3",
   "language": "python",
   "name": "python3"
  },
  "language_info": {
   "codemirror_mode": {
    "name": "ipython",
    "version": 3
   },
   "file_extension": ".py",
   "mimetype": "text/x-python",
   "name": "python",
   "nbconvert_exporter": "python",
   "pygments_lexer": "ipython3",
   "version": "3.8.8"
  }
 },
 "nbformat": 4,
 "nbformat_minor": 5
}
