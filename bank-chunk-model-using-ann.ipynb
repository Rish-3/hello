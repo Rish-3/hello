{
 "cells": [
  {
   "cell_type": "code",
   "execution_count": 1,
   "id": "14bb15f7",
   "metadata": {
    "_cell_guid": "b1076dfc-b9ad-4769-8c92-a6c4dae69d19",
    "_uuid": "8f2839f25d086af736a60e9eeb907d3b93b6e0e5",
    "execution": {
     "iopub.execute_input": "2023-10-23T17:32:00.315373Z",
     "iopub.status.busy": "2023-10-23T17:32:00.315003Z",
     "iopub.status.idle": "2023-10-23T17:32:00.731303Z",
     "shell.execute_reply": "2023-10-23T17:32:00.730109Z"
    },
    "papermill": {
     "duration": 0.428225,
     "end_time": "2023-10-23T17:32:00.733824",
     "exception": false,
     "start_time": "2023-10-23T17:32:00.305599",
     "status": "completed"
    },
    "tags": []
   },
   "outputs": [
    {
     "name": "stdout",
     "output_type": "stream",
     "text": [
      "/kaggle/input/bank-customer-churn/Customer-Churn-Records.csv\n"
     ]
    }
   ],
   "source": [
    "# This Python 3 environment comes with many helpful analytics libraries installed\n",
    "# It is defined by the kaggle/python Docker image: https://github.com/kaggle/docker-python\n",
    "# For example, here's several helpful packages to load\n",
    "\n",
    "import numpy as np # linear algebra\n",
    "import pandas as pd # data processing, CSV file I/O (e.g. pd.read_csv)\n",
    "\n",
    "# Input data files are available in the read-only \"../input/\" directory\n",
    "# For example, running this (by clicking run or pressing Shift+Enter) will list all files under the input directory\n",
    "\n",
    "import os\n",
    "for dirname, _, filenames in os.walk('/kaggle/input'):\n",
    "    for filename in filenames:\n",
    "        print(os.path.join(dirname, filename))\n",
    "\n",
    "# You can write up to 20GB to the current directory (/kaggle/working/) that gets preserved as output when you create a version using \"Save & Run All\" \n",
    "# You can also write temporary files to /kaggle/temp/, but they won't be saved outside of the current session"
   ]
  },
  {
   "cell_type": "code",
   "execution_count": 2,
   "id": "4d6a4851",
   "metadata": {
    "execution": {
     "iopub.execute_input": "2023-10-23T17:32:00.752435Z",
     "iopub.status.busy": "2023-10-23T17:32:00.751880Z",
     "iopub.status.idle": "2023-10-23T17:32:00.756437Z",
     "shell.execute_reply": "2023-10-23T17:32:00.755238Z"
    },
    "papermill": {
     "duration": 0.015604,
     "end_time": "2023-10-23T17:32:00.758401",
     "exception": false,
     "start_time": "2023-10-23T17:32:00.742797",
     "status": "completed"
    },
    "tags": []
   },
   "outputs": [],
   "source": [
    "import numpy as np\n",
    "import pandas as pd\n"
   ]
  },
  {
   "cell_type": "code",
   "execution_count": 3,
   "id": "a9becb81",
   "metadata": {
    "execution": {
     "iopub.execute_input": "2023-10-23T17:32:00.775172Z",
     "iopub.status.busy": "2023-10-23T17:32:00.774519Z",
     "iopub.status.idle": "2023-10-23T17:32:00.832165Z",
     "shell.execute_reply": "2023-10-23T17:32:00.830994Z"
    },
    "papermill": {
     "duration": 0.069176,
     "end_time": "2023-10-23T17:32:00.834896",
     "exception": false,
     "start_time": "2023-10-23T17:32:00.765720",
     "status": "completed"
    },
    "tags": []
   },
   "outputs": [],
   "source": [
    "df=pd.read_csv(\"/kaggle/input/bank-customer-churn/Customer-Churn-Records.csv\")"
   ]
  },
  {
   "cell_type": "code",
   "execution_count": 4,
   "id": "7aede263",
   "metadata": {
    "execution": {
     "iopub.execute_input": "2023-10-23T17:32:00.852530Z",
     "iopub.status.busy": "2023-10-23T17:32:00.851733Z",
     "iopub.status.idle": "2023-10-23T17:32:00.882141Z",
     "shell.execute_reply": "2023-10-23T17:32:00.880995Z"
    },
    "papermill": {
     "duration": 0.041854,
     "end_time": "2023-10-23T17:32:00.884497",
     "exception": false,
     "start_time": "2023-10-23T17:32:00.842643",
     "status": "completed"
    },
    "tags": []
   },
   "outputs": [
    {
     "data": {
      "text/html": [
       "<div>\n",
       "<style scoped>\n",
       "    .dataframe tbody tr th:only-of-type {\n",
       "        vertical-align: middle;\n",
       "    }\n",
       "\n",
       "    .dataframe tbody tr th {\n",
       "        vertical-align: top;\n",
       "    }\n",
       "\n",
       "    .dataframe thead th {\n",
       "        text-align: right;\n",
       "    }\n",
       "</style>\n",
       "<table border=\"1\" class=\"dataframe\">\n",
       "  <thead>\n",
       "    <tr style=\"text-align: right;\">\n",
       "      <th></th>\n",
       "      <th>RowNumber</th>\n",
       "      <th>CustomerId</th>\n",
       "      <th>Surname</th>\n",
       "      <th>CreditScore</th>\n",
       "      <th>Geography</th>\n",
       "      <th>Gender</th>\n",
       "      <th>Age</th>\n",
       "      <th>Tenure</th>\n",
       "      <th>Balance</th>\n",
       "      <th>NumOfProducts</th>\n",
       "      <th>HasCrCard</th>\n",
       "      <th>IsActiveMember</th>\n",
       "      <th>EstimatedSalary</th>\n",
       "      <th>Exited</th>\n",
       "      <th>Complain</th>\n",
       "      <th>Satisfaction Score</th>\n",
       "      <th>Card Type</th>\n",
       "      <th>Point Earned</th>\n",
       "    </tr>\n",
       "  </thead>\n",
       "  <tbody>\n",
       "    <tr>\n",
       "      <th>0</th>\n",
       "      <td>1</td>\n",
       "      <td>15634602</td>\n",
       "      <td>Hargrave</td>\n",
       "      <td>619</td>\n",
       "      <td>France</td>\n",
       "      <td>Female</td>\n",
       "      <td>42</td>\n",
       "      <td>2</td>\n",
       "      <td>0.00</td>\n",
       "      <td>1</td>\n",
       "      <td>1</td>\n",
       "      <td>1</td>\n",
       "      <td>101348.88</td>\n",
       "      <td>1</td>\n",
       "      <td>1</td>\n",
       "      <td>2</td>\n",
       "      <td>DIAMOND</td>\n",
       "      <td>464</td>\n",
       "    </tr>\n",
       "    <tr>\n",
       "      <th>1</th>\n",
       "      <td>2</td>\n",
       "      <td>15647311</td>\n",
       "      <td>Hill</td>\n",
       "      <td>608</td>\n",
       "      <td>Spain</td>\n",
       "      <td>Female</td>\n",
       "      <td>41</td>\n",
       "      <td>1</td>\n",
       "      <td>83807.86</td>\n",
       "      <td>1</td>\n",
       "      <td>0</td>\n",
       "      <td>1</td>\n",
       "      <td>112542.58</td>\n",
       "      <td>0</td>\n",
       "      <td>1</td>\n",
       "      <td>3</td>\n",
       "      <td>DIAMOND</td>\n",
       "      <td>456</td>\n",
       "    </tr>\n",
       "    <tr>\n",
       "      <th>2</th>\n",
       "      <td>3</td>\n",
       "      <td>15619304</td>\n",
       "      <td>Onio</td>\n",
       "      <td>502</td>\n",
       "      <td>France</td>\n",
       "      <td>Female</td>\n",
       "      <td>42</td>\n",
       "      <td>8</td>\n",
       "      <td>159660.80</td>\n",
       "      <td>3</td>\n",
       "      <td>1</td>\n",
       "      <td>0</td>\n",
       "      <td>113931.57</td>\n",
       "      <td>1</td>\n",
       "      <td>1</td>\n",
       "      <td>3</td>\n",
       "      <td>DIAMOND</td>\n",
       "      <td>377</td>\n",
       "    </tr>\n",
       "    <tr>\n",
       "      <th>3</th>\n",
       "      <td>4</td>\n",
       "      <td>15701354</td>\n",
       "      <td>Boni</td>\n",
       "      <td>699</td>\n",
       "      <td>France</td>\n",
       "      <td>Female</td>\n",
       "      <td>39</td>\n",
       "      <td>1</td>\n",
       "      <td>0.00</td>\n",
       "      <td>2</td>\n",
       "      <td>0</td>\n",
       "      <td>0</td>\n",
       "      <td>93826.63</td>\n",
       "      <td>0</td>\n",
       "      <td>0</td>\n",
       "      <td>5</td>\n",
       "      <td>GOLD</td>\n",
       "      <td>350</td>\n",
       "    </tr>\n",
       "    <tr>\n",
       "      <th>4</th>\n",
       "      <td>5</td>\n",
       "      <td>15737888</td>\n",
       "      <td>Mitchell</td>\n",
       "      <td>850</td>\n",
       "      <td>Spain</td>\n",
       "      <td>Female</td>\n",
       "      <td>43</td>\n",
       "      <td>2</td>\n",
       "      <td>125510.82</td>\n",
       "      <td>1</td>\n",
       "      <td>1</td>\n",
       "      <td>1</td>\n",
       "      <td>79084.10</td>\n",
       "      <td>0</td>\n",
       "      <td>0</td>\n",
       "      <td>5</td>\n",
       "      <td>GOLD</td>\n",
       "      <td>425</td>\n",
       "    </tr>\n",
       "  </tbody>\n",
       "</table>\n",
       "</div>"
      ],
      "text/plain": [
       "   RowNumber  CustomerId   Surname  CreditScore Geography  Gender  Age  \\\n",
       "0          1    15634602  Hargrave          619    France  Female   42   \n",
       "1          2    15647311      Hill          608     Spain  Female   41   \n",
       "2          3    15619304      Onio          502    France  Female   42   \n",
       "3          4    15701354      Boni          699    France  Female   39   \n",
       "4          5    15737888  Mitchell          850     Spain  Female   43   \n",
       "\n",
       "   Tenure    Balance  NumOfProducts  HasCrCard  IsActiveMember  \\\n",
       "0       2       0.00              1          1               1   \n",
       "1       1   83807.86              1          0               1   \n",
       "2       8  159660.80              3          1               0   \n",
       "3       1       0.00              2          0               0   \n",
       "4       2  125510.82              1          1               1   \n",
       "\n",
       "   EstimatedSalary  Exited  Complain  Satisfaction Score Card Type  \\\n",
       "0        101348.88       1         1                   2   DIAMOND   \n",
       "1        112542.58       0         1                   3   DIAMOND   \n",
       "2        113931.57       1         1                   3   DIAMOND   \n",
       "3         93826.63       0         0                   5      GOLD   \n",
       "4         79084.10       0         0                   5      GOLD   \n",
       "\n",
       "   Point Earned  \n",
       "0           464  \n",
       "1           456  \n",
       "2           377  \n",
       "3           350  \n",
       "4           425  "
      ]
     },
     "execution_count": 4,
     "metadata": {},
     "output_type": "execute_result"
    }
   ],
   "source": [
    "df.head()"
   ]
  },
  {
   "cell_type": "code",
   "execution_count": 5,
   "id": "e179e763",
   "metadata": {
    "execution": {
     "iopub.execute_input": "2023-10-23T17:32:00.902004Z",
     "iopub.status.busy": "2023-10-23T17:32:00.901579Z",
     "iopub.status.idle": "2023-10-23T17:32:00.932921Z",
     "shell.execute_reply": "2023-10-23T17:32:00.931400Z"
    },
    "papermill": {
     "duration": 0.043533,
     "end_time": "2023-10-23T17:32:00.935867",
     "exception": false,
     "start_time": "2023-10-23T17:32:00.892334",
     "status": "completed"
    },
    "tags": []
   },
   "outputs": [
    {
     "name": "stdout",
     "output_type": "stream",
     "text": [
      "<class 'pandas.core.frame.DataFrame'>\n",
      "RangeIndex: 10000 entries, 0 to 9999\n",
      "Data columns (total 18 columns):\n",
      " #   Column              Non-Null Count  Dtype  \n",
      "---  ------              --------------  -----  \n",
      " 0   RowNumber           10000 non-null  int64  \n",
      " 1   CustomerId          10000 non-null  int64  \n",
      " 2   Surname             10000 non-null  object \n",
      " 3   CreditScore         10000 non-null  int64  \n",
      " 4   Geography           10000 non-null  object \n",
      " 5   Gender              10000 non-null  object \n",
      " 6   Age                 10000 non-null  int64  \n",
      " 7   Tenure              10000 non-null  int64  \n",
      " 8   Balance             10000 non-null  float64\n",
      " 9   NumOfProducts       10000 non-null  int64  \n",
      " 10  HasCrCard           10000 non-null  int64  \n",
      " 11  IsActiveMember      10000 non-null  int64  \n",
      " 12  EstimatedSalary     10000 non-null  float64\n",
      " 13  Exited              10000 non-null  int64  \n",
      " 14  Complain            10000 non-null  int64  \n",
      " 15  Satisfaction Score  10000 non-null  int64  \n",
      " 16  Card Type           10000 non-null  object \n",
      " 17  Point Earned        10000 non-null  int64  \n",
      "dtypes: float64(2), int64(12), object(4)\n",
      "memory usage: 1.4+ MB\n"
     ]
    }
   ],
   "source": [
    "df.info()"
   ]
  },
  {
   "cell_type": "code",
   "execution_count": 6,
   "id": "eddf6192",
   "metadata": {
    "execution": {
     "iopub.execute_input": "2023-10-23T17:32:00.953862Z",
     "iopub.status.busy": "2023-10-23T17:32:00.953113Z",
     "iopub.status.idle": "2023-10-23T17:32:00.973351Z",
     "shell.execute_reply": "2023-10-23T17:32:00.972288Z"
    },
    "papermill": {
     "duration": 0.03142,
     "end_time": "2023-10-23T17:32:00.975490",
     "exception": false,
     "start_time": "2023-10-23T17:32:00.944070",
     "status": "completed"
    },
    "tags": []
   },
   "outputs": [
    {
     "data": {
      "text/plain": [
       "0"
      ]
     },
     "execution_count": 6,
     "metadata": {},
     "output_type": "execute_result"
    }
   ],
   "source": [
    "df.duplicated().sum()"
   ]
  },
  {
   "cell_type": "code",
   "execution_count": 7,
   "id": "5ba78ef3",
   "metadata": {
    "execution": {
     "iopub.execute_input": "2023-10-23T17:32:00.995033Z",
     "iopub.status.busy": "2023-10-23T17:32:00.993822Z",
     "iopub.status.idle": "2023-10-23T17:32:01.002566Z",
     "shell.execute_reply": "2023-10-23T17:32:01.001785Z"
    },
    "papermill": {
     "duration": 0.019672,
     "end_time": "2023-10-23T17:32:01.004558",
     "exception": false,
     "start_time": "2023-10-23T17:32:00.984886",
     "status": "completed"
    },
    "tags": []
   },
   "outputs": [
    {
     "data": {
      "text/plain": [
       "Exited\n",
       "0    7962\n",
       "1    2038\n",
       "Name: count, dtype: int64"
      ]
     },
     "execution_count": 7,
     "metadata": {},
     "output_type": "execute_result"
    }
   ],
   "source": [
    "df['Exited'].value_counts()"
   ]
  },
  {
   "cell_type": "code",
   "execution_count": 8,
   "id": "81174043",
   "metadata": {
    "execution": {
     "iopub.execute_input": "2023-10-23T17:32:01.022782Z",
     "iopub.status.busy": "2023-10-23T17:32:01.021925Z",
     "iopub.status.idle": "2023-10-23T17:32:01.030753Z",
     "shell.execute_reply": "2023-10-23T17:32:01.029988Z"
    },
    "papermill": {
     "duration": 0.020331,
     "end_time": "2023-10-23T17:32:01.032729",
     "exception": false,
     "start_time": "2023-10-23T17:32:01.012398",
     "status": "completed"
    },
    "tags": []
   },
   "outputs": [
    {
     "data": {
      "text/plain": [
       "Geography\n",
       "France     5014\n",
       "Germany    2509\n",
       "Spain      2477\n",
       "Name: count, dtype: int64"
      ]
     },
     "execution_count": 8,
     "metadata": {},
     "output_type": "execute_result"
    }
   ],
   "source": [
    "df['Geography'].value_counts()"
   ]
  },
  {
   "cell_type": "code",
   "execution_count": 9,
   "id": "4cdd8fca",
   "metadata": {
    "execution": {
     "iopub.execute_input": "2023-10-23T17:32:01.050920Z",
     "iopub.status.busy": "2023-10-23T17:32:01.050191Z",
     "iopub.status.idle": "2023-10-23T17:32:01.059077Z",
     "shell.execute_reply": "2023-10-23T17:32:01.058231Z"
    },
    "papermill": {
     "duration": 0.020394,
     "end_time": "2023-10-23T17:32:01.061075",
     "exception": false,
     "start_time": "2023-10-23T17:32:01.040681",
     "status": "completed"
    },
    "tags": []
   },
   "outputs": [
    {
     "data": {
      "text/plain": [
       "Gender\n",
       "Male      5457\n",
       "Female    4543\n",
       "Name: count, dtype: int64"
      ]
     },
     "execution_count": 9,
     "metadata": {},
     "output_type": "execute_result"
    }
   ],
   "source": [
    "df['Gender'].value_counts()"
   ]
  },
  {
   "cell_type": "code",
   "execution_count": 10,
   "id": "23cb0a2b",
   "metadata": {
    "execution": {
     "iopub.execute_input": "2023-10-23T17:32:01.079215Z",
     "iopub.status.busy": "2023-10-23T17:32:01.078803Z",
     "iopub.status.idle": "2023-10-23T17:32:01.088303Z",
     "shell.execute_reply": "2023-10-23T17:32:01.087371Z"
    },
    "papermill": {
     "duration": 0.021007,
     "end_time": "2023-10-23T17:32:01.090327",
     "exception": false,
     "start_time": "2023-10-23T17:32:01.069320",
     "status": "completed"
    },
    "tags": []
   },
   "outputs": [],
   "source": [
    "df.drop(columns=[\"RowNumber\",\"CustomerId\",\"Surname\"],inplace=True)"
   ]
  },
  {
   "cell_type": "code",
   "execution_count": 11,
   "id": "922e8add",
   "metadata": {
    "execution": {
     "iopub.execute_input": "2023-10-23T17:32:01.109437Z",
     "iopub.status.busy": "2023-10-23T17:32:01.108751Z",
     "iopub.status.idle": "2023-10-23T17:32:01.124482Z",
     "shell.execute_reply": "2023-10-23T17:32:01.123450Z"
    },
    "papermill": {
     "duration": 0.027894,
     "end_time": "2023-10-23T17:32:01.126933",
     "exception": false,
     "start_time": "2023-10-23T17:32:01.099039",
     "status": "completed"
    },
    "tags": []
   },
   "outputs": [],
   "source": [
    "df=pd.get_dummies(df,columns=['Geography','Gender',\"Card Type\"],drop_first=True)"
   ]
  },
  {
   "cell_type": "code",
   "execution_count": 12,
   "id": "19743156",
   "metadata": {
    "execution": {
     "iopub.execute_input": "2023-10-23T17:32:01.145646Z",
     "iopub.status.busy": "2023-10-23T17:32:01.145059Z",
     "iopub.status.idle": "2023-10-23T17:32:02.429134Z",
     "shell.execute_reply": "2023-10-23T17:32:02.427941Z"
    },
    "papermill": {
     "duration": 1.296581,
     "end_time": "2023-10-23T17:32:02.431732",
     "exception": false,
     "start_time": "2023-10-23T17:32:01.135151",
     "status": "completed"
    },
    "tags": []
   },
   "outputs": [],
   "source": [
    "X=df.drop(columns=['Exited'])\n",
    "y=df['Exited']\n",
    "from sklearn.model_selection import train_test_split\n",
    "X_train,X_test,y_train,y_test = train_test_split(X,y, test_size=0.2, random_state=1)"
   ]
  },
  {
   "cell_type": "code",
   "execution_count": 13,
   "id": "0eb03866",
   "metadata": {
    "execution": {
     "iopub.execute_input": "2023-10-23T17:32:02.449719Z",
     "iopub.status.busy": "2023-10-23T17:32:02.449312Z",
     "iopub.status.idle": "2023-10-23T17:32:02.455593Z",
     "shell.execute_reply": "2023-10-23T17:32:02.454676Z"
    },
    "papermill": {
     "duration": 0.017896,
     "end_time": "2023-10-23T17:32:02.457817",
     "exception": false,
     "start_time": "2023-10-23T17:32:02.439921",
     "status": "completed"
    },
    "tags": []
   },
   "outputs": [
    {
     "data": {
      "text/plain": [
       "(8000, 17)"
      ]
     },
     "execution_count": 13,
     "metadata": {},
     "output_type": "execute_result"
    }
   ],
   "source": [
    "X_train.shape"
   ]
  },
  {
   "cell_type": "code",
   "execution_count": 14,
   "id": "74949162",
   "metadata": {
    "execution": {
     "iopub.execute_input": "2023-10-23T17:32:02.476847Z",
     "iopub.status.busy": "2023-10-23T17:32:02.476099Z",
     "iopub.status.idle": "2023-10-23T17:32:02.502602Z",
     "shell.execute_reply": "2023-10-23T17:32:02.501364Z"
    },
    "papermill": {
     "duration": 0.038712,
     "end_time": "2023-10-23T17:32:02.505206",
     "exception": false,
     "start_time": "2023-10-23T17:32:02.466494",
     "status": "completed"
    },
    "tags": []
   },
   "outputs": [],
   "source": [
    "from sklearn.preprocessing import StandardScaler\n",
    "scaler = StandardScaler()\n",
    "X_train_scaled = scaler.fit_transform(X_train)\n",
    "X_test_scaled = scaler.transform(X_test) "
   ]
  },
  {
   "cell_type": "code",
   "execution_count": 15,
   "id": "bc11b695",
   "metadata": {
    "execution": {
     "iopub.execute_input": "2023-10-23T17:32:02.524017Z",
     "iopub.status.busy": "2023-10-23T17:32:02.523592Z",
     "iopub.status.idle": "2023-10-23T17:32:11.138575Z",
     "shell.execute_reply": "2023-10-23T17:32:11.137428Z"
    },
    "papermill": {
     "duration": 8.627696,
     "end_time": "2023-10-23T17:32:11.141243",
     "exception": false,
     "start_time": "2023-10-23T17:32:02.513547",
     "status": "completed"
    },
    "tags": []
   },
   "outputs": [],
   "source": [
    "import tensorflow \n",
    "from tensorflow import keras\n",
    "from tensorflow.keras import Sequential\n",
    "from tensorflow.keras.layers import Dense"
   ]
  },
  {
   "cell_type": "code",
   "execution_count": 16,
   "id": "cd4ae1ca",
   "metadata": {
    "execution": {
     "iopub.execute_input": "2023-10-23T17:32:11.160676Z",
     "iopub.status.busy": "2023-10-23T17:32:11.159889Z",
     "iopub.status.idle": "2023-10-23T17:32:11.356484Z",
     "shell.execute_reply": "2023-10-23T17:32:11.355570Z"
    },
    "papermill": {
     "duration": 0.208777,
     "end_time": "2023-10-23T17:32:11.358863",
     "exception": false,
     "start_time": "2023-10-23T17:32:11.150086",
     "status": "completed"
    },
    "tags": []
   },
   "outputs": [],
   "source": [
    "model = Sequential()\n",
    "model.add(Dense(3,activation='sigmoid',input_dim=17))\n",
    "model.add(Dense(1,activation='sigmoid'))"
   ]
  },
  {
   "cell_type": "code",
   "execution_count": 17,
   "id": "03d836ea",
   "metadata": {
    "execution": {
     "iopub.execute_input": "2023-10-23T17:32:11.377831Z",
     "iopub.status.busy": "2023-10-23T17:32:11.377167Z",
     "iopub.status.idle": "2023-10-23T17:32:11.395031Z",
     "shell.execute_reply": "2023-10-23T17:32:11.393864Z"
    },
    "papermill": {
     "duration": 0.03016,
     "end_time": "2023-10-23T17:32:11.397394",
     "exception": false,
     "start_time": "2023-10-23T17:32:11.367234",
     "status": "completed"
    },
    "tags": []
   },
   "outputs": [
    {
     "name": "stdout",
     "output_type": "stream",
     "text": [
      "Model: \"sequential\"\n",
      "_________________________________________________________________\n",
      " Layer (type)                Output Shape              Param #   \n",
      "=================================================================\n",
      " dense (Dense)               (None, 3)                 54        \n",
      "                                                                 \n",
      " dense_1 (Dense)             (None, 1)                 4         \n",
      "                                                                 \n",
      "=================================================================\n",
      "Total params: 58\n",
      "Trainable params: 58\n",
      "Non-trainable params: 0\n",
      "_________________________________________________________________\n"
     ]
    }
   ],
   "source": [
    "model.summary()"
   ]
  },
  {
   "cell_type": "markdown",
   "id": "5a7eee6e",
   "metadata": {
    "papermill": {
     "duration": 0.008594,
     "end_time": "2023-10-23T17:32:11.415062",
     "exception": false,
     "start_time": "2023-10-23T17:32:11.406468",
     "status": "completed"
    },
    "tags": []
   },
   "source": [
    "(17X3+3)+(3X1+1)=58"
   ]
  },
  {
   "cell_type": "code",
   "execution_count": 18,
   "id": "06188c48",
   "metadata": {
    "execution": {
     "iopub.execute_input": "2023-10-23T17:32:11.434702Z",
     "iopub.status.busy": "2023-10-23T17:32:11.434259Z",
     "iopub.status.idle": "2023-10-23T17:32:11.438826Z",
     "shell.execute_reply": "2023-10-23T17:32:11.437769Z"
    },
    "papermill": {
     "duration": 0.01722,
     "end_time": "2023-10-23T17:32:11.441147",
     "exception": false,
     "start_time": "2023-10-23T17:32:11.423927",
     "status": "completed"
    },
    "tags": []
   },
   "outputs": [],
   "source": [
    "# compile we need to defined the optimization function and activation function"
   ]
  },
  {
   "cell_type": "code",
   "execution_count": 19,
   "id": "a5ae0474",
   "metadata": {
    "execution": {
     "iopub.execute_input": "2023-10-23T17:32:11.462093Z",
     "iopub.status.busy": "2023-10-23T17:32:11.461421Z",
     "iopub.status.idle": "2023-10-23T17:32:11.483115Z",
     "shell.execute_reply": "2023-10-23T17:32:11.481879Z"
    },
    "papermill": {
     "duration": 0.035235,
     "end_time": "2023-10-23T17:32:11.485668",
     "exception": false,
     "start_time": "2023-10-23T17:32:11.450433",
     "status": "completed"
    },
    "tags": []
   },
   "outputs": [],
   "source": [
    "model.compile(loss='binary_crossentropy',optimizer='Adam', metrics=['accuracy'])"
   ]
  },
  {
   "cell_type": "code",
   "execution_count": 20,
   "id": "f3d4e96d",
   "metadata": {
    "execution": {
     "iopub.execute_input": "2023-10-23T17:32:11.506969Z",
     "iopub.status.busy": "2023-10-23T17:32:11.506555Z",
     "iopub.status.idle": "2023-10-23T17:32:18.821858Z",
     "shell.execute_reply": "2023-10-23T17:32:18.820460Z"
    },
    "papermill": {
     "duration": 7.328709,
     "end_time": "2023-10-23T17:32:18.824220",
     "exception": false,
     "start_time": "2023-10-23T17:32:11.495511",
     "status": "completed"
    },
    "tags": []
   },
   "outputs": [
    {
     "name": "stdout",
     "output_type": "stream",
     "text": [
      "Epoch 1/17\n",
      "200/200 [==============================] - 1s 3ms/step - loss: 0.5079 - accuracy: 0.7970 - val_loss: 0.4754 - val_accuracy: 0.7975\n",
      "Epoch 2/17\n",
      "200/200 [==============================] - 0s 2ms/step - loss: 0.4466 - accuracy: 0.7970 - val_loss: 0.4184 - val_accuracy: 0.7975\n",
      "Epoch 3/17\n",
      "200/200 [==============================] - 0s 2ms/step - loss: 0.3909 - accuracy: 0.7970 - val_loss: 0.3651 - val_accuracy: 0.7975\n",
      "Epoch 4/17\n",
      "200/200 [==============================] - 0s 2ms/step - loss: 0.3398 - accuracy: 0.7970 - val_loss: 0.3160 - val_accuracy: 0.7975\n",
      "Epoch 5/17\n",
      "200/200 [==============================] - 0s 2ms/step - loss: 0.2924 - accuracy: 0.7973 - val_loss: 0.2705 - val_accuracy: 0.8019\n",
      "Epoch 6/17\n",
      "200/200 [==============================] - 0s 2ms/step - loss: 0.2492 - accuracy: 0.8203 - val_loss: 0.2296 - val_accuracy: 0.8394\n",
      "Epoch 7/17\n",
      "200/200 [==============================] - 0s 2ms/step - loss: 0.2111 - accuracy: 0.8831 - val_loss: 0.1943 - val_accuracy: 0.9125\n",
      "Epoch 8/17\n",
      "200/200 [==============================] - 0s 2ms/step - loss: 0.1787 - accuracy: 0.9494 - val_loss: 0.1649 - val_accuracy: 0.9744\n",
      "Epoch 9/17\n",
      "200/200 [==============================] - 0s 2ms/step - loss: 0.1518 - accuracy: 0.9862 - val_loss: 0.1403 - val_accuracy: 0.9956\n",
      "Epoch 10/17\n",
      "200/200 [==============================] - 0s 2ms/step - loss: 0.1298 - accuracy: 0.9970 - val_loss: 0.1203 - val_accuracy: 0.9987\n",
      "Epoch 11/17\n",
      "200/200 [==============================] - 0s 2ms/step - loss: 0.1117 - accuracy: 0.9984 - val_loss: 0.1038 - val_accuracy: 0.9994\n",
      "Epoch 12/17\n",
      "200/200 [==============================] - 0s 2ms/step - loss: 0.0968 - accuracy: 0.9986 - val_loss: 0.0902 - val_accuracy: 0.9994\n",
      "Epoch 13/17\n",
      "200/200 [==============================] - 0s 2ms/step - loss: 0.0845 - accuracy: 0.9986 - val_loss: 0.0790 - val_accuracy: 0.9994\n",
      "Epoch 14/17\n",
      "200/200 [==============================] - 0s 2ms/step - loss: 0.0742 - accuracy: 0.9986 - val_loss: 0.0695 - val_accuracy: 0.9994\n",
      "Epoch 15/17\n",
      "200/200 [==============================] - 0s 2ms/step - loss: 0.0656 - accuracy: 0.9986 - val_loss: 0.0615 - val_accuracy: 0.9994\n",
      "Epoch 16/17\n",
      "200/200 [==============================] - 0s 2ms/step - loss: 0.0583 - accuracy: 0.9986 - val_loss: 0.0548 - val_accuracy: 0.9994\n",
      "Epoch 17/17\n",
      "200/200 [==============================] - 0s 2ms/step - loss: 0.0521 - accuracy: 0.9986 - val_loss: 0.0490 - val_accuracy: 0.9994\n"
     ]
    }
   ],
   "source": [
    "history=model.fit(X_train_scaled,y_train,epochs=17, validation_split=0.2)"
   ]
  },
  {
   "cell_type": "code",
   "execution_count": 21,
   "id": "3b45ae7d",
   "metadata": {
    "execution": {
     "iopub.execute_input": "2023-10-23T17:32:18.859759Z",
     "iopub.status.busy": "2023-10-23T17:32:18.859359Z",
     "iopub.status.idle": "2023-10-23T17:32:18.870467Z",
     "shell.execute_reply": "2023-10-23T17:32:18.869448Z"
    },
    "papermill": {
     "duration": 0.031204,
     "end_time": "2023-10-23T17:32:18.872479",
     "exception": false,
     "start_time": "2023-10-23T17:32:18.841275",
     "status": "completed"
    },
    "tags": []
   },
   "outputs": [
    {
     "data": {
      "text/plain": [
       "[array([[ 6.56013703e-03,  2.80114114e-02,  2.03673225e-02],\n",
       "        [-2.46960133e-01, -2.69935220e-01, -2.70385057e-01],\n",
       "        [ 1.29333669e-02,  2.65456047e-02,  3.63549264e-03],\n",
       "        [-4.43574451e-02, -8.94129053e-02, -2.61185467e-02],\n",
       "        [ 1.62726659e-02,  1.54636046e-02,  2.17343271e-02],\n",
       "        [ 2.40026731e-02,  2.47295648e-02,  1.26708318e-02],\n",
       "        [ 1.92369923e-01,  2.15709344e-01,  1.96737379e-01],\n",
       "        [-1.09767597e-02,  2.25481344e-03, -8.43046419e-03],\n",
       "        [-2.12691903e+00, -1.87385786e+00, -2.11818075e+00],\n",
       "        [ 3.47393602e-02,  1.03402557e-02,  3.36229689e-02],\n",
       "        [ 2.57978849e-02,  3.31617706e-02,  1.50940334e-02],\n",
       "        [-1.18517324e-01, -4.46466990e-02, -1.41976088e-01],\n",
       "        [-3.33520472e-02,  4.53867614e-02, -4.69736941e-02],\n",
       "        [ 5.40640429e-02,  1.06791794e-01,  7.03794360e-02],\n",
       "        [ 2.10730024e-02,  4.76705506e-02, -2.65214276e-02],\n",
       "        [ 2.57121380e-02,  6.35112077e-02, -2.61119381e-02],\n",
       "        [-1.61736598e-03,  5.48737422e-02, -5.06491922e-02]], dtype=float32),\n",
       " array([0.74583673, 0.44709682, 0.72865003], dtype=float32)]"
      ]
     },
     "execution_count": 21,
     "metadata": {},
     "output_type": "execute_result"
    }
   ],
   "source": [
    "model.layers[0].get_weights()\n",
    "# this are 33 weight and 3 layers of first layer"
   ]
  },
  {
   "cell_type": "code",
   "execution_count": 22,
   "id": "b5ccfa63",
   "metadata": {
    "execution": {
     "iopub.execute_input": "2023-10-23T17:32:18.908694Z",
     "iopub.status.busy": "2023-10-23T17:32:18.908285Z",
     "iopub.status.idle": "2023-10-23T17:32:18.918202Z",
     "shell.execute_reply": "2023-10-23T17:32:18.917019Z"
    },
    "papermill": {
     "duration": 0.030555,
     "end_time": "2023-10-23T17:32:18.920638",
     "exception": false,
     "start_time": "2023-10-23T17:32:18.890083",
     "status": "completed"
    },
    "tags": []
   },
   "outputs": [
    {
     "data": {
      "text/plain": [
       "[array([[-2.8302362],\n",
       "        [-2.1913588],\n",
       "        [-2.5320737]], dtype=float32),\n",
       " array([1.7841213], dtype=float32)]"
      ]
     },
     "execution_count": 22,
     "metadata": {},
     "output_type": "execute_result"
    }
   ],
   "source": [
    "model.layers[1].get_weights() \n",
    "# second layers"
   ]
  },
  {
   "cell_type": "code",
   "execution_count": 23,
   "id": "9f226270",
   "metadata": {
    "execution": {
     "iopub.execute_input": "2023-10-23T17:32:19.015982Z",
     "iopub.status.busy": "2023-10-23T17:32:19.014726Z",
     "iopub.status.idle": "2023-10-23T17:32:19.311898Z",
     "shell.execute_reply": "2023-10-23T17:32:19.310514Z"
    },
    "papermill": {
     "duration": 0.375728,
     "end_time": "2023-10-23T17:32:19.314593",
     "exception": false,
     "start_time": "2023-10-23T17:32:18.938865",
     "status": "completed"
    },
    "tags": []
   },
   "outputs": [
    {
     "name": "stdout",
     "output_type": "stream",
     "text": [
      "63/63 [==============================] - 0s 1ms/step\n"
     ]
    }
   ],
   "source": [
    "y_log=model.predict(X_test_scaled)"
   ]
  },
  {
   "cell_type": "code",
   "execution_count": 24,
   "id": "3ab89c86",
   "metadata": {
    "execution": {
     "iopub.execute_input": "2023-10-23T17:32:19.352740Z",
     "iopub.status.busy": "2023-10-23T17:32:19.352341Z",
     "iopub.status.idle": "2023-10-23T17:32:19.357825Z",
     "shell.execute_reply": "2023-10-23T17:32:19.356693Z"
    },
    "papermill": {
     "duration": 0.027334,
     "end_time": "2023-10-23T17:32:19.360021",
     "exception": false,
     "start_time": "2023-10-23T17:32:19.332687",
     "status": "completed"
    },
    "tags": []
   },
   "outputs": [],
   "source": [
    "y_pred=np.where(y_log>0.05,1,0)"
   ]
  },
  {
   "cell_type": "code",
   "execution_count": 25,
   "id": "8714bdbd",
   "metadata": {
    "execution": {
     "iopub.execute_input": "2023-10-23T17:32:19.398180Z",
     "iopub.status.busy": "2023-10-23T17:32:19.397054Z",
     "iopub.status.idle": "2023-10-23T17:32:19.406010Z",
     "shell.execute_reply": "2023-10-23T17:32:19.405102Z"
    },
    "papermill": {
     "duration": 0.030416,
     "end_time": "2023-10-23T17:32:19.408021",
     "exception": false,
     "start_time": "2023-10-23T17:32:19.377605",
     "status": "completed"
    },
    "tags": []
   },
   "outputs": [
    {
     "data": {
      "text/plain": [
       "0.998"
      ]
     },
     "execution_count": 25,
     "metadata": {},
     "output_type": "execute_result"
    }
   ],
   "source": [
    "from sklearn.metrics import accuracy_score\n",
    "accuracy_score(y_test, y_pred)"
   ]
  },
  {
   "cell_type": "code",
   "execution_count": 26,
   "id": "7cf93135",
   "metadata": {
    "execution": {
     "iopub.execute_input": "2023-10-23T17:32:19.445206Z",
     "iopub.status.busy": "2023-10-23T17:32:19.444643Z",
     "iopub.status.idle": "2023-10-23T17:32:19.449649Z",
     "shell.execute_reply": "2023-10-23T17:32:19.448634Z"
    },
    "papermill": {
     "duration": 0.025991,
     "end_time": "2023-10-23T17:32:19.451597",
     "exception": false,
     "start_time": "2023-10-23T17:32:19.425606",
     "status": "completed"
    },
    "tags": []
   },
   "outputs": [],
   "source": [
    "import matplotlib.pyplot as plt "
   ]
  },
  {
   "cell_type": "code",
   "execution_count": 27,
   "id": "c5e210db",
   "metadata": {
    "execution": {
     "iopub.execute_input": "2023-10-23T17:32:19.488527Z",
     "iopub.status.busy": "2023-10-23T17:32:19.488106Z",
     "iopub.status.idle": "2023-10-23T17:32:19.496233Z",
     "shell.execute_reply": "2023-10-23T17:32:19.494931Z"
    },
    "papermill": {
     "duration": 0.0291,
     "end_time": "2023-10-23T17:32:19.498375",
     "exception": false,
     "start_time": "2023-10-23T17:32:19.469275",
     "status": "completed"
    },
    "tags": []
   },
   "outputs": [
    {
     "data": {
      "text/plain": [
       "{'loss': [0.5078756809234619,\n",
       "  0.44656533002853394,\n",
       "  0.39093029499053955,\n",
       "  0.33978137373924255,\n",
       "  0.2924153804779053,\n",
       "  0.24924089014530182,\n",
       "  0.21108266711235046,\n",
       "  0.17867511510849,\n",
       "  0.1518443375825882,\n",
       "  0.12976840138435364,\n",
       "  0.11169495433568954,\n",
       "  0.09679977595806122,\n",
       "  0.08447755128145218,\n",
       "  0.07421034574508667,\n",
       "  0.06559650599956512,\n",
       "  0.05832741782069206,\n",
       "  0.05213886871933937],\n",
       " 'accuracy': [0.7970312237739563,\n",
       "  0.7970312237739563,\n",
       "  0.7970312237739563,\n",
       "  0.7970312237739563,\n",
       "  0.7973437309265137,\n",
       "  0.8203125,\n",
       "  0.8831250071525574,\n",
       "  0.9493749737739563,\n",
       "  0.9862499833106995,\n",
       "  0.9970312714576721,\n",
       "  0.9984375238418579,\n",
       "  0.9985937476158142,\n",
       "  0.9985937476158142,\n",
       "  0.9985937476158142,\n",
       "  0.9985937476158142,\n",
       "  0.9985937476158142,\n",
       "  0.9985937476158142],\n",
       " 'val_loss': [0.47541987895965576,\n",
       "  0.41837814450263977,\n",
       "  0.36505308747291565,\n",
       "  0.3159516453742981,\n",
       "  0.27049270272254944,\n",
       "  0.22958984971046448,\n",
       "  0.19431647658348083,\n",
       "  0.16490602493286133,\n",
       "  0.14031782746315002,\n",
       "  0.12029038369655609,\n",
       "  0.10379121452569962,\n",
       "  0.09023059904575348,\n",
       "  0.07899343222379684,\n",
       "  0.06951680034399033,\n",
       "  0.06151862442493439,\n",
       "  0.054763998836278915,\n",
       "  0.04897942394018173],\n",
       " 'val_accuracy': [0.7975000143051147,\n",
       "  0.7975000143051147,\n",
       "  0.7975000143051147,\n",
       "  0.7975000143051147,\n",
       "  0.8018749952316284,\n",
       "  0.8393750190734863,\n",
       "  0.9125000238418579,\n",
       "  0.9743750095367432,\n",
       "  0.9956250190734863,\n",
       "  0.9987499713897705,\n",
       "  0.9993749856948853,\n",
       "  0.9993749856948853,\n",
       "  0.9993749856948853,\n",
       "  0.9993749856948853,\n",
       "  0.9993749856948853,\n",
       "  0.9993749856948853,\n",
       "  0.9993749856948853]}"
      ]
     },
     "execution_count": 27,
     "metadata": {},
     "output_type": "execute_result"
    }
   ],
   "source": [
    "history.history"
   ]
  },
  {
   "cell_type": "code",
   "execution_count": 28,
   "id": "b70c7a49",
   "metadata": {
    "execution": {
     "iopub.execute_input": "2023-10-23T17:32:19.535635Z",
     "iopub.status.busy": "2023-10-23T17:32:19.535229Z",
     "iopub.status.idle": "2023-10-23T17:32:19.539663Z",
     "shell.execute_reply": "2023-10-23T17:32:19.538766Z"
    },
    "papermill": {
     "duration": 0.025543,
     "end_time": "2023-10-23T17:32:19.541738",
     "exception": false,
     "start_time": "2023-10-23T17:32:19.516195",
     "status": "completed"
    },
    "tags": []
   },
   "outputs": [],
   "source": [
    "import matplotlib.pyplot as plt"
   ]
  },
  {
   "cell_type": "code",
   "execution_count": 29,
   "id": "34ccd31d",
   "metadata": {
    "execution": {
     "iopub.execute_input": "2023-10-23T17:32:19.579103Z",
     "iopub.status.busy": "2023-10-23T17:32:19.578412Z",
     "iopub.status.idle": "2023-10-23T17:32:19.586039Z",
     "shell.execute_reply": "2023-10-23T17:32:19.585003Z"
    },
    "papermill": {
     "duration": 0.02858,
     "end_time": "2023-10-23T17:32:19.588168",
     "exception": false,
     "start_time": "2023-10-23T17:32:19.559588",
     "status": "completed"
    },
    "tags": []
   },
   "outputs": [
    {
     "data": {
      "text/plain": [
       "{'loss': [0.5078756809234619,\n",
       "  0.44656533002853394,\n",
       "  0.39093029499053955,\n",
       "  0.33978137373924255,\n",
       "  0.2924153804779053,\n",
       "  0.24924089014530182,\n",
       "  0.21108266711235046,\n",
       "  0.17867511510849,\n",
       "  0.1518443375825882,\n",
       "  0.12976840138435364,\n",
       "  0.11169495433568954,\n",
       "  0.09679977595806122,\n",
       "  0.08447755128145218,\n",
       "  0.07421034574508667,\n",
       "  0.06559650599956512,\n",
       "  0.05832741782069206,\n",
       "  0.05213886871933937],\n",
       " 'accuracy': [0.7970312237739563,\n",
       "  0.7970312237739563,\n",
       "  0.7970312237739563,\n",
       "  0.7970312237739563,\n",
       "  0.7973437309265137,\n",
       "  0.8203125,\n",
       "  0.8831250071525574,\n",
       "  0.9493749737739563,\n",
       "  0.9862499833106995,\n",
       "  0.9970312714576721,\n",
       "  0.9984375238418579,\n",
       "  0.9985937476158142,\n",
       "  0.9985937476158142,\n",
       "  0.9985937476158142,\n",
       "  0.9985937476158142,\n",
       "  0.9985937476158142,\n",
       "  0.9985937476158142],\n",
       " 'val_loss': [0.47541987895965576,\n",
       "  0.41837814450263977,\n",
       "  0.36505308747291565,\n",
       "  0.3159516453742981,\n",
       "  0.27049270272254944,\n",
       "  0.22958984971046448,\n",
       "  0.19431647658348083,\n",
       "  0.16490602493286133,\n",
       "  0.14031782746315002,\n",
       "  0.12029038369655609,\n",
       "  0.10379121452569962,\n",
       "  0.09023059904575348,\n",
       "  0.07899343222379684,\n",
       "  0.06951680034399033,\n",
       "  0.06151862442493439,\n",
       "  0.054763998836278915,\n",
       "  0.04897942394018173],\n",
       " 'val_accuracy': [0.7975000143051147,\n",
       "  0.7975000143051147,\n",
       "  0.7975000143051147,\n",
       "  0.7975000143051147,\n",
       "  0.8018749952316284,\n",
       "  0.8393750190734863,\n",
       "  0.9125000238418579,\n",
       "  0.9743750095367432,\n",
       "  0.9956250190734863,\n",
       "  0.9987499713897705,\n",
       "  0.9993749856948853,\n",
       "  0.9993749856948853,\n",
       "  0.9993749856948853,\n",
       "  0.9993749856948853,\n",
       "  0.9993749856948853,\n",
       "  0.9993749856948853,\n",
       "  0.9993749856948853]}"
      ]
     },
     "execution_count": 29,
     "metadata": {},
     "output_type": "execute_result"
    }
   ],
   "source": [
    "history.history"
   ]
  },
  {
   "cell_type": "code",
   "execution_count": 30,
   "id": "391775c7",
   "metadata": {
    "execution": {
     "iopub.execute_input": "2023-10-23T17:32:19.626841Z",
     "iopub.status.busy": "2023-10-23T17:32:19.626443Z",
     "iopub.status.idle": "2023-10-23T17:32:19.902056Z",
     "shell.execute_reply": "2023-10-23T17:32:19.900733Z"
    },
    "papermill": {
     "duration": 0.297561,
     "end_time": "2023-10-23T17:32:19.904465",
     "exception": false,
     "start_time": "2023-10-23T17:32:19.606904",
     "status": "completed"
    },
    "tags": []
   },
   "outputs": [
    {
     "data": {
      "text/plain": [
       "[<matplotlib.lines.Line2D at 0x7f59d85f6ec0>]"
      ]
     },
     "execution_count": 30,
     "metadata": {},
     "output_type": "execute_result"
    },
    {
     "data": {
      "image/png": "[encoded data removed]",
      "text/plain": [
       "<Figure size 640x480 with 1 Axes>"
      ]
     },
     "metadata": {},
     "output_type": "display_data"
    }
   ],
   "source": [
    "plt.plot(history.history['loss'])\n",
    "plt.plot(history.history['val_loss'])"
   ]
  },
  {
   "cell_type": "code",
   "execution_count": 31,
   "id": "42586fa6",
   "metadata": {
    "execution": {
     "iopub.execute_input": "2023-10-23T17:32:19.942820Z",
     "iopub.status.busy": "2023-10-23T17:32:19.942439Z",
     "iopub.status.idle": "2023-10-23T17:32:20.216535Z",
     "shell.execute_reply": "2023-10-23T17:32:20.215242Z"
    },
    "papermill": {
     "duration": 0.296237,
     "end_time": "2023-10-23T17:32:20.219047",
     "exception": false,
     "start_time": "2023-10-23T17:32:19.922810",
     "status": "completed"
    },
    "tags": []
   },
   "outputs": [
    {
     "data": {
      "text/plain": [
       "[<matplotlib.lines.Line2D at 0x7f59da623bb0>]"
      ]
     },
     "execution_count": 31,
     "metadata": {},
     "output_type": "execute_result"
    },
    {
     "data": {
      "image/png": "[encoded data removed]",
      "text/plain": [
       "<Figure size 640x480 with 1 Axes>"
      ]
     },
     "metadata": {},
     "output_type": "display_data"
    }
   ],
   "source": [
    "plt.plot(history.history['accuracy'])\n",
    "plt.plot(history.history['val_accuracy'])"
   ]
  },
  {
   "cell_type": "code",
   "execution_count": null,
   "id": "e10b414e",
   "metadata": {
    "papermill": {
     "duration": 0.018924,
     "end_time": "2023-10-23T17:32:20.257386",
     "exception": false,
     "start_time": "2023-10-23T17:32:20.238462",
     "status": "completed"
    },
    "tags": []
   },
   "outputs": [],
   "source": []
  }
 ],
 "metadata": {
  "kernelspec": {
   "display_name": "Python 3",
   "language": "python",
   "name": "python3"
  },
  "language_info": {
   "codemirror_mode": {
    "name": "ipython",
    "version": 3
   },
   "file_extension": ".py",
   "mimetype": "text/x-python",
   "name": "python",
   "nbconvert_exporter": "python",
   "pygments_lexer": "ipython3",
   "version": "3.10.12"
  },
  "papermill": {
   "default_parameters": {},
   "duration": 26.284192,
   "end_time": "2023-10-23T17:32:23.396313",
   "environment_variables": {},
   "exception": null,
   "input_path": "__notebook__.ipynb",
   "output_path": "__notebook__.ipynb",
   "parameters": {},
   "start_time": "2023-10-23T17:31:57.112121",
   "version": "2.4.0"
  }
 },
 "nbformat": 4,
 "nbformat_minor": 5
}
