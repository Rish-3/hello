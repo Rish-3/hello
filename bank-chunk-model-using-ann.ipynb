{
 "cells": [
  {
   "cell_type": "code",
   "execution_count": 1,
   "id": "9e8e0bcd",
   "metadata": {
    "_cell_guid": "b1076dfc-b9ad-4769-8c92-a6c4dae69d19",
    "_uuid": "8f2839f25d086af736a60e9eeb907d3b93b6e0e5",
    "execution": {
     "iopub.execute_input": "2023-10-23T17:33:30.415107Z",
     "iopub.status.busy": "2023-10-23T17:33:30.414704Z",
     "iopub.status.idle": "2023-10-23T17:33:31.303798Z",
     "shell.execute_reply": "2023-10-23T17:33:31.302633Z"
    },
    "papermill": {
     "duration": 0.907486,
     "end_time": "2023-10-23T17:33:31.307825",
     "exception": false,
     "start_time": "2023-10-23T17:33:30.400339",
     "status": "completed"
    },
    "tags": []
   },
   "outputs": [
    {
     "name": "stdout",
     "output_type": "stream",
     "text": [
      "/kaggle/input/bank-customer-churn/Customer-Churn-Records.csv\n"
     ]
    }
   ],
   "source": [
    "# This Python 3 environment comes with many helpful analytics libraries installed\n",
    "# It is defined by the kaggle/python Docker image: https://github.com/kaggle/docker-python\n",
    "# For example, here's several helpful packages to load\n",
    "\n",
    "import numpy as np # linear algebra\n",
    "import pandas as pd # data processing, CSV file I/O (e.g. pd.read_csv)\n",
    "\n",
    "# Input data files are available in the read-only \"../input/\" directory\n",
    "# For example, running this (by clicking run or pressing Shift+Enter) will list all files under the input directory\n",
    "\n",
    "import os\n",
    "for dirname, _, filenames in os.walk('/kaggle/input'):\n",
    "    for filename in filenames:\n",
    "        print(os.path.join(dirname, filename))\n",
    "\n",
    "# You can write up to 20GB to the current directory (/kaggle/working/) that gets preserved as output when you create a version using \"Save & Run All\" \n",
    "# You can also write temporary files to /kaggle/temp/, but they won't be saved outside of the current session"
   ]
  },
  {
   "cell_type": "code",
   "execution_count": 2,
   "id": "4f570f20",
   "metadata": {
    "execution": {
     "iopub.execute_input": "2023-10-23T17:33:31.332731Z",
     "iopub.status.busy": "2023-10-23T17:33:31.332141Z",
     "iopub.status.idle": "2023-10-23T17:33:31.337508Z",
     "shell.execute_reply": "2023-10-23T17:33:31.336025Z"
    },
    "papermill": {
     "duration": 0.020361,
     "end_time": "2023-10-23T17:33:31.340348",
     "exception": false,
     "start_time": "2023-10-23T17:33:31.319987",
     "status": "completed"
    },
    "tags": []
   },
   "outputs": [],
   "source": [
    "import numpy as np\n",
    "import pandas as pd\n"
   ]
  },
  {
   "cell_type": "code",
   "execution_count": 3,
   "id": "8ceea9fb",
   "metadata": {
    "execution": {
     "iopub.execute_input": "2023-10-23T17:33:31.365553Z",
     "iopub.status.busy": "2023-10-23T17:33:31.365087Z",
     "iopub.status.idle": "2023-10-23T17:33:31.425344Z",
     "shell.execute_reply": "2023-10-23T17:33:31.423773Z"
    },
    "papermill": {
     "duration": 0.077512,
     "end_time": "2023-10-23T17:33:31.428981",
     "exception": false,
     "start_time": "2023-10-23T17:33:31.351469",
     "status": "completed"
    },
    "tags": []
   },
   "outputs": [],
   "source": [
    "df=pd.read_csv(\"/kaggle/input/bank-customer-churn/Customer-Churn-Records.csv\")"
   ]
  },
  {
   "cell_type": "code",
   "execution_count": 4,
   "id": "0a29481d",
   "metadata": {
    "execution": {
     "iopub.execute_input": "2023-10-23T17:33:31.453827Z",
     "iopub.status.busy": "2023-10-23T17:33:31.453411Z",
     "iopub.status.idle": "2023-10-23T17:33:31.489282Z",
     "shell.execute_reply": "2023-10-23T17:33:31.487566Z"
    },
    "papermill": {
     "duration": 0.052192,
     "end_time": "2023-10-23T17:33:31.492703",
     "exception": false,
     "start_time": "2023-10-23T17:33:31.440511",
     "status": "completed"
    },
    "tags": []
   },
   "outputs": [
    {
     "data": {
      "text/html": [
       "<div>\n",
       "<style scoped>\n",
       "    .dataframe tbody tr th:only-of-type {\n",
       "        vertical-align: middle;\n",
       "    }\n",
       "\n",
       "    .dataframe tbody tr th {\n",
       "        vertical-align: top;\n",
       "    }\n",
       "\n",
       "    .dataframe thead th {\n",
       "        text-align: right;\n",
       "    }\n",
       "</style>\n",
       "<table border=\"1\" class=\"dataframe\">\n",
       "  <thead>\n",
       "    <tr style=\"text-align: right;\">\n",
       "      <th></th>\n",
       "      <th>RowNumber</th>\n",
       "      <th>CustomerId</th>\n",
       "      <th>Surname</th>\n",
       "      <th>CreditScore</th>\n",
       "      <th>Geography</th>\n",
       "      <th>Gender</th>\n",
       "      <th>Age</th>\n",
       "      <th>Tenure</th>\n",
       "      <th>Balance</th>\n",
       "      <th>NumOfProducts</th>\n",
       "      <th>HasCrCard</th>\n",
       "      <th>IsActiveMember</th>\n",
       "      <th>EstimatedSalary</th>\n",
       "      <th>Exited</th>\n",
       "      <th>Complain</th>\n",
       "      <th>Satisfaction Score</th>\n",
       "      <th>Card Type</th>\n",
       "      <th>Point Earned</th>\n",
       "    </tr>\n",
       "  </thead>\n",
       "  <tbody>\n",
       "    <tr>\n",
       "      <th>0</th>\n",
       "      <td>1</td>\n",
       "      <td>15634602</td>\n",
       "      <td>Hargrave</td>\n",
       "      <td>619</td>\n",
       "      <td>France</td>\n",
       "      <td>Female</td>\n",
       "      <td>42</td>\n",
       "      <td>2</td>\n",
       "      <td>0.00</td>\n",
       "      <td>1</td>\n",
       "      <td>1</td>\n",
       "      <td>1</td>\n",
       "      <td>101348.88</td>\n",
       "      <td>1</td>\n",
       "      <td>1</td>\n",
       "      <td>2</td>\n",
       "      <td>DIAMOND</td>\n",
       "      <td>464</td>\n",
       "    </tr>\n",
       "    <tr>\n",
       "      <th>1</th>\n",
       "      <td>2</td>\n",
       "      <td>15647311</td>\n",
       "      <td>Hill</td>\n",
       "      <td>608</td>\n",
       "      <td>Spain</td>\n",
       "      <td>Female</td>\n",
       "      <td>41</td>\n",
       "      <td>1</td>\n",
       "      <td>83807.86</td>\n",
       "      <td>1</td>\n",
       "      <td>0</td>\n",
       "      <td>1</td>\n",
       "      <td>112542.58</td>\n",
       "      <td>0</td>\n",
       "      <td>1</td>\n",
       "      <td>3</td>\n",
       "      <td>DIAMOND</td>\n",
       "      <td>456</td>\n",
       "    </tr>\n",
       "    <tr>\n",
       "      <th>2</th>\n",
       "      <td>3</td>\n",
       "      <td>15619304</td>\n",
       "      <td>Onio</td>\n",
       "      <td>502</td>\n",
       "      <td>France</td>\n",
       "      <td>Female</td>\n",
       "      <td>42</td>\n",
       "      <td>8</td>\n",
       "      <td>159660.80</td>\n",
       "      <td>3</td>\n",
       "      <td>1</td>\n",
       "      <td>0</td>\n",
       "      <td>113931.57</td>\n",
       "      <td>1</td>\n",
       "      <td>1</td>\n",
       "      <td>3</td>\n",
       "      <td>DIAMOND</td>\n",
       "      <td>377</td>\n",
       "    </tr>\n",
       "    <tr>\n",
       "      <th>3</th>\n",
       "      <td>4</td>\n",
       "      <td>15701354</td>\n",
       "      <td>Boni</td>\n",
       "      <td>699</td>\n",
       "      <td>France</td>\n",
       "      <td>Female</td>\n",
       "      <td>39</td>\n",
       "      <td>1</td>\n",
       "      <td>0.00</td>\n",
       "      <td>2</td>\n",
       "      <td>0</td>\n",
       "      <td>0</td>\n",
       "      <td>93826.63</td>\n",
       "      <td>0</td>\n",
       "      <td>0</td>\n",
       "      <td>5</td>\n",
       "      <td>GOLD</td>\n",
       "      <td>350</td>\n",
       "    </tr>\n",
       "    <tr>\n",
       "      <th>4</th>\n",
       "      <td>5</td>\n",
       "      <td>15737888</td>\n",
       "      <td>Mitchell</td>\n",
       "      <td>850</td>\n",
       "      <td>Spain</td>\n",
       "      <td>Female</td>\n",
       "      <td>43</td>\n",
       "      <td>2</td>\n",
       "      <td>125510.82</td>\n",
       "      <td>1</td>\n",
       "      <td>1</td>\n",
       "      <td>1</td>\n",
       "      <td>79084.10</td>\n",
       "      <td>0</td>\n",
       "      <td>0</td>\n",
       "      <td>5</td>\n",
       "      <td>GOLD</td>\n",
       "      <td>425</td>\n",
       "    </tr>\n",
       "  </tbody>\n",
       "</table>\n",
       "</div>"
      ],
      "text/plain": [
       "   RowNumber  CustomerId   Surname  CreditScore Geography  Gender  Age  \\\n",
       "0          1    15634602  Hargrave          619    France  Female   42   \n",
       "1          2    15647311      Hill          608     Spain  Female   41   \n",
       "2          3    15619304      Onio          502    France  Female   42   \n",
       "3          4    15701354      Boni          699    France  Female   39   \n",
       "4          5    15737888  Mitchell          850     Spain  Female   43   \n",
       "\n",
       "   Tenure    Balance  NumOfProducts  HasCrCard  IsActiveMember  \\\n",
       "0       2       0.00              1          1               1   \n",
       "1       1   83807.86              1          0               1   \n",
       "2       8  159660.80              3          1               0   \n",
       "3       1       0.00              2          0               0   \n",
       "4       2  125510.82              1          1               1   \n",
       "\n",
       "   EstimatedSalary  Exited  Complain  Satisfaction Score Card Type  \\\n",
       "0        101348.88       1         1                   2   DIAMOND   \n",
       "1        112542.58       0         1                   3   DIAMOND   \n",
       "2        113931.57       1         1                   3   DIAMOND   \n",
       "3         93826.63       0         0                   5      GOLD   \n",
       "4         79084.10       0         0                   5      GOLD   \n",
       "\n",
       "   Point Earned  \n",
       "0           464  \n",
       "1           456  \n",
       "2           377  \n",
       "3           350  \n",
       "4           425  "
      ]
     },
     "execution_count": 4,
     "metadata": {},
     "output_type": "execute_result"
    }
   ],
   "source": [
    "df.head()"
   ]
  },
  {
   "cell_type": "code",
   "execution_count": 5,
   "id": "7295f102",
   "metadata": {
    "execution": {
     "iopub.execute_input": "2023-10-23T17:33:31.518909Z",
     "iopub.status.busy": "2023-10-23T17:33:31.518533Z",
     "iopub.status.idle": "2023-10-23T17:33:31.554297Z",
     "shell.execute_reply": "2023-10-23T17:33:31.553410Z"
    },
    "papermill": {
     "duration": 0.052844,
     "end_time": "2023-10-23T17:33:31.557427",
     "exception": false,
     "start_time": "2023-10-23T17:33:31.504583",
     "status": "completed"
    },
    "tags": []
   },
   "outputs": [
    {
     "name": "stdout",
     "output_type": "stream",
     "text": [
      "<class 'pandas.core.frame.DataFrame'>\n",
      "RangeIndex: 10000 entries, 0 to 9999\n",
      "Data columns (total 18 columns):\n",
      " #   Column              Non-Null Count  Dtype  \n",
      "---  ------              --------------  -----  \n",
      " 0   RowNumber           10000 non-null  int64  \n",
      " 1   CustomerId          10000 non-null  int64  \n",
      " 2   Surname             10000 non-null  object \n",
      " 3   CreditScore         10000 non-null  int64  \n",
      " 4   Geography           10000 non-null  object \n",
      " 5   Gender              10000 non-null  object \n",
      " 6   Age                 10000 non-null  int64  \n",
      " 7   Tenure              10000 non-null  int64  \n",
      " 8   Balance             10000 non-null  float64\n",
      " 9   NumOfProducts       10000 non-null  int64  \n",
      " 10  HasCrCard           10000 non-null  int64  \n",
      " 11  IsActiveMember      10000 non-null  int64  \n",
      " 12  EstimatedSalary     10000 non-null  float64\n",
      " 13  Exited              10000 non-null  int64  \n",
      " 14  Complain            10000 non-null  int64  \n",
      " 15  Satisfaction Score  10000 non-null  int64  \n",
      " 16  Card Type           10000 non-null  object \n",
      " 17  Point Earned        10000 non-null  int64  \n",
      "dtypes: float64(2), int64(12), object(4)\n",
      "memory usage: 1.4+ MB\n"
     ]
    }
   ],
   "source": [
    "df.info()"
   ]
  },
  {
   "cell_type": "code",
   "execution_count": 6,
   "id": "cf80f2b5",
   "metadata": {
    "execution": {
     "iopub.execute_input": "2023-10-23T17:33:31.584157Z",
     "iopub.status.busy": "2023-10-23T17:33:31.583683Z",
     "iopub.status.idle": "2023-10-23T17:33:31.607666Z",
     "shell.execute_reply": "2023-10-23T17:33:31.606025Z"
    },
    "papermill": {
     "duration": 0.040878,
     "end_time": "2023-10-23T17:33:31.610773",
     "exception": false,
     "start_time": "2023-10-23T17:33:31.569895",
     "status": "completed"
    },
    "tags": []
   },
   "outputs": [
    {
     "data": {
      "text/plain": [
       "0"
      ]
     },
     "execution_count": 6,
     "metadata": {},
     "output_type": "execute_result"
    }
   ],
   "source": [
    "df.duplicated().sum()"
   ]
  },
  {
   "cell_type": "code",
   "execution_count": 7,
   "id": "e9803900",
   "metadata": {
    "execution": {
     "iopub.execute_input": "2023-10-23T17:33:31.637856Z",
     "iopub.status.busy": "2023-10-23T17:33:31.637382Z",
     "iopub.status.idle": "2023-10-23T17:33:31.647222Z",
     "shell.execute_reply": "2023-10-23T17:33:31.646260Z"
    },
    "papermill": {
     "duration": 0.025692,
     "end_time": "2023-10-23T17:33:31.649363",
     "exception": false,
     "start_time": "2023-10-23T17:33:31.623671",
     "status": "completed"
    },
    "tags": []
   },
   "outputs": [
    {
     "data": {
      "text/plain": [
       "Exited\n",
       "0    7962\n",
       "1    2038\n",
       "Name: count, dtype: int64"
      ]
     },
     "execution_count": 7,
     "metadata": {},
     "output_type": "execute_result"
    }
   ],
   "source": [
    "df['Exited'].value_counts()"
   ]
  },
  {
   "cell_type": "code",
   "execution_count": 8,
   "id": "822a7503",
   "metadata": {
    "execution": {
     "iopub.execute_input": "2023-10-23T17:33:31.675899Z",
     "iopub.status.busy": "2023-10-23T17:33:31.674703Z",
     "iopub.status.idle": "2023-10-23T17:33:31.684612Z",
     "shell.execute_reply": "2023-10-23T17:33:31.683732Z"
    },
    "papermill": {
     "duration": 0.026108,
     "end_time": "2023-10-23T17:33:31.687353",
     "exception": false,
     "start_time": "2023-10-23T17:33:31.661245",
     "status": "completed"
    },
    "tags": []
   },
   "outputs": [
    {
     "data": {
      "text/plain": [
       "Geography\n",
       "France     5014\n",
       "Germany    2509\n",
       "Spain      2477\n",
       "Name: count, dtype: int64"
      ]
     },
     "execution_count": 8,
     "metadata": {},
     "output_type": "execute_result"
    }
   ],
   "source": [
    "df['Geography'].value_counts()"
   ]
  },
  {
   "cell_type": "code",
   "execution_count": 9,
   "id": "a238ba07",
   "metadata": {
    "execution": {
     "iopub.execute_input": "2023-10-23T17:33:31.714105Z",
     "iopub.status.busy": "2023-10-23T17:33:31.713256Z",
     "iopub.status.idle": "2023-10-23T17:33:31.723498Z",
     "shell.execute_reply": "2023-10-23T17:33:31.722656Z"
    },
    "papermill": {
     "duration": 0.026511,
     "end_time": "2023-10-23T17:33:31.725955",
     "exception": false,
     "start_time": "2023-10-23T17:33:31.699444",
     "status": "completed"
    },
    "tags": []
   },
   "outputs": [
    {
     "data": {
      "text/plain": [
       "Gender\n",
       "Male      5457\n",
       "Female    4543\n",
       "Name: count, dtype: int64"
      ]
     },
     "execution_count": 9,
     "metadata": {},
     "output_type": "execute_result"
    }
   ],
   "source": [
    "df['Gender'].value_counts()"
   ]
  },
  {
   "cell_type": "code",
   "execution_count": 10,
   "id": "d9bde92d",
   "metadata": {
    "execution": {
     "iopub.execute_input": "2023-10-23T17:33:31.755552Z",
     "iopub.status.busy": "2023-10-23T17:33:31.754843Z",
     "iopub.status.idle": "2023-10-23T17:33:31.767788Z",
     "shell.execute_reply": "2023-10-23T17:33:31.765520Z"
    },
    "papermill": {
     "duration": 0.032286,
     "end_time": "2023-10-23T17:33:31.771630",
     "exception": false,
     "start_time": "2023-10-23T17:33:31.739344",
     "status": "completed"
    },
    "tags": []
   },
   "outputs": [],
   "source": [
    "df.drop(columns=[\"RowNumber\",\"CustomerId\",\"Surname\"],inplace=True)"
   ]
  },
  {
   "cell_type": "code",
   "execution_count": 11,
   "id": "bd398dde",
   "metadata": {
    "execution": {
     "iopub.execute_input": "2023-10-23T17:33:31.800039Z",
     "iopub.status.busy": "2023-10-23T17:33:31.798894Z",
     "iopub.status.idle": "2023-10-23T17:33:31.817554Z",
     "shell.execute_reply": "2023-10-23T17:33:31.816558Z"
    },
    "papermill": {
     "duration": 0.035687,
     "end_time": "2023-10-23T17:33:31.820591",
     "exception": false,
     "start_time": "2023-10-23T17:33:31.784904",
     "status": "completed"
    },
    "tags": []
   },
   "outputs": [],
   "source": [
    "df=pd.get_dummies(df,columns=['Geography','Gender',\"Card Type\"],drop_first=True)"
   ]
  },
  {
   "cell_type": "code",
   "execution_count": 12,
   "id": "2b5c470f",
   "metadata": {
    "execution": {
     "iopub.execute_input": "2023-10-23T17:33:31.848048Z",
     "iopub.status.busy": "2023-10-23T17:33:31.847605Z",
     "iopub.status.idle": "2023-10-23T17:33:33.425217Z",
     "shell.execute_reply": "2023-10-23T17:33:33.423435Z"
    },
    "papermill": {
     "duration": 1.595803,
     "end_time": "2023-10-23T17:33:33.428986",
     "exception": false,
     "start_time": "2023-10-23T17:33:31.833183",
     "status": "completed"
    },
    "tags": []
   },
   "outputs": [],
   "source": [
    "X=df.drop(columns=['Exited'])\n",
    "y=df['Exited']\n",
    "from sklearn.model_selection import train_test_split\n",
    "X_train,X_test,y_train,y_test = train_test_split(X,y, test_size=0.2, random_state=1)"
   ]
  },
  {
   "cell_type": "code",
   "execution_count": 13,
   "id": "f08c6338",
   "metadata": {
    "execution": {
     "iopub.execute_input": "2023-10-23T17:33:33.455975Z",
     "iopub.status.busy": "2023-10-23T17:33:33.455384Z",
     "iopub.status.idle": "2023-10-23T17:33:33.463877Z",
     "shell.execute_reply": "2023-10-23T17:33:33.462411Z"
    },
    "papermill": {
     "duration": 0.025428,
     "end_time": "2023-10-23T17:33:33.466881",
     "exception": false,
     "start_time": "2023-10-23T17:33:33.441453",
     "status": "completed"
    },
    "tags": []
   },
   "outputs": [
    {
     "data": {
      "text/plain": [
       "(8000, 17)"
      ]
     },
     "execution_count": 13,
     "metadata": {},
     "output_type": "execute_result"
    }
   ],
   "source": [
    "X_train.shape"
   ]
  },
  {
   "cell_type": "code",
   "execution_count": 14,
   "id": "ea2b60bb",
   "metadata": {
    "execution": {
     "iopub.execute_input": "2023-10-23T17:33:33.494293Z",
     "iopub.status.busy": "2023-10-23T17:33:33.493775Z",
     "iopub.status.idle": "2023-10-23T17:33:33.526002Z",
     "shell.execute_reply": "2023-10-23T17:33:33.524325Z"
    },
    "papermill": {
     "duration": 0.049599,
     "end_time": "2023-10-23T17:33:33.529107",
     "exception": false,
     "start_time": "2023-10-23T17:33:33.479508",
     "status": "completed"
    },
    "tags": []
   },
   "outputs": [],
   "source": [
    "from sklearn.preprocessing import StandardScaler\n",
    "scaler = StandardScaler()\n",
    "X_train_scaled = scaler.fit_transform(X_train)\n",
    "X_test_scaled = scaler.transform(X_test) "
   ]
  },
  {
   "cell_type": "code",
   "execution_count": 15,
   "id": "9bc23783",
   "metadata": {
    "execution": {
     "iopub.execute_input": "2023-10-23T17:33:33.556735Z",
     "iopub.status.busy": "2023-10-23T17:33:33.556207Z",
     "iopub.status.idle": "2023-10-23T17:33:44.444031Z",
     "shell.execute_reply": "2023-10-23T17:33:44.442545Z"
    },
    "papermill": {
     "duration": 10.905767,
     "end_time": "2023-10-23T17:33:44.447100",
     "exception": false,
     "start_time": "2023-10-23T17:33:33.541333",
     "status": "completed"
    },
    "tags": []
   },
   "outputs": [],
   "source": [
    "import tensorflow \n",
    "from tensorflow import keras\n",
    "from tensorflow.keras import Sequential\n",
    "from tensorflow.keras.layers import Dense"
   ]
  },
  {
   "cell_type": "code",
   "execution_count": 16,
   "id": "ba8c5f44",
   "metadata": {
    "execution": {
     "iopub.execute_input": "2023-10-23T17:33:44.473964Z",
     "iopub.status.busy": "2023-10-23T17:33:44.473208Z",
     "iopub.status.idle": "2023-10-23T17:33:44.667819Z",
     "shell.execute_reply": "2023-10-23T17:33:44.666490Z"
    },
    "papermill": {
     "duration": 0.211437,
     "end_time": "2023-10-23T17:33:44.671025",
     "exception": false,
     "start_time": "2023-10-23T17:33:44.459588",
     "status": "completed"
    },
    "tags": []
   },
   "outputs": [],
   "source": [
    "model = Sequential()\n",
    "model.add(Dense(3,activation='sigmoid',input_dim=17))\n",
    "model.add(Dense(1,activation='sigmoid'))"
   ]
  },
  {
   "cell_type": "code",
   "execution_count": 17,
   "id": "c13ef4c2",
   "metadata": {
    "execution": {
     "iopub.execute_input": "2023-10-23T17:33:44.698826Z",
     "iopub.status.busy": "2023-10-23T17:33:44.698330Z",
     "iopub.status.idle": "2023-10-23T17:33:44.723736Z",
     "shell.execute_reply": "2023-10-23T17:33:44.722069Z"
    },
    "papermill": {
     "duration": 0.048356,
     "end_time": "2023-10-23T17:33:44.731713",
     "exception": false,
     "start_time": "2023-10-23T17:33:44.683357",
     "status": "completed"
    },
    "tags": []
   },
   "outputs": [
    {
     "name": "stdout",
     "output_type": "stream",
     "text": [
      "Model: \"sequential\"\n",
      "_________________________________________________________________\n",
      " Layer (type)                Output Shape              Param #   \n",
      "=================================================================\n",
      " dense (Dense)               (None, 3)                 54        \n",
      "                                                                 \n",
      " dense_1 (Dense)             (None, 1)                 4         \n",
      "                                                                 \n",
      "=================================================================\n",
      "Total params: 58\n",
      "Trainable params: 58\n",
      "Non-trainable params: 0\n",
      "_________________________________________________________________\n"
     ]
    }
   ],
   "source": [
    "model.summary()"
   ]
  },
  {
   "cell_type": "markdown",
   "id": "4a028f31",
   "metadata": {
    "papermill": {
     "duration": 0.01409,
     "end_time": "2023-10-23T17:33:44.760601",
     "exception": false,
     "start_time": "2023-10-23T17:33:44.746511",
     "status": "completed"
    },
    "tags": []
   },
   "source": [
    "(17X3+3)+(3X1+1)=58"
   ]
  },
  {
   "cell_type": "code",
   "execution_count": 18,
   "id": "e47e2876",
   "metadata": {
    "execution": {
     "iopub.execute_input": "2023-10-23T17:33:44.791063Z",
     "iopub.status.busy": "2023-10-23T17:33:44.790635Z",
     "iopub.status.idle": "2023-10-23T17:33:44.796279Z",
     "shell.execute_reply": "2023-10-23T17:33:44.794768Z"
    },
    "papermill": {
     "duration": 0.024736,
     "end_time": "2023-10-23T17:33:44.799614",
     "exception": false,
     "start_time": "2023-10-23T17:33:44.774878",
     "status": "completed"
    },
    "tags": []
   },
   "outputs": [],
   "source": [
    "# compile we need to defined the optimization function and activation function"
   ]
  },
  {
   "cell_type": "code",
   "execution_count": 19,
   "id": "74e3f3c3",
   "metadata": {
    "execution": {
     "iopub.execute_input": "2023-10-23T17:33:44.830052Z",
     "iopub.status.busy": "2023-10-23T17:33:44.829605Z",
     "iopub.status.idle": "2023-10-23T17:33:44.853251Z",
     "shell.execute_reply": "2023-10-23T17:33:44.851062Z"
    },
    "papermill": {
     "duration": 0.043187,
     "end_time": "2023-10-23T17:33:44.856700",
     "exception": false,
     "start_time": "2023-10-23T17:33:44.813513",
     "status": "completed"
    },
    "tags": []
   },
   "outputs": [],
   "source": [
    "model.compile(loss='binary_crossentropy',optimizer='Adam', metrics=['accuracy'])"
   ]
  },
  {
   "cell_type": "code",
   "execution_count": 20,
   "id": "d6291321",
   "metadata": {
    "execution": {
     "iopub.execute_input": "2023-10-23T17:33:44.886123Z",
     "iopub.status.busy": "2023-10-23T17:33:44.885554Z",
     "iopub.status.idle": "2023-10-23T17:33:55.996667Z",
     "shell.execute_reply": "2023-10-23T17:33:55.995098Z"
    },
    "papermill": {
     "duration": 11.129947,
     "end_time": "2023-10-23T17:33:56.000358",
     "exception": false,
     "start_time": "2023-10-23T17:33:44.870411",
     "status": "completed"
    },
    "tags": []
   },
   "outputs": [
    {
     "name": "stdout",
     "output_type": "stream",
     "text": [
      "Epoch 1/17\n",
      "200/200 [==============================] - 2s 4ms/step - loss: 0.4942 - accuracy: 0.7970 - val_loss: 0.4537 - val_accuracy: 0.7975\n",
      "Epoch 2/17\n",
      "200/200 [==============================] - 1s 3ms/step - loss: 0.4178 - accuracy: 0.7970 - val_loss: 0.3844 - val_accuracy: 0.7975\n",
      "Epoch 3/17\n",
      "200/200 [==============================] - 1s 3ms/step - loss: 0.3536 - accuracy: 0.7970 - val_loss: 0.3262 - val_accuracy: 0.7975\n",
      "Epoch 4/17\n",
      "200/200 [==============================] - 1s 3ms/step - loss: 0.2995 - accuracy: 0.7970 - val_loss: 0.2759 - val_accuracy: 0.7987\n",
      "Epoch 5/17\n",
      "200/200 [==============================] - 1s 3ms/step - loss: 0.2530 - accuracy: 0.8089 - val_loss: 0.2328 - val_accuracy: 0.8306\n",
      "Epoch 6/17\n",
      "200/200 [==============================] - 1s 3ms/step - loss: 0.2136 - accuracy: 0.8783 - val_loss: 0.1967 - val_accuracy: 0.9169\n",
      "Epoch 7/17\n",
      "200/200 [==============================] - 1s 3ms/step - loss: 0.1808 - accuracy: 0.9523 - val_loss: 0.1668 - val_accuracy: 0.9731\n",
      "Epoch 8/17\n",
      "200/200 [==============================] - 1s 3ms/step - loss: 0.1536 - accuracy: 0.9864 - val_loss: 0.1420 - val_accuracy: 0.9950\n",
      "Epoch 9/17\n",
      "200/200 [==============================] - 1s 3ms/step - loss: 0.1313 - accuracy: 0.9962 - val_loss: 0.1216 - val_accuracy: 0.9987\n",
      "Epoch 10/17\n",
      "200/200 [==============================] - 1s 3ms/step - loss: 0.1129 - accuracy: 0.9983 - val_loss: 0.1050 - val_accuracy: 0.9994\n",
      "Epoch 11/17\n",
      "200/200 [==============================] - 1s 3ms/step - loss: 0.0978 - accuracy: 0.9986 - val_loss: 0.0911 - val_accuracy: 0.9994\n",
      "Epoch 12/17\n",
      "200/200 [==============================] - 1s 3ms/step - loss: 0.0853 - accuracy: 0.9986 - val_loss: 0.0797 - val_accuracy: 0.9994\n",
      "Epoch 13/17\n",
      "200/200 [==============================] - 1s 3ms/step - loss: 0.0749 - accuracy: 0.9986 - val_loss: 0.0701 - val_accuracy: 0.9994\n",
      "Epoch 14/17\n",
      "200/200 [==============================] - 1s 3ms/step - loss: 0.0662 - accuracy: 0.9986 - val_loss: 0.0620 - val_accuracy: 0.9994\n",
      "Epoch 15/17\n",
      "200/200 [==============================] - 1s 3ms/step - loss: 0.0588 - accuracy: 0.9986 - val_loss: 0.0551 - val_accuracy: 0.9994\n",
      "Epoch 16/17\n",
      "200/200 [==============================] - 1s 3ms/step - loss: 0.0525 - accuracy: 0.9986 - val_loss: 0.0493 - val_accuracy: 0.9994\n",
      "Epoch 17/17\n",
      "200/200 [==============================] - 1s 3ms/step - loss: 0.0471 - accuracy: 0.9986 - val_loss: 0.0442 - val_accuracy: 0.9994\n"
     ]
    }
   ],
   "source": [
    "history=model.fit(X_train_scaled,y_train,epochs=17, validation_split=0.2)"
   ]
  },
  {
   "cell_type": "code",
   "execution_count": 21,
   "id": "2971cea9",
   "metadata": {
    "execution": {
     "iopub.execute_input": "2023-10-23T17:33:56.076032Z",
     "iopub.status.busy": "2023-10-23T17:33:56.075575Z",
     "iopub.status.idle": "2023-10-23T17:33:56.090252Z",
     "shell.execute_reply": "2023-10-23T17:33:56.088228Z"
    },
    "papermill": {
     "duration": 0.056187,
     "end_time": "2023-10-23T17:33:56.094053",
     "exception": false,
     "start_time": "2023-10-23T17:33:56.037866",
     "status": "completed"
    },
    "tags": []
   },
   "outputs": [
    {
     "data": {
      "text/plain": [
       "[array([[ 2.29958482e-02,  1.46349026e-02,  1.09666102e-02],\n",
       "        [-3.15190107e-01, -1.92818880e-01, -2.54775941e-01],\n",
       "        [ 1.69982016e-02,  2.13640537e-02,  9.36449505e-03],\n",
       "        [-1.10826232e-01, -2.55625099e-02, -2.13916358e-02],\n",
       "        [-2.74503324e-03,  1.54809412e-02,  3.89052592e-02],\n",
       "        [ 2.08022837e-02,  1.40799386e-02,  2.33777221e-02],\n",
       "        [ 2.20480084e-01,  1.68308675e-01,  2.01504692e-01],\n",
       "        [ 2.70076096e-03, -1.88061618e-03, -1.73253734e-02],\n",
       "        [-2.06962872e+00, -2.67882586e+00, -1.77119994e+00],\n",
       "        [ 3.36702578e-02,  2.53834166e-02,  2.11471487e-02],\n",
       "        [ 2.10115109e-02,  2.49349531e-02,  3.17947417e-02],\n",
       "        [-3.80303785e-02, -1.06569640e-01, -1.61117822e-01],\n",
       "        [ 1.71572585e-02, -2.17962936e-02, -3.28911655e-02],\n",
       "        [ 6.11991398e-02,  5.12749776e-02,  1.04539506e-01],\n",
       "        [-3.77251231e-03,  1.93680208e-02,  3.40416208e-02],\n",
       "        [ 7.81463645e-03,  2.57067140e-02,  3.93156968e-02],\n",
       "        [-2.09533181e-02,  1.42133841e-03,  1.97562668e-02]], dtype=float32),\n",
       " array([0.68725485, 1.1935173 , 0.36943606], dtype=float32)]"
      ]
     },
     "execution_count": 21,
     "metadata": {},
     "output_type": "execute_result"
    }
   ],
   "source": [
    "model.layers[0].get_weights()\n",
    "# this are 33 weight and 3 layers of first layer"
   ]
  },
  {
   "cell_type": "code",
   "execution_count": 22,
   "id": "115d8075",
   "metadata": {
    "execution": {
     "iopub.execute_input": "2023-10-23T17:33:56.160353Z",
     "iopub.status.busy": "2023-10-23T17:33:56.159763Z",
     "iopub.status.idle": "2023-10-23T17:33:56.173843Z",
     "shell.execute_reply": "2023-10-23T17:33:56.172139Z"
    },
    "papermill": {
     "duration": 0.049296,
     "end_time": "2023-10-23T17:33:56.176809",
     "exception": false,
     "start_time": "2023-10-23T17:33:56.127513",
     "status": "completed"
    },
    "tags": []
   },
   "outputs": [
    {
     "data": {
      "text/plain": [
       "[array([[-2.8544102],\n",
       "        [-2.2286162],\n",
       "        [-2.6578171]], dtype=float32),\n",
       " array([1.9057431], dtype=float32)]"
      ]
     },
     "execution_count": 22,
     "metadata": {},
     "output_type": "execute_result"
    }
   ],
   "source": [
    "model.layers[1].get_weights() \n",
    "# second layers"
   ]
  },
  {
   "cell_type": "code",
   "execution_count": 23,
   "id": "e76b6c0e",
   "metadata": {
    "execution": {
     "iopub.execute_input": "2023-10-23T17:33:56.307518Z",
     "iopub.status.busy": "2023-10-23T17:33:56.306941Z",
     "iopub.status.idle": "2023-10-23T17:33:56.679781Z",
     "shell.execute_reply": "2023-10-23T17:33:56.678281Z"
    },
    "papermill": {
     "duration": 0.475456,
     "end_time": "2023-10-23T17:33:56.682821",
     "exception": false,
     "start_time": "2023-10-23T17:33:56.207365",
     "status": "completed"
    },
    "tags": []
   },
   "outputs": [
    {
     "name": "stdout",
     "output_type": "stream",
     "text": [
      "63/63 [==============================] - 0s 2ms/step\n"
     ]
    }
   ],
   "source": [
    "y_log=model.predict(X_test_scaled)"
   ]
  },
  {
   "cell_type": "code",
   "execution_count": 24,
   "id": "b54e437a",
   "metadata": {
    "execution": {
     "iopub.execute_input": "2023-10-23T17:33:56.748260Z",
     "iopub.status.busy": "2023-10-23T17:33:56.747797Z",
     "iopub.status.idle": "2023-10-23T17:33:56.754975Z",
     "shell.execute_reply": "2023-10-23T17:33:56.753300Z"
    },
    "papermill": {
     "duration": 0.04368,
     "end_time": "2023-10-23T17:33:56.758403",
     "exception": false,
     "start_time": "2023-10-23T17:33:56.714723",
     "status": "completed"
    },
    "tags": []
   },
   "outputs": [],
   "source": [
    "y_pred=np.where(y_log>0.05,1,0)"
   ]
  },
  {
   "cell_type": "code",
   "execution_count": 25,
   "id": "44480056",
   "metadata": {
    "execution": {
     "iopub.execute_input": "2023-10-23T17:33:56.831275Z",
     "iopub.status.busy": "2023-10-23T17:33:56.830279Z",
     "iopub.status.idle": "2023-10-23T17:33:56.841902Z",
     "shell.execute_reply": "2023-10-23T17:33:56.840397Z"
    },
    "papermill": {
     "duration": 0.051731,
     "end_time": "2023-10-23T17:33:56.845155",
     "exception": false,
     "start_time": "2023-10-23T17:33:56.793424",
     "status": "completed"
    },
    "tags": []
   },
   "outputs": [
    {
     "data": {
      "text/plain": [
       "0.998"
      ]
     },
     "execution_count": 25,
     "metadata": {},
     "output_type": "execute_result"
    }
   ],
   "source": [
    "from sklearn.metrics import accuracy_score\n",
    "accuracy_score(y_test, y_pred)"
   ]
  },
  {
   "cell_type": "code",
   "execution_count": 26,
   "id": "53aec454",
   "metadata": {
    "execution": {
     "iopub.execute_input": "2023-10-23T17:33:56.916999Z",
     "iopub.status.busy": "2023-10-23T17:33:56.915770Z",
     "iopub.status.idle": "2023-10-23T17:33:56.923328Z",
     "shell.execute_reply": "2023-10-23T17:33:56.921831Z"
    },
    "papermill": {
     "duration": 0.04785,
     "end_time": "2023-10-23T17:33:56.926906",
     "exception": false,
     "start_time": "2023-10-23T17:33:56.879056",
     "status": "completed"
    },
    "tags": []
   },
   "outputs": [],
   "source": [
    "import matplotlib.pyplot as plt "
   ]
  },
  {
   "cell_type": "code",
   "execution_count": 27,
   "id": "c8214af3",
   "metadata": {
    "execution": {
     "iopub.execute_input": "2023-10-23T17:33:56.997704Z",
     "iopub.status.busy": "2023-10-23T17:33:56.997265Z",
     "iopub.status.idle": "2023-10-23T17:33:57.005829Z",
     "shell.execute_reply": "2023-10-23T17:33:57.004720Z"
    },
    "papermill": {
     "duration": 0.048419,
     "end_time": "2023-10-23T17:33:57.009619",
     "exception": false,
     "start_time": "2023-10-23T17:33:56.961200",
     "status": "completed"
    },
    "tags": []
   },
   "outputs": [
    {
     "data": {
      "text/plain": [
       "{'loss': [0.49415522813796997,\n",
       "  0.4177519679069519,\n",
       "  0.3535976707935333,\n",
       "  0.29949042201042175,\n",
       "  0.25300437211990356,\n",
       "  0.21359898149967194,\n",
       "  0.18076615035533905,\n",
       "  0.1535794734954834,\n",
       "  0.13127392530441284,\n",
       "  0.11291313916444778,\n",
       "  0.09779905527830124,\n",
       "  0.08530905842781067,\n",
       "  0.07489683479070663,\n",
       "  0.0661592036485672,\n",
       "  0.05876675248146057,\n",
       "  0.052483752369880676,\n",
       "  0.04711896553635597],\n",
       " 'accuracy': [0.7970312237739563,\n",
       "  0.7970312237739563,\n",
       "  0.7970312237739563,\n",
       "  0.7970312237739563,\n",
       "  0.8089062571525574,\n",
       "  0.8782812356948853,\n",
       "  0.952343761920929,\n",
       "  0.9864062666893005,\n",
       "  0.9962499737739563,\n",
       "  0.9982812404632568,\n",
       "  0.9985937476158142,\n",
       "  0.9985937476158142,\n",
       "  0.9985937476158142,\n",
       "  0.9985937476158142,\n",
       "  0.9985937476158142,\n",
       "  0.9985937476158142,\n",
       "  0.9985937476158142],\n",
       " 'val_loss': [0.45371147990226746,\n",
       "  0.38442856073379517,\n",
       "  0.3262065052986145,\n",
       "  0.27589598298072815,\n",
       "  0.23275047540664673,\n",
       "  0.19667120277881622,\n",
       "  0.1667517125606537,\n",
       "  0.1420373022556305,\n",
       "  0.12163808941841125,\n",
       "  0.10496450215578079,\n",
       "  0.09114707261323929,\n",
       "  0.07968014478683472,\n",
       "  0.07008827477693558,\n",
       "  0.06198845058679581,\n",
       "  0.05514882877469063,\n",
       "  0.0492747463285923,\n",
       "  0.0442374050617218],\n",
       " 'val_accuracy': [0.7975000143051147,\n",
       "  0.7975000143051147,\n",
       "  0.7975000143051147,\n",
       "  0.7987499833106995,\n",
       "  0.8306249976158142,\n",
       "  0.9168750047683716,\n",
       "  0.9731249809265137,\n",
       "  0.9950000047683716,\n",
       "  0.9987499713897705,\n",
       "  0.9993749856948853,\n",
       "  0.9993749856948853,\n",
       "  0.9993749856948853,\n",
       "  0.9993749856948853,\n",
       "  0.9993749856948853,\n",
       "  0.9993749856948853,\n",
       "  0.9993749856948853,\n",
       "  0.9993749856948853]}"
      ]
     },
     "execution_count": 27,
     "metadata": {},
     "output_type": "execute_result"
    }
   ],
   "source": [
    "history.history"
   ]
  },
  {
   "cell_type": "code",
   "execution_count": 28,
   "id": "d74f4619",
   "metadata": {
    "execution": {
     "iopub.execute_input": "2023-10-23T17:33:57.084222Z",
     "iopub.status.busy": "2023-10-23T17:33:57.083536Z",
     "iopub.status.idle": "2023-10-23T17:33:57.088989Z",
     "shell.execute_reply": "2023-10-23T17:33:57.087623Z"
    },
    "papermill": {
     "duration": 0.046413,
     "end_time": "2023-10-23T17:33:57.092614",
     "exception": false,
     "start_time": "2023-10-23T17:33:57.046201",
     "status": "completed"
    },
    "tags": []
   },
   "outputs": [],
   "source": [
    "import matplotlib.pyplot as plt"
   ]
  },
  {
   "cell_type": "code",
   "execution_count": 29,
   "id": "20c17fdc",
   "metadata": {
    "execution": {
     "iopub.execute_input": "2023-10-23T17:33:57.164193Z",
     "iopub.status.busy": "2023-10-23T17:33:57.162901Z",
     "iopub.status.idle": "2023-10-23T17:33:57.173794Z",
     "shell.execute_reply": "2023-10-23T17:33:57.172329Z"
    },
    "papermill": {
     "duration": 0.049192,
     "end_time": "2023-10-23T17:33:57.176798",
     "exception": false,
     "start_time": "2023-10-23T17:33:57.127606",
     "status": "completed"
    },
    "tags": []
   },
   "outputs": [
    {
     "data": {
      "text/plain": [
       "{'loss': [0.49415522813796997,\n",
       "  0.4177519679069519,\n",
       "  0.3535976707935333,\n",
       "  0.29949042201042175,\n",
       "  0.25300437211990356,\n",
       "  0.21359898149967194,\n",
       "  0.18076615035533905,\n",
       "  0.1535794734954834,\n",
       "  0.13127392530441284,\n",
       "  0.11291313916444778,\n",
       "  0.09779905527830124,\n",
       "  0.08530905842781067,\n",
       "  0.07489683479070663,\n",
       "  0.0661592036485672,\n",
       "  0.05876675248146057,\n",
       "  0.052483752369880676,\n",
       "  0.04711896553635597],\n",
       " 'accuracy': [0.7970312237739563,\n",
       "  0.7970312237739563,\n",
       "  0.7970312237739563,\n",
       "  0.7970312237739563,\n",
       "  0.8089062571525574,\n",
       "  0.8782812356948853,\n",
       "  0.952343761920929,\n",
       "  0.9864062666893005,\n",
       "  0.9962499737739563,\n",
       "  0.9982812404632568,\n",
       "  0.9985937476158142,\n",
       "  0.9985937476158142,\n",
       "  0.9985937476158142,\n",
       "  0.9985937476158142,\n",
       "  0.9985937476158142,\n",
       "  0.9985937476158142,\n",
       "  0.9985937476158142],\n",
       " 'val_loss': [0.45371147990226746,\n",
       "  0.38442856073379517,\n",
       "  0.3262065052986145,\n",
       "  0.27589598298072815,\n",
       "  0.23275047540664673,\n",
       "  0.19667120277881622,\n",
       "  0.1667517125606537,\n",
       "  0.1420373022556305,\n",
       "  0.12163808941841125,\n",
       "  0.10496450215578079,\n",
       "  0.09114707261323929,\n",
       "  0.07968014478683472,\n",
       "  0.07008827477693558,\n",
       "  0.06198845058679581,\n",
       "  0.05514882877469063,\n",
       "  0.0492747463285923,\n",
       "  0.0442374050617218],\n",
       " 'val_accuracy': [0.7975000143051147,\n",
       "  0.7975000143051147,\n",
       "  0.7975000143051147,\n",
       "  0.7987499833106995,\n",
       "  0.8306249976158142,\n",
       "  0.9168750047683716,\n",
       "  0.9731249809265137,\n",
       "  0.9950000047683716,\n",
       "  0.9987499713897705,\n",
       "  0.9993749856948853,\n",
       "  0.9993749856948853,\n",
       "  0.9993749856948853,\n",
       "  0.9993749856948853,\n",
       "  0.9993749856948853,\n",
       "  0.9993749856948853,\n",
       "  0.9993749856948853,\n",
       "  0.9993749856948853]}"
      ]
     },
     "execution_count": 29,
     "metadata": {},
     "output_type": "execute_result"
    }
   ],
   "source": [
    "history.history"
   ]
  },
  {
   "cell_type": "code",
   "execution_count": 30,
   "id": "d18bb88f",
   "metadata": {
    "execution": {
     "iopub.execute_input": "2023-10-23T17:33:57.243240Z",
     "iopub.status.busy": "2023-10-23T17:33:57.242773Z",
     "iopub.status.idle": "2023-10-23T17:33:57.590366Z",
     "shell.execute_reply": "2023-10-23T17:33:57.588636Z"
    },
    "papermill": {
     "duration": 0.38487,
     "end_time": "2023-10-23T17:33:57.593152",
     "exception": false,
     "start_time": "2023-10-23T17:33:57.208282",
     "status": "completed"
    },
    "tags": []
   },
   "outputs": [
    {
     "data": {
      "text/plain": [
       "[<matplotlib.lines.Line2D at 0x7f861831c040>]"
      ]
     },
     "execution_count": 30,
     "metadata": {},
     "output_type": "execute_result"
    },
    {
     "data": {
      "image/png": "[encoded data removed]",
      "text/plain": [
       "<Figure size 640x480 with 1 Axes>"
      ]
     },
     "metadata": {},
     "output_type": "display_data"
    }
   ],
   "source": [
    "plt.plot(history.history['loss'])\n",
    "plt.plot(history.history['val_loss'])"
   ]
  },
  {
   "cell_type": "code",
   "execution_count": 31,
   "id": "a988e515",
   "metadata": {
    "execution": {
     "iopub.execute_input": "2023-10-23T17:33:57.660914Z",
     "iopub.status.busy": "2023-10-23T17:33:57.660455Z",
     "iopub.status.idle": "2023-10-23T17:33:58.035227Z",
     "shell.execute_reply": "2023-10-23T17:33:58.032740Z"
    },
    "papermill": {
     "duration": 0.413316,
     "end_time": "2023-10-23T17:33:58.038611",
     "exception": false,
     "start_time": "2023-10-23T17:33:57.625295",
     "status": "completed"
    },
    "tags": []
   },
   "outputs": [
    {
     "data": {
      "text/plain": [
       "[<matplotlib.lines.Line2D at 0x7f861028fb80>]"
      ]
     },
     "execution_count": 31,
     "metadata": {},
     "output_type": "execute_result"
    },
    {
     "data": {
      "image/png": "[encoded data removed]",
      "text/plain": [
       "<Figure size 640x480 with 1 Axes>"
      ]
     },
     "metadata": {},
     "output_type": "display_data"
    }
   ],
   "source": [
    "plt.plot(history.history['accuracy'])\n",
    "plt.plot(history.history['val_accuracy'])"
   ]
  },
  {
   "cell_type": "code",
   "execution_count": null,
   "id": "5f77ad1e",
   "metadata": {
    "papermill": {
     "duration": 0.033616,
     "end_time": "2023-10-23T17:33:58.106370",
     "exception": false,
     "start_time": "2023-10-23T17:33:58.072754",
     "status": "completed"
    },
    "tags": []
   },
   "outputs": [],
   "source": []
  }
 ],
 "metadata": {
  "kernelspec": {
   "display_name": "Python 3",
   "language": "python",
   "name": "python3"
  },
  "language_info": {
   "codemirror_mode": {
    "name": "ipython",
    "version": 3
   },
   "file_extension": ".py",
   "mimetype": "text/x-python",
   "name": "python",
   "nbconvert_exporter": "python",
   "pygments_lexer": "ipython3",
   "version": "3.10.12"
  },
  "papermill": {
   "default_parameters": {},
   "duration": 35.827381,
   "end_time": "2023-10-23T17:34:01.084077",
   "environment_variables": {},
   "exception": null,
   "input_path": "__notebook__.ipynb",
   "output_path": "__notebook__.ipynb",
   "parameters": {},
   "start_time": "2023-10-23T17:33:25.256696",
   "version": "2.4.0"
  }
 },
 "nbformat": 4,
 "nbformat_minor": 5
}
